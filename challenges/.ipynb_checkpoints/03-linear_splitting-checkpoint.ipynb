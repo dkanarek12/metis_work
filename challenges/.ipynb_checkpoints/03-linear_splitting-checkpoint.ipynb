{
 "cells": [
  {
   "cell_type": "markdown",
   "metadata": {},
   "source": [
    "## Challenge Set 3 \n",
    "## Topic:        Linear Splitting \n",
    "## Date:         05/02/16 \n",
    "## Name:         David Kanarek \n",
    "## Worked with:  other student's name  "
   ]
  },
  {
   "cell_type": "code",
   "execution_count": 1,
   "metadata": {
    "collapsed": false
   },
   "outputs": [
    {
     "data": {
      "text/html": [
       "<div>\n",
       "<table border=\"1\" class=\"dataframe\">\n",
       "  <thead>\n",
       "    <tr style=\"text-align: right;\">\n",
       "      <th></th>\n",
       "      <th>Title</th>\n",
       "      <th>Budget</th>\n",
       "      <th>DomesticTotalGross</th>\n",
       "      <th>Director</th>\n",
       "      <th>Rating</th>\n",
       "      <th>Runtime</th>\n",
       "      <th>ReleaseDate</th>\n",
       "      <th>Intercept</th>\n",
       "    </tr>\n",
       "  </thead>\n",
       "  <tbody>\n",
       "    <tr>\n",
       "      <th>0</th>\n",
       "      <td>The Hunger Games: Catching Fire</td>\n",
       "      <td>130000000</td>\n",
       "      <td>424668047</td>\n",
       "      <td>Francis Lawrence</td>\n",
       "      <td>PG-13</td>\n",
       "      <td>146</td>\n",
       "      <td>2013-11-22 00:00:00</td>\n",
       "      <td>1</td>\n",
       "    </tr>\n",
       "    <tr>\n",
       "      <th>1</th>\n",
       "      <td>Iron Man 3</td>\n",
       "      <td>200000000</td>\n",
       "      <td>409013994</td>\n",
       "      <td>Shane Black</td>\n",
       "      <td>PG-13</td>\n",
       "      <td>129</td>\n",
       "      <td>2013-05-03 00:00:00</td>\n",
       "      <td>1</td>\n",
       "    </tr>\n",
       "    <tr>\n",
       "      <th>2</th>\n",
       "      <td>Frozen</td>\n",
       "      <td>150000000</td>\n",
       "      <td>400738009</td>\n",
       "      <td>Chris BuckJennifer Lee</td>\n",
       "      <td>PG</td>\n",
       "      <td>108</td>\n",
       "      <td>2013-11-22 00:00:00</td>\n",
       "      <td>1</td>\n",
       "    </tr>\n",
       "    <tr>\n",
       "      <th>3</th>\n",
       "      <td>Despicable Me 2</td>\n",
       "      <td>76000000</td>\n",
       "      <td>368061265</td>\n",
       "      <td>Pierre CoffinChris Renaud</td>\n",
       "      <td>PG</td>\n",
       "      <td>98</td>\n",
       "      <td>2013-07-03 00:00:00</td>\n",
       "      <td>1</td>\n",
       "    </tr>\n",
       "    <tr>\n",
       "      <th>4</th>\n",
       "      <td>Man of Steel</td>\n",
       "      <td>225000000</td>\n",
       "      <td>291045518</td>\n",
       "      <td>Zack Snyder</td>\n",
       "      <td>PG-13</td>\n",
       "      <td>143</td>\n",
       "      <td>2013-06-14 00:00:00</td>\n",
       "      <td>1</td>\n",
       "    </tr>\n",
       "  </tbody>\n",
       "</table>\n",
       "</div>"
      ],
      "text/plain": [
       "                             Title     Budget  DomesticTotalGross  \\\n",
       "0  The Hunger Games: Catching Fire  130000000           424668047   \n",
       "1                       Iron Man 3  200000000           409013994   \n",
       "2                           Frozen  150000000           400738009   \n",
       "3                  Despicable Me 2   76000000           368061265   \n",
       "4                     Man of Steel  225000000           291045518   \n",
       "\n",
       "                    Director Rating  Runtime          ReleaseDate  Intercept  \n",
       "0           Francis Lawrence  PG-13      146  2013-11-22 00:00:00          1  \n",
       "1                Shane Black  PG-13      129  2013-05-03 00:00:00          1  \n",
       "2     Chris BuckJennifer Lee     PG      108  2013-11-22 00:00:00          1  \n",
       "3  Pierre CoffinChris Renaud     PG       98  2013-07-03 00:00:00          1  \n",
       "4                Zack Snyder  PG-13      143  2013-06-14 00:00:00          1  "
      ]
     },
     "execution_count": 1,
     "metadata": {},
     "output_type": "execute_result"
    }
   ],
   "source": [
    "import numpy as np\n",
    "import pandas as pd\n",
    "import matplotlib.pyplot as plt\n",
    "import pickle\n",
    "\n",
    "%matplotlib inline\n",
    "\n",
    "movie_data = pd.read_csv('moive_data.csv')\n",
    "movie_data['Intercept'] = np.ones(len(movie_data['DomesticTotalGross']))\n",
    "movie_data.head()"
   ]
  },
  {
   "cell_type": "code",
   "execution_count": 8,
   "metadata": {
    "collapsed": true
   },
   "outputs": [],
   "source": [
    "label =movie_data['DomesticTotalGross']\n",
    "features = movie_data[['Intercept']]"
   ]
  },
  {
   "cell_type": "markdown",
   "metadata": {},
   "source": [
    "### Challenge 1"
   ]
  },
  {
   "cell_type": "code",
   "execution_count": 9,
   "metadata": {
    "collapsed": false
   },
   "outputs": [
    {
     "data": {
      "text/plain": [
       "(array([ 47.,  21.,  15.,   3.,   3.,   4.,   3.,   0.,   1.,   3.]),\n",
       " array([ -7.50286242e+07,  -3.51186446e+07,   4.79133498e+06,\n",
       "          4.47013146e+07,   8.46112942e+07,   1.24521274e+08,\n",
       "          1.64431253e+08,   2.04341233e+08,   2.44251213e+08,\n",
       "          2.84161192e+08,   3.24071172e+08]),\n",
       " <a list of 10 Patch objects>)"
      ]
     },
     "execution_count": 9,
     "metadata": {},
     "output_type": "execute_result"
    },
    {
     "data": {
      "image/png": "[encoded data removed]",
      "text/plain": [
       "<matplotlib.figure.Figure at 0x7fec55503850>"
      ]
     },
     "metadata": {},
     "output_type": "display_data"
    }
   ],
   "source": [
    "X = np.array(features)\n",
    "y = np.array(label)\n",
    "\n",
    "from sklearn.linear_model import LinearRegression\n",
    "\n",
    "model = LinearRegression()\n",
    "results = model.fit(X,y)\n",
    "\n",
    "plt.figure(figsize=(10,3))\n",
    "\n",
    "plt.subplot(1,2,1)\n",
    "plt.scatter(results.predict(X),y)\n",
    "plt.title('  ', fontsize = 20)\n",
    "plt.xlabel('Prediction', fontsize=16)\n",
    "plt.ylabel('Actual', fontsize=16)\n",
    "\n",
    "plt.subplot(1,2,2)\n",
    "plt.hist(y-model.predict(X))\n",
    "\n",
    "\n"
   ]
  },
  {
   "cell_type": "code",
   "execution_count": 5,
   "metadata": {
    "collapsed": true
   },
   "outputs": [],
   "source": [
    "md = movie_data.dropna()\n",
    "label =md['DomesticTotalGross']\n",
    "features = md[['Intercept','Budget']]"
   ]
  },
  {
   "cell_type": "markdown",
   "metadata": {},
   "source": [
    "## Challenge 2"
   ]
  },
  {
   "cell_type": "code",
   "execution_count": 7,
   "metadata": {
    "collapsed": false
   },
   "outputs": [
    {
     "data": {
      "text/plain": [
       "(array([  4.,   7.,  28.,  26.,  11.,   6.,   1.,   0.,   1.,   3.]),\n",
       " array([ -1.43102776e+08,  -1.00948471e+08,  -5.87941663e+07,\n",
       "         -1.66398616e+07,   2.55144431e+07,   6.76687478e+07,\n",
       "          1.09823052e+08,   1.51977357e+08,   1.94131662e+08,\n",
       "          2.36285967e+08,   2.78440271e+08]),\n",
       " <a list of 10 Patch objects>)"
      ]
     },
     "execution_count": 7,
     "metadata": {},
     "output_type": "execute_result"
    },
    {
     "data": {
      "image/png": "[encoded data removed]",
      "text/plain": [
       "<matplotlib.figure.Figure at 0x7fec42bcb7d0>"
      ]
     },
     "metadata": {},
     "output_type": "display_data"
    }
   ],
   "source": [
    "X = np.array(features)\n",
    "y = np.array(label)\n",
    "\n",
    "model = LinearRegression()\n",
    "results = model.fit(X,y)\n",
    "\n",
    "plt.figure(figsize=(10,3))\n",
    "\n",
    "plt.subplot(1,2,1)\n",
    "plt.scatter(results.predict(features),label)\n",
    "plt.title('  ', fontsize = 20)\n",
    "plt.xlabel('Prediction', fontsize=16)\n",
    "plt.ylabel('Actual', fontsize=16)\n",
    "\n",
    "plt.subplot(1,2,2)\n",
    "plt.hist(y-model.predict(X))\n",
    "\n",
    "\n"
   ]
  },
  {
   "cell_type": "markdown",
   "metadata": {
    "collapsed": true
   },
   "source": [
    "## Challenge 3"
   ]
  },
  {
   "cell_type": "code",
   "execution_count": 13,
   "metadata": {
    "collapsed": false
   },
   "outputs": [
    {
     "name": "stderr",
     "output_type": "stream",
     "text": [
      "/home/dkanarek/anaconda2/lib/python2.7/site-packages/ipykernel/__main__.py:1: SettingWithCopyWarning: \n",
      "A value is trying to be set on a copy of a slice from a DataFrame.\n",
      "Try using .loc[row_indexer,col_indexer] = value instead\n",
      "\n",
      "See the caveats in the documentation: http://pandas.pydata.org/pandas-docs/stable/indexing.html#indexing-view-versus-copy\n",
      "  if __name__ == '__main__':\n",
      "/home/dkanarek/anaconda2/lib/python2.7/site-packages/ipykernel/__main__.py:2: SettingWithCopyWarning: \n",
      "A value is trying to be set on a copy of a slice from a DataFrame.\n",
      "Try using .loc[row_indexer,col_indexer] = value instead\n",
      "\n",
      "See the caveats in the documentation: http://pandas.pydata.org/pandas-docs/stable/indexing.html#indexing-view-versus-copy\n",
      "  from ipykernel import kernelapp as app\n",
      "/home/dkanarek/anaconda2/lib/python2.7/site-packages/ipykernel/__main__.py:3: SettingWithCopyWarning: \n",
      "A value is trying to be set on a copy of a slice from a DataFrame.\n",
      "Try using .loc[row_indexer,col_indexer] = value instead\n",
      "\n",
      "See the caveats in the documentation: http://pandas.pydata.org/pandas-docs/stable/indexing.html#indexing-view-versus-copy\n",
      "  app.launch_new_instance()\n",
      "/home/dkanarek/anaconda2/lib/python2.7/site-packages/ipykernel/__main__.py:4: SettingWithCopyWarning: \n",
      "A value is trying to be set on a copy of a slice from a DataFrame.\n",
      "Try using .loc[row_indexer,col_indexer] = value instead\n",
      "\n",
      "See the caveats in the documentation: http://pandas.pydata.org/pandas-docs/stable/indexing.html#indexing-view-versus-copy\n"
     ]
    },
    {
     "data": {
      "text/plain": [
       "(array([  4.,  10.,  28.,  24.,  10.,   6.,   1.,   0.,   2.,   2.]),\n",
       " array([ -1.38865140e+08,  -9.67218961e+07,  -5.45786526e+07,\n",
       "         -1.24354092e+07,   2.97078343e+07,   7.18510777e+07,\n",
       "          1.13994321e+08,   1.56137565e+08,   1.98280808e+08,\n",
       "          2.40424052e+08,   2.82567295e+08]),\n",
       " <a list of 10 Patch objects>)"
      ]
     },
     "execution_count": 13,
     "metadata": {},
     "output_type": "execute_result"
    },
    {
     "data": {
      "image/png": "[encoded data removed]",
      "text/plain": [
       "<matplotlib.figure.Figure at 0x7fec41483910>"
      ]
     },
     "metadata": {},
     "output_type": "display_data"
    }
   ],
   "source": [
    "md['PG'] = md['Rating']=='PG'\n",
    "md['PG-13'] = md['Rating']=='PG-13'\n",
    "md['R'] = md['Rating']=='R'\n",
    "md['G'] = md['Rating']=='G'\n",
    "\n",
    "label =md['DomesticTotalGross']\n",
    "features = md[['Intercept','Budget','PG','PG-13','R','G']]\n",
    "\n",
    "X = np.array(features)\n",
    "y = np.array(label)\n",
    "\n",
    "model = LinearRegression()\n",
    "results = model.fit(X,y)\n",
    "\n",
    "plt.figure(figsize=(10,3))\n",
    "\n",
    "plt.subplot(1,2,1)\n",
    "plt.scatter(results.predict(features),label)\n",
    "plt.title('  ', fontsize = 20)\n",
    "plt.xlabel('Prediction', fontsize=16)\n",
    "plt.ylabel('Actual', fontsize=16)\n",
    "\n",
    "plt.subplot(1,2,2)\n",
    "plt.hist(y-model.predict(X))\n"
   ]
  },
  {
   "cell_type": "markdown",
   "metadata": {},
   "source": [
    "## Challenge 4"
   ]
  },
  {
   "cell_type": "code",
   "execution_count": 14,
   "metadata": {
    "collapsed": false
   },
   "outputs": [
    {
     "data": {
      "text/plain": [
       "(array([  3.,  11.,  26.,  24.,  13.,   5.,   0.,   1.,   2.,   2.]),\n",
       " array([ -1.38425946e+08,  -9.78531694e+07,  -5.72803924e+07,\n",
       "         -1.67076154e+07,   2.38651616e+07,   6.44379385e+07,\n",
       "          1.05010716e+08,   1.45583493e+08,   1.86156270e+08,\n",
       "          2.26729046e+08,   2.67301823e+08]),\n",
       " <a list of 10 Patch objects>)"
      ]
     },
     "execution_count": 14,
     "metadata": {},
     "output_type": "execute_result"
    },
    {
     "data": {
      "image/png": "[encoded data removed]",
      "text/plain": [
       "<matplotlib.figure.Figure at 0x7fec418b6290>"
      ]
     },
     "metadata": {},
     "output_type": "display_data"
    }
   ],
   "source": [
    "label =md['DomesticTotalGross']\n",
    "features = md[['Intercept','Budget','PG','PG-13','R','G','Runtime']]\n",
    "\n",
    "X = np.array(features)\n",
    "y = np.array(label)\n",
    "\n",
    "model = LinearRegression()\n",
    "results = model.fit(X,y)\n",
    "\n",
    "plt.figure(figsize=(10,3))\n",
    "\n",
    "plt.subplot(1,2,1)\n",
    "plt.scatter(results.predict(features),label)\n",
    "plt.title('  ', fontsize = 20)\n",
    "plt.xlabel('Prediction', fontsize=16)\n",
    "plt.ylabel('Actual', fontsize=16)\n",
    "\n",
    "plt.subplot(1,2,2)\n",
    "plt.hist(y-model.predict(X))\n"
   ]
  },
  {
   "cell_type": "markdown",
   "metadata": {},
   "source": [
    "## Challenge 5"
   ]
  },
  {
   "cell_type": "code",
   "execution_count": 16,
   "metadata": {
    "collapsed": false
   },
   "outputs": [
    {
     "data": {
      "text/plain": [
       "(array([ 1.,  0.,  0.,  1.,  1.,  3.,  6.,  6.,  3.,  1.]),\n",
       " array([ -1.38425946e+08,  -1.23474825e+08,  -1.08523704e+08,\n",
       "         -9.35725822e+07,  -7.86214608e+07,  -6.36703394e+07,\n",
       "         -4.87192180e+07,  -3.37680966e+07,  -1.88169752e+07,\n",
       "         -3.86585379e+06,   1.10852676e+07]),\n",
       " <a list of 10 Patch objects>)"
      ]
     },
     "execution_count": 16,
     "metadata": {},
     "output_type": "execute_result"
    },
    {
     "data": {
      "image/png": "[encoded data removed]",
      "text/plain": [
       "<matplotlib.figure.Figure at 0x7fec42197810>"
      ]
     },
     "metadata": {},
     "output_type": "display_data"
    }
   ],
   "source": [
    "label =md['DomesticTotalGross']\n",
    "features = md[['Intercept','Budget','PG','PG-13','R','G','Runtime']]\n",
    "\n",
    "X_train = np.array(features[:65])\n",
    "y_train = np.array(label[:65])\n",
    "\n",
    "X_test = np.array(features[65:])\n",
    "y_test = np.array(label[65:])\n",
    "\n",
    "model = LinearRegression()\n",
    "results = model.fit(X,y)\n",
    "\n",
    "plt.figure(figsize=(10,3))\n",
    "\n",
    "plt.subplot(1,2,1)\n",
    "plt.scatter(results.predict(X_test),y_test)\n",
    "plt.title('  ', fontsize = 20)\n",
    "plt.xlabel('Prediction', fontsize=16)\n",
    "plt.ylabel('Actual', fontsize=16)\n",
    "\n",
    "plt.subplot(1,2,2)\n",
    "plt.hist(y_test-model.predict(X_test))\n"
   ]
  },
  {
   "cell_type": "code",
   "execution_count": null,
   "metadata": {
    "collapsed": true
   },
   "outputs": [],
   "source": []
  }
 ],
 "metadata": {
  "kernelspec": {
   "display_name": "Python 2",
   "language": "python",
   "name": "python2"
  },
  "language_info": {
   "codemirror_mode": {
    "name": "ipython",
    "version": 2
   },
   "file_extension": ".py",
   "mimetype": "text/x-python",
   "name": "python",
   "nbconvert_exporter": "python",
   "pygments_lexer": "ipython2",
   "version": "2.7.11"
  }
 },
 "nbformat": 4,
 "nbformat_minor": 0
}
