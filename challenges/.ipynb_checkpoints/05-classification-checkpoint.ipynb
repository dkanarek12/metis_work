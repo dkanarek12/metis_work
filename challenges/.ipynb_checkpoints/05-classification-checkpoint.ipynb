{
 "cells": [
  {
   "cell_type": "markdown",
   "metadata": {},
   "source": [
    "# Challenge Set 5\n",
    "# Topic: Classification\n",
    "# Date: 05/09/16\n",
    "# Name: David Kanarek\n",
    "# Worked with: other student's name"
   ]
  },
  {
   "cell_type": "code",
   "execution_count": 1,
   "metadata": {
    "collapsed": false
   },
   "outputs": [
    {
     "data": {
      "text/html": [
       "<div>\n",
       "<table border=\"1\" class=\"dataframe\">\n",
       "  <thead>\n",
       "    <tr style=\"text-align: right;\">\n",
       "      <th></th>\n",
       "      <th>Party</th>\n",
       "      <th>HC_Infants</th>\n",
       "      <th>Water_Cost_Sharing</th>\n",
       "      <th>Budget_Resolution</th>\n",
       "      <th>Dr_Fee_Freeze</th>\n",
       "      <th>SLV_Aid</th>\n",
       "      <th>Religious_in_Schools</th>\n",
       "      <th>Anti-Sat_Test_Ban</th>\n",
       "      <th>Aid_Contras</th>\n",
       "      <th>mx-missle</th>\n",
       "      <th>immigration</th>\n",
       "      <th>synfuels_cutback</th>\n",
       "      <th>ed_spending</th>\n",
       "      <th>superfund_sue</th>\n",
       "      <th>crime</th>\n",
       "      <th>duty_free</th>\n",
       "      <th>SA_export</th>\n",
       "    </tr>\n",
       "  </thead>\n",
       "  <tbody>\n",
       "    <tr>\n",
       "      <th>0</th>\n",
       "      <td>republican</td>\n",
       "      <td>n</td>\n",
       "      <td>y</td>\n",
       "      <td>n</td>\n",
       "      <td>y</td>\n",
       "      <td>y</td>\n",
       "      <td>y</td>\n",
       "      <td>n</td>\n",
       "      <td>n</td>\n",
       "      <td>n</td>\n",
       "      <td>y</td>\n",
       "      <td>?</td>\n",
       "      <td>y</td>\n",
       "      <td>y</td>\n",
       "      <td>y</td>\n",
       "      <td>n</td>\n",
       "      <td>y</td>\n",
       "    </tr>\n",
       "    <tr>\n",
       "      <th>1</th>\n",
       "      <td>republican</td>\n",
       "      <td>n</td>\n",
       "      <td>y</td>\n",
       "      <td>n</td>\n",
       "      <td>y</td>\n",
       "      <td>y</td>\n",
       "      <td>y</td>\n",
       "      <td>n</td>\n",
       "      <td>n</td>\n",
       "      <td>n</td>\n",
       "      <td>n</td>\n",
       "      <td>n</td>\n",
       "      <td>y</td>\n",
       "      <td>y</td>\n",
       "      <td>y</td>\n",
       "      <td>n</td>\n",
       "      <td>?</td>\n",
       "    </tr>\n",
       "    <tr>\n",
       "      <th>2</th>\n",
       "      <td>democrat</td>\n",
       "      <td>?</td>\n",
       "      <td>y</td>\n",
       "      <td>y</td>\n",
       "      <td>?</td>\n",
       "      <td>y</td>\n",
       "      <td>y</td>\n",
       "      <td>n</td>\n",
       "      <td>n</td>\n",
       "      <td>n</td>\n",
       "      <td>n</td>\n",
       "      <td>y</td>\n",
       "      <td>n</td>\n",
       "      <td>y</td>\n",
       "      <td>y</td>\n",
       "      <td>n</td>\n",
       "      <td>n</td>\n",
       "    </tr>\n",
       "    <tr>\n",
       "      <th>3</th>\n",
       "      <td>democrat</td>\n",
       "      <td>n</td>\n",
       "      <td>y</td>\n",
       "      <td>y</td>\n",
       "      <td>n</td>\n",
       "      <td>?</td>\n",
       "      <td>y</td>\n",
       "      <td>n</td>\n",
       "      <td>n</td>\n",
       "      <td>n</td>\n",
       "      <td>n</td>\n",
       "      <td>y</td>\n",
       "      <td>n</td>\n",
       "      <td>y</td>\n",
       "      <td>n</td>\n",
       "      <td>n</td>\n",
       "      <td>y</td>\n",
       "    </tr>\n",
       "    <tr>\n",
       "      <th>4</th>\n",
       "      <td>democrat</td>\n",
       "      <td>y</td>\n",
       "      <td>y</td>\n",
       "      <td>y</td>\n",
       "      <td>n</td>\n",
       "      <td>y</td>\n",
       "      <td>y</td>\n",
       "      <td>n</td>\n",
       "      <td>n</td>\n",
       "      <td>n</td>\n",
       "      <td>n</td>\n",
       "      <td>y</td>\n",
       "      <td>?</td>\n",
       "      <td>y</td>\n",
       "      <td>y</td>\n",
       "      <td>y</td>\n",
       "      <td>y</td>\n",
       "    </tr>\n",
       "  </tbody>\n",
       "</table>\n",
       "</div>"
      ],
      "text/plain": [
       "        Party HC_Infants Water_Cost_Sharing Budget_Resolution Dr_Fee_Freeze  \\\n",
       "0  republican          n                  y                 n             y   \n",
       "1  republican          n                  y                 n             y   \n",
       "2    democrat          ?                  y                 y             ?   \n",
       "3    democrat          n                  y                 y             n   \n",
       "4    democrat          y                  y                 y             n   \n",
       "\n",
       "  SLV_Aid Religious_in_Schools Anti-Sat_Test_Ban Aid_Contras mx-missle  \\\n",
       "0       y                    y                 n           n         n   \n",
       "1       y                    y                 n           n         n   \n",
       "2       y                    y                 n           n         n   \n",
       "3       ?                    y                 n           n         n   \n",
       "4       y                    y                 n           n         n   \n",
       "\n",
       "  immigration synfuels_cutback ed_spending superfund_sue crime duty_free  \\\n",
       "0           y                ?           y             y     y         n   \n",
       "1           n                n           y             y     y         n   \n",
       "2           n                y           n             y     y         n   \n",
       "3           n                y           n             y     n         n   \n",
       "4           n                y           ?             y     y         y   \n",
       "\n",
       "  SA_export  \n",
       "0         y  \n",
       "1         ?  \n",
       "2         n  \n",
       "3         y  \n",
       "4         y  "
      ]
     },
     "execution_count": 1,
     "metadata": {},
     "output_type": "execute_result"
    }
   ],
   "source": [
    "import pandas as pd\n",
    "\n",
    "columns = ['Party','HC_Infants','Water_Cost_Sharing',\n",
    "           'Budget_Resolution','Dr_Fee_Freeze','SLV_Aid',\n",
    "           'Religious_in_Schools','Anti-Sat_Test_Ban','Aid_Contras',\n",
    "           'mx-missle','immigration','synfuels_cutback','ed_spending',\n",
    "           'superfund_sue','crime','duty_free', 'SA_export'\n",
    "          ]\n",
    "\n",
    "voting_data = pd.read_csv('congressional_voting_records.csv', \n",
    "                          header = None, names = columns)\n",
    "\n",
    "voting_data.head()"
   ]
  },
  {
   "cell_type": "markdown",
   "metadata": {},
   "source": [
    "## Challenge 1"
   ]
  },
  {
   "cell_type": "code",
   "execution_count": 2,
   "metadata": {
    "collapsed": false
   },
   "outputs": [
    {
     "data": {
      "text/html": [
       "<div>\n",
       "<table border=\"1\" class=\"dataframe\">\n",
       "  <thead>\n",
       "    <tr style=\"text-align: right;\">\n",
       "      <th></th>\n",
       "      <th>Party</th>\n",
       "      <th>HC_Infants</th>\n",
       "      <th>Water_Cost_Sharing</th>\n",
       "      <th>Budget_Resolution</th>\n",
       "      <th>Dr_Fee_Freeze</th>\n",
       "      <th>SLV_Aid</th>\n",
       "      <th>Religious_in_Schools</th>\n",
       "      <th>Anti-Sat_Test_Ban</th>\n",
       "      <th>Aid_Contras</th>\n",
       "      <th>mx-missle</th>\n",
       "      <th>immigration</th>\n",
       "      <th>synfuels_cutback</th>\n",
       "      <th>ed_spending</th>\n",
       "      <th>superfund_sue</th>\n",
       "      <th>crime</th>\n",
       "      <th>duty_free</th>\n",
       "      <th>SA_export</th>\n",
       "    </tr>\n",
       "  </thead>\n",
       "  <tbody>\n",
       "    <tr>\n",
       "      <th>0</th>\n",
       "      <td>republican</td>\n",
       "      <td>0</td>\n",
       "      <td>1</td>\n",
       "      <td>0</td>\n",
       "      <td>1</td>\n",
       "      <td>1</td>\n",
       "      <td>1</td>\n",
       "      <td>0</td>\n",
       "      <td>0</td>\n",
       "      <td>0</td>\n",
       "      <td>1</td>\n",
       "      <td>0.362</td>\n",
       "      <td>1</td>\n",
       "      <td>1</td>\n",
       "      <td>1</td>\n",
       "      <td>0</td>\n",
       "      <td>1</td>\n",
       "    </tr>\n",
       "    <tr>\n",
       "      <th>1</th>\n",
       "      <td>republican</td>\n",
       "      <td>0</td>\n",
       "      <td>1</td>\n",
       "      <td>0</td>\n",
       "      <td>1</td>\n",
       "      <td>1</td>\n",
       "      <td>1</td>\n",
       "      <td>0</td>\n",
       "      <td>0</td>\n",
       "      <td>0</td>\n",
       "      <td>0</td>\n",
       "      <td>0</td>\n",
       "      <td>1</td>\n",
       "      <td>1</td>\n",
       "      <td>1</td>\n",
       "      <td>0</td>\n",
       "      <td>0.813</td>\n",
       "    </tr>\n",
       "    <tr>\n",
       "      <th>2</th>\n",
       "      <td>democrat</td>\n",
       "      <td>0.442</td>\n",
       "      <td>1</td>\n",
       "      <td>1</td>\n",
       "      <td>0.417</td>\n",
       "      <td>1</td>\n",
       "      <td>1</td>\n",
       "      <td>0</td>\n",
       "      <td>0</td>\n",
       "      <td>0</td>\n",
       "      <td>0</td>\n",
       "      <td>1</td>\n",
       "      <td>0</td>\n",
       "      <td>1</td>\n",
       "      <td>1</td>\n",
       "      <td>0</td>\n",
       "      <td>0</td>\n",
       "    </tr>\n",
       "    <tr>\n",
       "      <th>3</th>\n",
       "      <td>democrat</td>\n",
       "      <td>0</td>\n",
       "      <td>1</td>\n",
       "      <td>1</td>\n",
       "      <td>0</td>\n",
       "      <td>0.505</td>\n",
       "      <td>1</td>\n",
       "      <td>0</td>\n",
       "      <td>0</td>\n",
       "      <td>0</td>\n",
       "      <td>0</td>\n",
       "      <td>1</td>\n",
       "      <td>0</td>\n",
       "      <td>1</td>\n",
       "      <td>0</td>\n",
       "      <td>0</td>\n",
       "      <td>1</td>\n",
       "    </tr>\n",
       "    <tr>\n",
       "      <th>4</th>\n",
       "      <td>democrat</td>\n",
       "      <td>1</td>\n",
       "      <td>1</td>\n",
       "      <td>1</td>\n",
       "      <td>0</td>\n",
       "      <td>1</td>\n",
       "      <td>1</td>\n",
       "      <td>0</td>\n",
       "      <td>0</td>\n",
       "      <td>0</td>\n",
       "      <td>0</td>\n",
       "      <td>1</td>\n",
       "      <td>0.423</td>\n",
       "      <td>1</td>\n",
       "      <td>1</td>\n",
       "      <td>1</td>\n",
       "      <td>1</td>\n",
       "    </tr>\n",
       "  </tbody>\n",
       "</table>\n",
       "</div>"
      ],
      "text/plain": [
       "        Party HC_Infants Water_Cost_Sharing Budget_Resolution Dr_Fee_Freeze  \\\n",
       "0  republican          0                  1                 0             1   \n",
       "1  republican          0                  1                 0             1   \n",
       "2    democrat      0.442                  1                 1         0.417   \n",
       "3    democrat          0                  1                 1             0   \n",
       "4    democrat          1                  1                 1             0   \n",
       "\n",
       "  SLV_Aid Religious_in_Schools Anti-Sat_Test_Ban Aid_Contras mx-missle  \\\n",
       "0       1                    1                 0           0         0   \n",
       "1       1                    1                 0           0         0   \n",
       "2       1                    1                 0           0         0   \n",
       "3   0.505                    1                 0           0         0   \n",
       "4       1                    1                 0           0         0   \n",
       "\n",
       "  immigration synfuels_cutback ed_spending superfund_sue crime duty_free  \\\n",
       "0           1            0.362           1             1     1         0   \n",
       "1           0                0           1             1     1         0   \n",
       "2           0                1           0             1     1         0   \n",
       "3           0                1           0             1     0         0   \n",
       "4           0                1       0.423             1     1         1   \n",
       "\n",
       "  SA_export  \n",
       "0         1  \n",
       "1     0.813  \n",
       "2         0  \n",
       "3         1  \n",
       "4         1  "
      ]
     },
     "execution_count": 2,
     "metadata": {},
     "output_type": "execute_result"
    }
   ],
   "source": [
    "mapping_dict = {'y': 1, 'n': 0, '?':'?'}\n",
    "\n",
    "for i in voting_data.columns[1:]:\n",
    "    no_count = voting_data[voting_data[i]=='n'].count()['Party']\n",
    "    yes_count = voting_data[voting_data[i]=='y'].count()['Party']\n",
    "    mapping_dict['?']=format(yes_count/float(no_count+yes_count),'.3f')\n",
    "    voting_data[i]=voting_data[i].map(mapping_dict)\n",
    "    \n",
    "voting_data.head()"
   ]
  },
  {
   "cell_type": "markdown",
   "metadata": {},
   "source": [
    "## Challenge 2"
   ]
  },
  {
   "cell_type": "code",
   "execution_count": 3,
   "metadata": {
    "collapsed": false
   },
   "outputs": [],
   "source": [
    "from sklearn.cross_validation import train_test_split as tts\n",
    "\n",
    "X_train, X_test, y_train, y_test = tts(voting_data[voting_data.columns[1:]], voting_data['Party'],\n",
    "                                                    test_size=0.33, random_state=42)"
   ]
  },
  {
   "cell_type": "markdown",
   "metadata": {},
   "source": [
    "## Challenge 3"
   ]
  },
  {
   "cell_type": "code",
   "execution_count": 4,
   "metadata": {
    "collapsed": false
   },
   "outputs": [],
   "source": [
    "from sklearn.neighbors import KNeighborsClassifier as knn\n",
    "from sklearn.metrics import accuracy_score\n",
    "\n",
    "accuracies = []\n",
    "r = range(1,21)\n",
    "for i in r:\n",
    "    neigh = knn(n_neighbors=i)\n",
    "    neigh.fit(X_train, y_train) \n",
    "    a = accuracy_score(neigh.predict(X_test),y_test)\n",
    "    accuracies.append(a)"
   ]
  },
  {
   "cell_type": "code",
   "execution_count": 5,
   "metadata": {
    "collapsed": false
   },
   "outputs": [
    {
     "data": {
      "text/plain": [
       "[<matplotlib.lines.Line2D at 0x7f3c1b6c7450>]"
      ]
     },
     "execution_count": 5,
     "metadata": {},
     "output_type": "execute_result"
    },
    {
     "data": {
      "image/png": "[encoded data removed]",
      "text/plain": [
       "<matplotlib.figure.Figure at 0x7f3c1db31e10>"
      ]
     },
     "metadata": {},
     "output_type": "display_data"
    }
   ],
   "source": [
    "import matplotlib.pyplot as plt\n",
    "%matplotlib inline\n",
    "\n",
    "plt.plot(r,accuracies)"
   ]
  },
  {
   "cell_type": "markdown",
   "metadata": {},
   "source": [
    "## Challenge 4"
   ]
  },
  {
   "cell_type": "code",
   "execution_count": 6,
   "metadata": {
    "collapsed": false
   },
   "outputs": [
    {
     "name": "stdout",
     "output_type": "stream",
     "text": [
      "0.972222222222\n"
     ]
    }
   ],
   "source": [
    "from sklearn.linear_model import LogisticRegression\n",
    "\n",
    "model = LogisticRegression()\n",
    "results = model.fit(X_train,y_train)\n",
    "\n",
    "print accuracy_score(results.predict(X_test),y_test)"
   ]
  },
  {
   "cell_type": "markdown",
   "metadata": {
    "collapsed": true
   },
   "source": [
    "## Challenge 5"
   ]
  },
  {
   "cell_type": "code",
   "execution_count": 15,
   "metadata": {
    "collapsed": false
   },
   "outputs": [
    {
     "data": {
      "text/plain": [
       "<Container object of 2 artists>"
      ]
     },
     "execution_count": 15,
     "metadata": {},
     "output_type": "execute_result"
    },
    {
     "data": {
      "image/png": "[encoded data removed]",
      "text/plain": [
       "<matplotlib.figure.Figure at 0x7f3c192511d0>"
      ]
     },
     "metadata": {},
     "output_type": "display_data"
    }
   ],
   "source": [
    "import numpy as np\n",
    "\n",
    "labels = ['Democrats','Republicans']\n",
    "party = [1,2]\n",
    "dems = voting_data['Party'].where(voting_data['Party']=='democrat').dropna()\n",
    "reps = voting_data['Party'].where(voting_data['Party']=='republican').dropna()\n",
    "y = [len(dems),len(reps)]\n",
    "plt.xticks(party, labels)\n",
    "plt.bar(party,y)"
   ]
  },
  {
   "cell_type": "code",
   "execution_count": 24,
   "metadata": {
    "collapsed": false
   },
   "outputs": [
    {
     "name": "stdout",
     "output_type": "stream",
     "text": [
      "0.613793103448\n",
      "0.386206896552\n"
     ]
    }
   ],
   "source": [
    "def dem_predictor(X):\n",
    "    length = X.shape[0]\n",
    "    return np.array(['democrat']*length)\n",
    "\n",
    "def rep_predictor(X):\n",
    "    length = X.shape[0]\n",
    "    return np.array(['republican']*length)\n",
    "\n",
    "def percent_match(x1,x2):\n",
    "    count = 0\n",
    "    for i in range(len(x1)):\n",
    "        if x1[i]==x2[i]:\n",
    "            count += 1\n",
    "    return count/float(len(x1))\n",
    "\n",
    "print percent_match(dem_predictor(voting_data),np.array(voting_data['Party']))\n",
    "print percent_match(rep_predictor(voting_data),np.array(voting_data['Party']))"
   ]
  },
  {
   "cell_type": "markdown",
   "metadata": {},
   "source": [
    "## Challenge 7"
   ]
  },
  {
   "cell_type": "code",
   "execution_count": 29,
   "metadata": {
    "collapsed": false
   },
   "outputs": [
    {
     "data": {
      "text/plain": [
       "[<matplotlib.lines.Line2D at 0x7f3c18f3e8d0>]"
      ]
     },
     "execution_count": 29,
     "metadata": {},
     "output_type": "execute_result"
    },
    {
     "data": {
      "image/png": "[encoded data removed]",
      "text/plain": [
       "<matplotlib.figure.Figure at 0x7f3c191feed0>"
      ]
     },
     "metadata": {},
     "output_type": "display_data"
    }
   ],
   "source": [
    "from sklearn.learning_curve import learning_curve\n",
    "X = np.array(voting_data[voting_data.columns[1:]])\n",
    "y = np.array(voting_data['Party'])\n",
    "\n",
    "num, train_err, ts_err = learning_curve(model,X, y)\n",
    "train_cv_err = np.mean(train_err, axis=1)\n",
    "test_cv_err = np.mean(ts_err, axis=1)\n",
    "\n",
    "plt.plot(num,train_cv_err)\n",
    "plt.plot(num,test_cv_err)"
   ]
  },
  {
   "cell_type": "markdown",
   "metadata": {},
   "source": [
    "## Challenge 8"
   ]
  },
  {
   "cell_type": "code",
   "execution_count": 31,
   "metadata": {
    "collapsed": false
   },
   "outputs": [
    {
     "name": "stdout",
     "output_type": "stream",
     "text": [
      "NB:  0.930555555556\n",
      "SVC:  0.965277777778\n",
      "DT:  0.958333333333\n",
      "RF:  0.965277777778\n"
     ]
    }
   ],
   "source": [
    "from sklearn.naive_bayes import GaussianNB\n",
    "from sklearn.svm import SVC\n",
    "from sklearn.tree import DecisionTreeClassifier\n",
    "from sklearn.ensemble import RandomForestClassifier\n",
    "\n",
    "model = GaussianNB()\n",
    "results = model.fit(X_train,y_train)\n",
    "\n",
    "print 'NB: ', accuracy_score(results.predict(X_test),y_test)\n",
    "\n",
    "model = SVC()\n",
    "results = model.fit(X_train,y_train)\n",
    "\n",
    "print 'SVC: ', accuracy_score(results.predict(X_test),y_test)\n",
    "\n",
    "model = DecisionTreeClassifier()\n",
    "results = model.fit(X_train,y_train)\n",
    "\n",
    "print 'DT: ', accuracy_score(results.predict(X_test),y_test)\n",
    "\n",
    "model = RandomForestClassifier()\n",
    "results = model.fit(X_train,y_train)\n",
    "\n",
    "print 'RF: ', accuracy_score(results.predict(X_test),y_test)"
   ]
  },
  {
   "cell_type": "markdown",
   "metadata": {},
   "source": [
    "## Challenge 9"
   ]
  },
  {
   "cell_type": "code",
   "execution_count": 35,
   "metadata": {
    "collapsed": false
   },
   "outputs": [
    {
     "name": "stdout",
     "output_type": "stream",
     "text": [
      " NB:  0.931034482759\n",
      "SVC:  0.954022988506\n",
      "DT:  0.947126436782\n",
      "RF:  0.954022988506\n"
     ]
    }
   ],
   "source": [
    "from sklearn.cross_validation import cross_val_score\n",
    "\n",
    "model = GaussianNB()\n",
    "\n",
    "print 'NB: ', np.mean(cross_val_score(model,X, y))\n",
    "\n",
    "model = SVC()\n",
    "\n",
    "print 'SVC: ', np.mean(cross_val_score(model,X, y))\n",
    "\n",
    "model = DecisionTreeClassifier()\n",
    "\n",
    "print 'DT: ', np.mean(cross_val_score(model,X, y))\n",
    "\n",
    "model = RandomForestClassifier()\n",
    "\n",
    "print 'RF: ', np.mean(cross_val_score(model,X, y))"
   ]
  },
  {
   "cell_type": "markdown",
   "metadata": {},
   "source": [
    "## Challenge 10"
   ]
  },
  {
   "cell_type": "code",
   "execution_count": 36,
   "metadata": {
    "collapsed": false
   },
   "outputs": [
    {
     "data": {
      "text/html": [
       "<div>\n",
       "<table border=\"1\" class=\"dataframe\">\n",
       "  <thead>\n",
       "    <tr style=\"text-align: right;\">\n",
       "      <th></th>\n",
       "      <th>Party</th>\n",
       "      <th>HC_Infants</th>\n",
       "      <th>Water_Cost_Sharing</th>\n",
       "      <th>Budget_Resolution</th>\n",
       "      <th>Dr_Fee_Freeze</th>\n",
       "      <th>SLV_Aid</th>\n",
       "      <th>Religious_in_Schools</th>\n",
       "      <th>Anti-Sat_Test_Ban</th>\n",
       "      <th>Aid_Contras</th>\n",
       "      <th>mx-missle</th>\n",
       "      <th>immigration</th>\n",
       "      <th>synfuels_cutback</th>\n",
       "      <th>ed_spending</th>\n",
       "      <th>superfund_sue</th>\n",
       "      <th>crime</th>\n",
       "      <th>duty_free</th>\n",
       "      <th>SA_export</th>\n",
       "    </tr>\n",
       "  </thead>\n",
       "  <tbody>\n",
       "    <tr>\n",
       "      <th>0</th>\n",
       "      <td>republican</td>\n",
       "      <td>0</td>\n",
       "      <td>1</td>\n",
       "      <td>0</td>\n",
       "      <td>1</td>\n",
       "      <td>1</td>\n",
       "      <td>1</td>\n",
       "      <td>0</td>\n",
       "      <td>0</td>\n",
       "      <td>0</td>\n",
       "      <td>1</td>\n",
       "      <td>0</td>\n",
       "      <td>1</td>\n",
       "      <td>1</td>\n",
       "      <td>1</td>\n",
       "      <td>0</td>\n",
       "      <td>1</td>\n",
       "    </tr>\n",
       "    <tr>\n",
       "      <th>1</th>\n",
       "      <td>republican</td>\n",
       "      <td>0</td>\n",
       "      <td>1</td>\n",
       "      <td>0</td>\n",
       "      <td>1</td>\n",
       "      <td>1</td>\n",
       "      <td>1</td>\n",
       "      <td>0</td>\n",
       "      <td>0</td>\n",
       "      <td>0</td>\n",
       "      <td>0</td>\n",
       "      <td>0</td>\n",
       "      <td>1</td>\n",
       "      <td>1</td>\n",
       "      <td>1</td>\n",
       "      <td>0</td>\n",
       "      <td>1</td>\n",
       "    </tr>\n",
       "    <tr>\n",
       "      <th>2</th>\n",
       "      <td>democrat</td>\n",
       "      <td>0</td>\n",
       "      <td>1</td>\n",
       "      <td>1</td>\n",
       "      <td>0</td>\n",
       "      <td>1</td>\n",
       "      <td>1</td>\n",
       "      <td>0</td>\n",
       "      <td>0</td>\n",
       "      <td>0</td>\n",
       "      <td>0</td>\n",
       "      <td>1</td>\n",
       "      <td>0</td>\n",
       "      <td>1</td>\n",
       "      <td>1</td>\n",
       "      <td>0</td>\n",
       "      <td>0</td>\n",
       "    </tr>\n",
       "    <tr>\n",
       "      <th>3</th>\n",
       "      <td>democrat</td>\n",
       "      <td>0</td>\n",
       "      <td>1</td>\n",
       "      <td>1</td>\n",
       "      <td>0</td>\n",
       "      <td>1</td>\n",
       "      <td>1</td>\n",
       "      <td>0</td>\n",
       "      <td>0</td>\n",
       "      <td>0</td>\n",
       "      <td>0</td>\n",
       "      <td>1</td>\n",
       "      <td>0</td>\n",
       "      <td>1</td>\n",
       "      <td>0</td>\n",
       "      <td>0</td>\n",
       "      <td>1</td>\n",
       "    </tr>\n",
       "    <tr>\n",
       "      <th>4</th>\n",
       "      <td>democrat</td>\n",
       "      <td>1</td>\n",
       "      <td>1</td>\n",
       "      <td>1</td>\n",
       "      <td>0</td>\n",
       "      <td>1</td>\n",
       "      <td>1</td>\n",
       "      <td>0</td>\n",
       "      <td>0</td>\n",
       "      <td>0</td>\n",
       "      <td>0</td>\n",
       "      <td>1</td>\n",
       "      <td>0</td>\n",
       "      <td>1</td>\n",
       "      <td>1</td>\n",
       "      <td>1</td>\n",
       "      <td>1</td>\n",
       "    </tr>\n",
       "  </tbody>\n",
       "</table>\n",
       "</div>"
      ],
      "text/plain": [
       "        Party  HC_Infants  Water_Cost_Sharing  Budget_Resolution  \\\n",
       "0  republican           0                   1                  0   \n",
       "1  republican           0                   1                  0   \n",
       "2    democrat           0                   1                  1   \n",
       "3    democrat           0                   1                  1   \n",
       "4    democrat           1                   1                  1   \n",
       "\n",
       "   Dr_Fee_Freeze  SLV_Aid  Religious_in_Schools  Anti-Sat_Test_Ban  \\\n",
       "0              1        1                     1                  0   \n",
       "1              1        1                     1                  0   \n",
       "2              0        1                     1                  0   \n",
       "3              0        1                     1                  0   \n",
       "4              0        1                     1                  0   \n",
       "\n",
       "   Aid_Contras  mx-missle  immigration  synfuels_cutback  ed_spending  \\\n",
       "0            0          0            1                 0            1   \n",
       "1            0          0            0                 0            1   \n",
       "2            0          0            0                 1            0   \n",
       "3            0          0            0                 1            0   \n",
       "4            0          0            0                 1            0   \n",
       "\n",
       "   superfund_sue  crime  duty_free  SA_export  \n",
       "0              1      1          0          1  \n",
       "1              1      1          0          1  \n",
       "2              1      1          0          0  \n",
       "3              1      0          0          1  \n",
       "4              1      1          1          1  "
      ]
     },
     "execution_count": 36,
     "metadata": {},
     "output_type": "execute_result"
    }
   ],
   "source": [
    "import pandas as pd\n",
    "\n",
    "columns = ['Party','HC_Infants','Water_Cost_Sharing',\n",
    "           'Budget_Resolution','Dr_Fee_Freeze','SLV_Aid',\n",
    "           'Religious_in_Schools','Anti-Sat_Test_Ban','Aid_Contras',\n",
    "           'mx-missle','immigration','synfuels_cutback','ed_spending',\n",
    "           'superfund_sue','crime','duty_free', 'SA_export'\n",
    "          ]\n",
    "\n",
    "voting_data = pd.read_csv('congressional_voting_records.csv', \n",
    "                          header = None, names = columns)\n",
    "\n",
    "mapping_dict = {'y': 1, 'n': 0, '?':'?'}\n",
    "\n",
    "for i in voting_data.columns[1:]:\n",
    "    no_count = voting_data[voting_data[i]=='n'].count()['Party']\n",
    "    yes_count = voting_data[voting_data[i]=='y'].count()['Party']\n",
    "    mapping_dict['?']=int(yes_count/float(no_count+yes_count)+.5)\n",
    "    voting_data[i]=voting_data[i].map(mapping_dict)\n",
    "    \n",
    "voting_data.head()"
   ]
  },
  {
   "cell_type": "code",
   "execution_count": 37,
   "metadata": {
    "collapsed": false
   },
   "outputs": [
    {
     "name": "stdout",
     "output_type": "stream",
     "text": [
      "NB:  0.684937630119\n",
      "SVC:  0.680276290698\n",
      "DT:  0.618268339194\n",
      "RF:  0.618172553754\n"
     ]
    }
   ],
   "source": [
    "X = np.array(voting_data[voting_data.columns[2:]])\n",
    "y = np.array(voting_data['HC_Infants'])\n",
    "\n",
    "from sklearn.cross_validation import cross_val_score\n",
    "\n",
    "model = GaussianNB()\n",
    "\n",
    "print 'NB: ', np.mean(cross_val_score(model,X, y))\n",
    "\n",
    "model = SVC()\n",
    "\n",
    "print 'SVC: ', np.mean(cross_val_score(model,X, y))\n",
    "\n",
    "model = DecisionTreeClassifier()\n",
    "\n",
    "print 'DT: ', np.mean(cross_val_score(model,X, y))\n",
    "\n",
    "model = RandomForestClassifier()\n",
    "\n",
    "print 'RF: ', np.mean(cross_val_score(model,X, y))"
   ]
  },
  {
   "cell_type": "code",
   "execution_count": null,
   "metadata": {
    "collapsed": true
   },
   "outputs": [],
   "source": []
  }
 ],
 "metadata": {
  "kernelspec": {
   "display_name": "Python 2",
   "language": "python",
   "name": "python2"
  },
  "language_info": {
   "codemirror_mode": {
    "name": "ipython",
    "version": 2
   },
   "file_extension": ".py",
   "mimetype": "text/x-python",
   "name": "python",
   "nbconvert_exporter": "python",
   "pygments_lexer": "ipython2",
   "version": "2.7.11"
  }
 },
 "nbformat": 4,
 "nbformat_minor": 0
}
