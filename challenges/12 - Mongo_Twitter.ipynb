{
 "cells": [
  {
   "cell_type": "code",
   "execution_count": 1,
   "metadata": {
    "collapsed": true
   },
   "outputs": [],
   "source": [
    "import pickle\n",
    "with open(\"heavy_metal_parsed.pkl\", 'r') as datafile:\n",
    "    heavy_metal_reviews = pickle.load(datafile)"
   ]
  },
  {
   "cell_type": "code",
   "execution_count": 16,
   "metadata": {
    "collapsed": false
   },
   "outputs": [
    {
     "name": "stdout",
     "output_type": "stream",
     "text": [
      "head\n",
      "metal_cred\n",
      "title\n",
      "direct\n",
      "solid_metal_nuggets\n",
      "cast\n",
      "raw\n",
      "the_meat\n",
      "year\n",
      "_id\n",
      "sections\n"
     ]
    }
   ],
   "source": [
    "first_review = heavy_metal_reviews[0]\n",
    "for line in first_review:\n",
    "    print line"
   ]
  },
  {
   "cell_type": "code",
   "execution_count": 3,
   "metadata": {
    "collapsed": false
   },
   "outputs": [
    {
     "name": "stdout",
     "output_type": "stream",
     "text": [
      "['head', 'metal_cred', 'title', 'direct', 'solid_metal_nuggets', 'cast', 'raw', 'the_meat', 'year', 'sections']\n"
     ]
    }
   ],
   "source": [
    "print first_review.keys()"
   ]
  },
  {
   "cell_type": "code",
   "execution_count": 4,
   "metadata": {
    "collapsed": false
   },
   "outputs": [],
   "source": [
    "import pymongo"
   ]
  },
  {
   "cell_type": "code",
   "execution_count": 13,
   "metadata": {
    "collapsed": false
   },
   "outputs": [
    {
     "name": "stdout",
     "output_type": "stream",
     "text": [
      "0\n",
      "856\n"
     ]
    },
    {
     "name": "stderr",
     "output_type": "stream",
     "text": [
      "/home/dkanarek/anaconda2/lib/python2.7/site-packages/ipykernel/__main__.py:8: DeprecationWarning: insert is deprecated. Use insert_one or insert_many instead.\n"
     ]
    }
   ],
   "source": [
    "client = pymongo.MongoClient('ec2-54-84-1-137.compute-1.amazonaws.com', 27017)\n",
    "db = client.examples\n",
    "num_reviews = db.reviews.find().count()\n",
    "print num_reviews\n",
    "\n",
    "for review in heavy_metal_reviews:\n",
    "    db.reviews.insert(review)\n",
    "\n",
    "num_reviews = db.reviews.find().count()\n",
    "print num_reviews"
   ]
  },
  {
   "cell_type": "code",
   "execution_count": null,
   "metadata": {
    "collapsed": true
   },
   "outputs": [],
   "source": []
  }
 ],
 "metadata": {
  "kernelspec": {
   "display_name": "Python 2",
   "language": "python",
   "name": "python2"
  },
  "language_info": {
   "codemirror_mode": {
    "name": "ipython",
    "version": 2
   },
   "file_extension": ".py",
   "mimetype": "text/x-python",
   "name": "python",
   "nbconvert_exporter": "python",
   "pygments_lexer": "ipython2",
   "version": "2.7.11"
  }
 },
 "nbformat": 4,
 "nbformat_minor": 0
}
