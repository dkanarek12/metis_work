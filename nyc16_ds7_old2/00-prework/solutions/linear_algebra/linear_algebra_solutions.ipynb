{
 "cells": [
  {
   "cell_type": "markdown",
   "metadata": {},
   "source": [
    "# Linear Algebra Worksheet"
   ]
  },
  {
   "cell_type": "markdown",
   "metadata": {},
   "source": [
    "### Please do these exercises by hand first. After you are done with your work, check your answers with Python"
   ]
  },
  {
   "cell_type": "code",
   "execution_count": 2,
   "metadata": {
    "collapsed": true
   },
   "outputs": [],
   "source": [
    "import numpy as np\n",
    "import pandas as pd"
   ]
  },
  {
   "cell_type": "code",
   "execution_count": 3,
   "metadata": {
    "collapsed": false
   },
   "outputs": [],
   "source": [
    "A = np.array([[1,2,3],[2,7,4]])\n",
    "B = np.array([[1,-1],[0,1]])\n",
    "C = np.array([[5,-1],[9,1],[6,0]])\n",
    "D = np.array([[3,-2,-1],[1,2,3]])\n",
    "\n",
    "u = np.array([6,2,-3,5])\n",
    "v = np.array([3,5,-1,4])\n",
    "w = np.array([1,8,0,5])"
   ]
  },
  {
   "cell_type": "markdown",
   "metadata": {},
   "source": [
    "## 1. Matrix Dimensions"
   ]
  },
  {
   "cell_type": "markdown",
   "metadata": {},
   "source": [
    "**A**: 2 by 3  \n",
    "**B**: 2 by 2  \n",
    "**C**: 3 by 2   \n",
    "**D**: 2 by 3  \n",
    "**u**: 1 by 4    \n",
    "**v**: 1 by 4  \n",
    "**w**: 4 by 1  \n",
    "  \n",
    "For vectors, numpy array types don't really distinguish row vs. column vectors"
   ]
  },
  {
   "cell_type": "code",
   "execution_count": 10,
   "metadata": {
    "collapsed": false,
    "scrolled": true
   },
   "outputs": [
    {
     "name": "stdout",
     "output_type": "stream",
     "text": [
      "A = \n",
      "[[1 2 3]\n",
      " [2 7 4]] \n",
      "with shape   (2, 3)\n",
      "B = \n",
      "[[ 1 -1]\n",
      " [ 0  1]] \n",
      "with shape   (2, 2)\n",
      "C = \n",
      "[[ 5 -1]\n",
      " [ 9  1]\n",
      " [ 6  0]] \n",
      "with shape   (3, 2)\n",
      "D = \n",
      "[[ 3 -2 -1]\n",
      " [ 1  2  3]] \n",
      "with shape   (2, 3)\n",
      "u = \n",
      "[ 6  2 -3  5] \n",
      "with shape   (4,)\n",
      "v = \n",
      "[ 3  5 -1  4] \n",
      "with shape   (4,)\n",
      "w = \n",
      "[1 8 0 5] \n",
      "with shape   (4,)\n"
     ]
    }
   ],
   "source": [
    "print \"A = \\n\", A, \"\\nwith shape  \", A.shape\n",
    "print \"B = \\n\", B, \"\\nwith shape  \", B.shape\n",
    "print \"C = \\n\", C, \"\\nwith shape  \", C.shape\n",
    "print \"D = \\n\", D, \"\\nwith shape  \", D.shape\n",
    "print \"u = \\n\", u, \"\\nwith shape  \", u.shape\n",
    "print \"v = \\n\", v, \"\\nwith shape  \", v.shape\n",
    "print \"w = \\n\", w, \"\\nwith shape  \", w.shape"
   ]
  },
  {
   "cell_type": "markdown",
   "metadata": {},
   "source": [
    "## 2. Vector Operations"
   ]
  },
  {
   "cell_type": "markdown",
   "metadata": {
    "collapsed": true
   },
   "source": [
    "u + v =   \n",
    "u - v =   \n",
    "alpha * u =    (assume alpha = 6)  \n",
    "u . v =   \n",
    "||u|| =   "
   ]
  },
  {
   "cell_type": "code",
   "execution_count": 13,
   "metadata": {
    "collapsed": false
   },
   "outputs": [
    {
     "name": "stdout",
     "output_type": "stream",
     "text": [
      "u + v =  [ 9  7 -4  9]\n",
      "u - v =  [ 3 -3 -2  1]\n",
      "assuming alpha = 6, alpha * u =  [ 36  12 -18  30]\n",
      "u . v =  51\n",
      "||u|| =  8.60232526704\n"
     ]
    }
   ],
   "source": [
    "print \"u + v = \", u+v\n",
    "print \"u - v = \", u-v\n",
    "print \"assuming alpha = 6, alpha * u = \", 6*u\n",
    "print \"u . v = \", np.dot(u,v)\n",
    "print \"||u|| = \", np.linalg.norm(u)"
   ]
  },
  {
   "cell_type": "markdown",
   "metadata": {},
   "source": [
    "## 3. Matrix Operations"
   ]
  },
  {
   "cell_type": "code",
   "execution_count": 8,
   "metadata": {
    "collapsed": false
   },
   "outputs": [
    {
     "name": "stdout",
     "output_type": "stream",
     "text": [
      "A + C =  not defined\n",
      "A - C.transpose = \n",
      "[[-4 -7 -3]\n",
      " [ 3  6  4]]\n",
      "C.transpose + 3D = \n",
      "[[14  3  3]\n",
      " [ 2  7  9]]\n",
      "BA = \n",
      "[[-1 -5 -1]\n",
      " [ 2  7  4]]\n",
      "BA.transpose =  not defined\n"
     ]
    }
   ],
   "source": [
    "print \"A + C = \", \"not defined\"\n",
    "print \"A - C.transpose = \\n\", A-C.transpose()\n",
    "print \"C.transpose + 3D = \\n\", C.transpose() + 3*D\n",
    "print \"BA = \\n\", np.dot(B,A)\n",
    "print \"BA.transpose = \", \"not defined\""
   ]
  },
  {
   "cell_type": "markdown",
   "metadata": {},
   "source": [
    "## Bonus Questions:"
   ]
  },
  {
   "cell_type": "code",
   "execution_count": 9,
   "metadata": {
    "collapsed": false
   },
   "outputs": [
    {
     "name": "stdout",
     "output_type": "stream",
     "text": [
      "BC =  not defined\n",
      "CB = \n",
      "[[ 5 -6]\n",
      " [ 9 -8]\n",
      " [ 6 -6]]\n",
      "B^4 = \n",
      "[[ 1 -4]\n",
      " [ 0  1]]\n",
      "A A.transpose = \n",
      "[[14 28]\n",
      " [28 69]]\n",
      "D.transpose D = \n",
      "[[10 -4  0]\n",
      " [-4  8  8]\n",
      " [ 0  8 10]]\n"
     ]
    }
   ],
   "source": [
    "print \"BC = \", \"not defined\"\n",
    "print \"CB = \\n\", np.dot(C,B)\n",
    "print \"B^4 = \\n\", np.dot(np.dot(B,B), np.dot(B,B))\n",
    "print \"A A.transpose = \\n\", np.dot(A, A.transpose())\n",
    "print \"D.transpose D = \\n\", np.dot(D.transpose(), D)"
   ]
  },
  {
   "cell_type": "code",
   "execution_count": null,
   "metadata": {
    "collapsed": true
   },
   "outputs": [],
   "source": []
  }
 ],
 "metadata": {
  "kernelspec": {
   "display_name": "Python 2",
   "language": "python",
   "name": "python2"
  },
  "language_info": {
   "codemirror_mode": {
    "name": "ipython",
    "version": 2
   },
   "file_extension": ".py",
   "mimetype": "text/x-python",
   "name": "python",
   "nbconvert_exporter": "python",
   "pygments_lexer": "ipython2",
   "version": "2.7.3"
  }
 },
 "nbformat": 4,
 "nbformat_minor": 0
}
