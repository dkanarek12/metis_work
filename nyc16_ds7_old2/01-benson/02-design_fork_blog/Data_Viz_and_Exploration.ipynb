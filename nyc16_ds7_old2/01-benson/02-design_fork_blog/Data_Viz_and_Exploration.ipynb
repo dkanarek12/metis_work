{
 "cells": [
  {
   "cell_type": "code",
   "execution_count": null,
   "metadata": {
    "collapsed": false
   },
   "outputs": [],
   "source": [
    "#Here we'll take a look at basic data manipulation and visualization tools in python\n",
    "\n",
    "import numpy as np    #import numpy for vectorized functions\n",
    "import matplotlib.pyplot as plt    #import to visualize and plot\n",
    "from matplotlib import animation    #import to animate a visualization\n",
    "from matplotlib.sankey import Sankey    #for fun flowcharts\n",
    "import csv    #import to read in data the easy way\n",
    "import scipy.stats    #import for stats functions\n"
   ]
  },
  {
   "cell_type": "code",
   "execution_count": null,
   "metadata": {
    "collapsed": true
   },
   "outputs": [],
   "source": [
    "#how do we import data?\n",
    "\n",
    "#1) The hard way:\n",
    "def importer(path):\n",
    "    \"\"\"This function will import the data that resides at <path>.\n",
    "    It will place it into a python dictionary and return said dictionary.\"\"\"\n",
    "    d = {}    #an empty dictionary\n",
    "    with open(path) as f:    #open the link to the data\n",
    "        Data = f.readlines()    #read in the data\n",
    "    vars = Data[0].split(',')    #split the data on commas\n",
    "    for i in range(len(vars)):    #loop over the variables\n",
    "        data_i = []    #create a list to hold the data\n",
    "        for j in range(1,len(Data)):    #loop over the data\n",
    "            data_ji = Data[j].split(',')    #split the line on commas\n",
    "            try:\n",
    "                data_i.append(float(data_ji[i]))    #append the data as a float\n",
    "            except:\n",
    "                data_i.append(data_ji[i])    #unless you can't, in which case simply append\n",
    "            d[vars[i]] = data_i    #add the variable to the dictionary\n",
    "    return d\n",
    "\n",
    "path = '/Users/seniordatascientist/Desktop/Metis Codes/Data/titanic3.csv'    #specify the path\n",
    "data = importer(path)    #call the importer function"
   ]
  },
  {
   "cell_type": "code",
   "execution_count": null,
   "metadata": {
    "collapsed": false
   },
   "outputs": [],
   "source": [
    "#2) One of the easier ways:\n",
    "d = {}    #an empty dictionary\n",
    "with open(path) as f:    #open the link to the data\n",
    "    Data = csv.reader(f)    #read in the data\n",
    "    for j in Data:    #loop over the observations\n",
    "        d[j[2]] = j    #and add the data to the dictionary\n"
   ]
  },
  {
   "cell_type": "code",
   "execution_count": null,
   "metadata": {
    "collapsed": false
   },
   "outputs": [],
   "source": [
    "#3) Measures of central tendency:\n",
    "\n",
    "d_1 = np.random.normal(loc = 2, scale = 1, size = 1000)    #generate some random data\n",
    "d_2 = np.random.normal(loc = 1, scale = 2, size = 1000)    #generate some random data\n",
    "d_3 = np.random.normal(loc = 5, scale = 1, size = 1000)    #generate some random data\n",
    "\n"
   ]
  },
  {
   "cell_type": "code",
   "execution_count": null,
   "metadata": {
    "collapsed": false
   },
   "outputs": [],
   "source": [
    "print('Variable:','d_1    ','d_2    ','d_3')\n",
    "print('max:    ',' {0:.4f}  {1:.4f} {2:.4f}'.format(max(d_1), max(d_2), max(d_3)))\n",
    "print('80%:    ',' {0:.4f}  {1:.4f} {2:.4f}'.format(np.percentile(d_1,q=80), np.percentile(d_2,80), np.percentile(d_3,80)))\n",
    "print('60%:    ',' {0:.4f}  {1:.4f} {2:.4f}'.format(np.percentile(d_1,q=60), np.percentile(d_2,60), np.percentile(d_3,60)))\n",
    "print('mean:   ',' {0:.4f}  {1:.4f} {2:.4f}'.format(np.mean(d_1), np.mean(d_2), np.mean(d_3)))\n",
    "print('median: ',' {0:.4f}  {1:.4f} {2:.4f}'.format(np.median(d_1), np.median(d_2), np.median(d_3)))\n",
    "print('40%:    ',' {0:.4f}  {1:.4f} {2:.4f}'.format(np.percentile(d_1,q=40), np.percentile(d_2,40), np.percentile(d_3,40)))\n",
    "print('20%:    ',' {0:.4f} {1:.4f} {2:.4f}'.format(np.percentile(d_1,q=20), np.percentile(d_2,20), np.percentile(d_3,20)))\n",
    "print('min:    ','{0:.4f} {1:.4f} {2:.4f}'.format(min(d_1), min(d_2), min(d_3)))"
   ]
  },
  {
   "cell_type": "code",
   "execution_count": null,
   "metadata": {
    "collapsed": false
   },
   "outputs": [],
   "source": [
    "#And of course with numpy these can be vectorized as well!\n",
    "\n",
    "print(np.mean([d_1,d_2,d_3],axis=1))    #vectorized means\n",
    "print(np.median([d_1,d_2,d_3],axis=1))    #vectorized medians\n",
    "print(np.percentile([d_1,d_2,d_3],95,axis=1))    #vectorized percentiles"
   ]
  },
  {
   "cell_type": "code",
   "execution_count": null,
   "metadata": {
    "collapsed": false
   },
   "outputs": [],
   "source": [
    "#4) Measures of spread:\n",
    "\n",
    "print('Variable: ',' d_1    ','d_2   ','d_3')\n",
    "print('stdev:    ',' {0:.4f}  {1:.4f} {2:.4f}'.format(np.std(d_1), np.std(d_2), np.std(d_3)))\n",
    "print('variance: ',' {0:.4f}  {1:.4f} {2:.4f}'.format(np.std(d_1)**2.0, np.std(d_2)**2.0, np.std(d_3)**2.0))"
   ]
  },
  {
   "cell_type": "code",
   "execution_count": null,
   "metadata": {
    "collapsed": false
   },
   "outputs": [],
   "source": [
    "#As above, these np functions are vectorized.\n",
    "\n",
    "print(np.std([d_1,d_2,d_3],axis=1))    #vectorized standard deviations\n",
    "print(np.std([d_1,d_2,d_3],axis=1)**2.0)    #vectorized variance"
   ]
  },
  {
   "cell_type": "code",
   "execution_count": null,
   "metadata": {
    "collapsed": false
   },
   "outputs": [],
   "source": [
    "#5) Measures of distributional shape:\n",
    "\n",
    "def skew(d):\n",
    "    \"\"\"Takes in an array d.  Returns the estimate of the skew of d.\"\"\"\n",
    "    return (1/len(d)*sum((d - np.mean(d))**3.0))/((1/(len(d) - 1.0)*sum((d - np.mean(d))**2.0))**(3.0/2.0))\n",
    "\n",
    "def kurtosis(d):\n",
    "    \"\"\"Takes in an array d.  Returns the estimate of the kurtosis of d.\"\"\"\n",
    "    return (1/len(d))*sum((d - np.mean(d))**4.0)/(((1/len(d))*sum((d - np.mean(d))**2.0))**2.0) - 3.0\n",
    "\n",
    "print('Variable:     ',' d_1    ','d_2   ','d_3')\n",
    "print('skew:         ',' {0:.4f}  {1:.4f} {2:.4f}'.format(skew(d_1), skew(d_2), skew(d_3)))\n",
    "print('skew (scipy): ',' {0:.4f}  {1:.4f} {2:.4f}'.format(scipy.stats.skew(d_1), scipy.stats.skew(d_2), scipy.stats.skew(d_3)))\n",
    "print('kurtosis:     ',' {0:.4f}  {1:.4f} {2:.4f}'.format(kurtosis(d_1), kurtosis(d_2), kurtosis(d_3)))"
   ]
  },
  {
   "cell_type": "code",
   "execution_count": null,
   "metadata": {
    "collapsed": false
   },
   "outputs": [],
   "source": [
    "#6) Dependency:\n",
    "print(np.corrcoef([d_1,d_2,d_3]))    #the correlation matrix\n",
    "\n",
    "\n"
   ]
  },
  {
   "cell_type": "code",
   "execution_count": null,
   "metadata": {
    "collapsed": false
   },
   "outputs": [],
   "source": [
    "#7) Basic visualization -- a density\n",
    "%matplotlib inline\n",
    "\n",
    "xs = np.linspace(-4,8,200)    #set the x range\n",
    "\n",
    "#compute the density for the first data\n",
    "density_1 = scipy.stats.gaussian_kde(d_1)    #use the scipy density calculator\n",
    "density_1.covariance_factor = lambda : .25    #set the covariance factor so that plots analogous to R's are plotted\n",
    "density_1._compute_covariance()    #recompute using the new covariance factor\n",
    "\n",
    "#and then for the second data\n",
    "density_2 = scipy.stats.gaussian_kde(d_2)    #use the scipy density calculator\n",
    "density_2.covariance_factor = lambda : .25    #set the covariance factor so that plots analogous to R's are plotted\n",
    "density_2._compute_covariance()    #recompute using the new covariance factor\n",
    "\n",
    "#and then for the third data\n",
    "density_3 = scipy.stats.gaussian_kde(d_3)    #use the scipy density calculator\n",
    "density_3.covariance_factor = lambda : .25    #set the covariance factor so that plots analogous to R's are plotted\n",
    "density_3._compute_covariance()    #recompute using the new covariance factor\n",
    "\n",
    "plt.figure(figsize = (20,8))    #initiate the plot\n",
    "plt.plot(xs,density_1(xs),'b--',xs,density_2(xs),'r--',xs,density_3(xs),'g--',lw=4)    #generate the plot\n",
    "plt.xlabel('x',fontsize=30)    #add an x label\n",
    "plt.ylabel('density of y',fontsize=30)    #add a y label\n",
    "plt.text(np.mean(d_1),max(density_1(xs))/2.0,r'$\\widehat{x}_1$',fontsize=30)    #add LaTeX text for location of the mean\n",
    "plt.text(np.mean(d_2),max(density_2(xs))/2.0,r'$\\widehat{x}_2$',fontsize=30)    #add LaTeX text for location of the mean\n",
    "plt.text(np.mean(d_3),max(density_3(xs))/2.0,r'$\\widehat{x}_3$',fontsize=30)    #add LaTeX text for location of the mean\n",
    "plt.title('A Simple Density',fontsize=40)    #add a title to the plot\n",
    "plt.grid(True)\n",
    "plt.savefig('/Users/seniordatascientist/Desktop/Metis Codes/Density.pdf')    #save the plot to file\n",
    "plt.show()    #and then show the plot"
   ]
  },
  {
   "cell_type": "code",
   "execution_count": null,
   "metadata": {
    "collapsed": false
   },
   "outputs": [],
   "source": [
    "#7) Basic visualization -- a density\n",
    "%matplotlib inline\n",
    "\n",
    "xs = np.linspace(-6,10,200)    #set the x range\n",
    "\n",
    "#compute the density for the first data\n",
    "density_1 = scipy.stats.gaussian_kde(d_1)    #use the scipy density calculator\n",
    "density_1.covariance_factor = lambda : .25    #set the covariance factor so that plots analogous to R's are plotted\n",
    "density_1._compute_covariance()    #recompute using the new covariance factor\n",
    "\n",
    "#and then for the second data\n",
    "density_2 = scipy.stats.gaussian_kde(d_2)    #use the scipy density calculator\n",
    "density_2.covariance_factor = lambda : .25    #set the covariance factor so that plots analogous to R's are plotted\n",
    "density_2._compute_covariance()    #recompute using the new covariance factor\n",
    "\n",
    "#and then for the third data\n",
    "density_3 = scipy.stats.gaussian_kde(d_3)    #use the scipy density calculator\n",
    "density_3.covariance_factor = lambda : .25    #set the covariance factor so that plots analogous to R's are plotted\n",
    "density_3._compute_covariance()    #recompute using the new covariance factor\n",
    "\n",
    "plt.figure(figsize = (20,8))    #initiate the plot\n",
    "plt.plot(xs,density_1(xs),'b--',xs,density_2(xs),'r--',xs,density_3(xs),'g--',lw=4)    #generate the plot\n",
    "plt.fill(xs,density_1(xs),'b',alpha=0.3)    #fill in the curves\n",
    "plt.fill(xs,density_2(xs),'r',alpha=0.3)    #fill in the curves\n",
    "plt.fill(xs,density_3(xs),'g',alpha=0.3)    #fill in the curves\n",
    "plt.xlabel('x',fontsize=30)    #add an x label\n",
    "plt.ylabel('density of y',fontsize=30)    #add a y label\n",
    "plt.text(np.mean(d_1),max(density_1(xs))/2.0,r'$\\widehat{x}_1$',fontsize=30)    #add LaTeX text for location of the mean\n",
    "plt.text(np.mean(d_2),max(density_2(xs))/2.0,r'$\\widehat{x}_2$',fontsize=30)    #add LaTeX text for location of the mean\n",
    "plt.text(np.mean(d_3),max(density_3(xs))/2.0,r'$\\widehat{x}_3$',fontsize=30)    #add LaTeX text for location of the mean\n",
    "plt.title('A Simple Density',fontsize=40)    #add a title to the plot\n",
    "plt.grid(True)    #add a grid\n",
    "plt.savefig('/Users/seniordatascientist/Desktop/Metis Codes/Density.pdf')    #save the plot to file\n",
    "plt.show()    #and then show the plot"
   ]
  },
  {
   "cell_type": "code",
   "execution_count": null,
   "metadata": {
    "collapsed": false
   },
   "outputs": [],
   "source": [
    "#A scatterplot with multiple figures contained in one plot\n",
    "\n",
    "%matplotlib inline\n",
    "\n",
    "plt.figure(figsize = (20,10))    #initiate the plot\n",
    "\n",
    "plt.subplot(3,3,1)    #plot subplot 1,1 in the 3x3 area\n",
    "plt.plot(d_1,d_1,'bs',lw=4)    #generate the plot\n",
    "plt.xlabel(r'$d_1$',fontsize=10)    #add an x label\n",
    "plt.ylabel(r'$d_1$',fontsize=10)    #add a y label\n",
    "\n",
    "plt.subplot(3,3,2)    #plot subplot 1,2 in the 3x3 area\n",
    "plt.plot(d_1,d_2,'bs',lw=4)    #generate the plot\n",
    "plt.title('Correlations',fontsize=40)    #add a title to the plot\n",
    "plt.xlabel(r'$d_1$',fontsize=10)    #add an x label\n",
    "plt.ylabel(r'$d_2$',fontsize=10)    #add a y label\n",
    "\n",
    "plt.subplot(3,3,3)    #plot subplot 1,3 in the 3x3 area\n",
    "plt.plot(d_1,d_3,'bs',lw=4)    #generate the plot\n",
    "plt.xlabel(r'$d_1$',fontsize=10)    #add an x label\n",
    "plt.ylabel(r'$d_3$',fontsize=10)    #add a y label\n",
    "\n",
    "plt.subplot(3,3,4)    #plot subplot 2,1 in the 3x3 area\n",
    "plt.plot(d_2,d_1,'bs',lw=4)    #generate the plot\n",
    "plt.xlabel(r'$d_2$',fontsize=10)    #add an x label\n",
    "plt.ylabel(r'$d_1$',fontsize=10)    #add a y label\n",
    "\n",
    "plt.subplot(3,3,5)    #plot subplot 2,2 in the 3x3 area\n",
    "plt.plot(d_2,d_2,'bs',lw=4)    #generate the plot\n",
    "plt.xlabel(r'$d_2$',fontsize=10)    #add an x label\n",
    "plt.ylabel(r'$d_2$',fontsize=10)    #add a y label\n",
    "\n",
    "plt.subplot(3,3,6)    #plot subplot 2,3 in the 3x3 area\n",
    "plt.plot(d_2,d_3,'bs',lw=4)    #generate the plot\n",
    "plt.xlabel(r'$d_2$',fontsize=10)    #add an x label\n",
    "plt.ylabel(r'$d_3$',fontsize=10)    #add a y label\n",
    "\n",
    "plt.subplot(3,3,7)    #plot subplot 3,1 in the 3x3 area\n",
    "plt.plot(d_3,d_1,'bs',lw=4)    #generate the plot\n",
    "plt.xlabel(r'$d_3$',fontsize=10)    #add an x label\n",
    "plt.ylabel(r'$d_1$',fontsize=10)    #add a y label\n",
    "\n",
    "plt.subplot(3,3,8)    #plot subplot 3,2 in the 3x3 area\n",
    "plt.plot(d_3,d_2,'bs',lw=4)    #generate the plot\n",
    "plt.xlabel(r'$d_3$',fontsize=10)    #add an x label\n",
    "plt.ylabel(r'$d_2$',fontsize=10)    #add a y label\n",
    "\n",
    "plt.subplot(3,3,9)    #plot subplot 3,3 in the 3x3 area\n",
    "plt.plot(d_3,d_3,'bs',lw=4)    #generate the plot\n",
    "plt.xlabel(r'$d_3$',fontsize=10)    #add an x label\n",
    "plt.ylabel(r'$d_3$',fontsize=10)    #add a y label\n",
    "\n",
    "plt.savefig('/Users/seniordatascientist/Desktop/Metis Codes/Scatter_plot.pdf')    #save the plot to file\n",
    "plt.show()    #and then show the plot\n",
    "\n"
   ]
  },
  {
   "cell_type": "code",
   "execution_count": null,
   "metadata": {
    "collapsed": false
   },
   "outputs": [],
   "source": [
    "fig = plt.figure()\n",
    "ax = fig.add_subplot(1, 1, 1, xticks=[], yticks=[],\n",
    "                     title=\"Flow Diagram of a Widget\")\n",
    "sankey = Sankey(ax=ax, scale=0.01, offset=0.2, head_angle=120,\n",
    "                format='%.0f', unit='%')\n",
    "sankey.add(flows=[25, 5, 90, -10, -20, -5, -15, -10, -40],\n",
    "           labels=['', '', '', 'First', 'Second', 'Third', 'Fourth',\n",
    "                   'Fifth', 'Donzo!'],\n",
    "           orientations=[-1, 1, 0, 1, 1, 1, -1, -1, 0],\n",
    "           pathlengths=[0.5, 0.25, 0.25, 0.25, 0.25, 0.6, 0.25, 0.25,\n",
    "                        0.25],\n",
    "           patchlabel=\"Widget\\nA\",\n",
    "           alpha=0.2, lw=2.0)  # Arguments to matplotlib.patches.PathPatch()\n",
    "diagrams = sankey.finish()\n",
    "diagrams[0].patch.set_facecolor('#37c959')\n",
    "diagrams[0].texts[-1].set_color('r')\n",
    "diagrams[0].text.set_fontweight('bold')\n",
    "# Notice:\n",
    "#   1. Since the sum of the flows is nonzero, the width of the trunk isn't\n",
    "#      uniform.  If verbose.level is helpful (in matplotlibrc), a message is\n",
    "#      given in the terminal window.\n",
    "#   2. The second flow doesn't appear because its value is zero.  Again, if\n",
    "#      verbose.level is helpful, a message is given in the terminal window.\n"
   ]
  },
  {
   "cell_type": "code",
   "execution_count": null,
   "metadata": {
    "collapsed": false
   },
   "outputs": [],
   "source": [
    "# Example 3\n",
    "# This demonstrates:\n",
    "#   1. Connecting two systems\n",
    "#   2. Turning off the labels of the quantities\n",
    "#   3. Adding a legend\n",
    "fig = plt.figure()\n",
    "ax = fig.add_subplot(1, 1, 1, xticks=[], yticks=[], title=\"Two Systems\")\n",
    "flows = [0.25, 0.15, 0.60, -0.10, -0.05, -0.25, -0.15, -0.10, -0.35]\n",
    "sankey = Sankey(ax=ax, unit=None)\n",
    "sankey.add(flows=flows, label='one',\n",
    "           orientations=[-1, 1, 0, 1, 1, 1, -1, -1, 0])\n",
    "sankey.add(flows=[-0.25, 0.15, 0.1], fc='#37c959', label='two',\n",
    "           orientations=[-1, -1, -1], prior=0, connect=(0, 0))\n",
    "diagrams = sankey.finish()\n",
    "diagrams[-1].patch.set_hatch('/')\n",
    "plt.legend(loc='best')\n",
    "plt.savefig('/Users/seniordatascientist/Desktop/Metis Codes/Flow.pdf')    #save the plot to file\n",
    "# Notice that only one connection is specified, but the systems form a\n",
    "# circuit since: (1) the lengths of the paths are justified and (2) the\n",
    "# orientation and ordering of the flows is mirrored.\n",
    "\n",
    "plt.show()"
   ]
  },
  {
   "cell_type": "code",
   "execution_count": null,
   "metadata": {
    "collapsed": true
   },
   "outputs": [],
   "source": []
  }
 ],
 "metadata": {
  "kernelspec": {
   "display_name": "Python 3",
   "language": "python",
   "name": "python3"
  },
  "language_info": {
   "codemirror_mode": {
    "name": "ipython",
    "version": 3
   },
   "file_extension": ".py",
   "mimetype": "text/x-python",
   "name": "python",
   "nbconvert_exporter": "python",
   "pygments_lexer": "ipython3",
   "version": "3.5.1"
  }
 },
 "nbformat": 4,
 "nbformat_minor": 0
}
