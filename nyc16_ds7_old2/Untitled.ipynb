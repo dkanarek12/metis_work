{
 "cells": [
  {
   "cell_type": "code",
   "execution_count": 7,
   "metadata": {
    "collapsed": false
   },
   "outputs": [
    {
     "name": "stdout",
     "output_type": "stream",
     "text": [
      "False\n"
     ]
    }
   ],
   "source": [
    "def is_balanced(par_string):\n",
    "    count = 0\n",
    "    for i in par_string:\n",
    "        if i == '(':\n",
    "            count +=1\n",
    "        if i == ')':\n",
    "            count +=-1\n",
    "        if count < 0:\n",
    "            return False\n",
    "    return count == 0 \n",
    "\n",
    "str1 = '(()()))(()'\n",
    "\n",
    "print is_balanced(str1)"
   ]
  },
  {
   "cell_type": "code",
   "execution_count": null,
   "metadata": {
    "collapsed": true
   },
   "outputs": [],
   "source": []
  }
 ],
 "metadata": {
  "kernelspec": {
   "display_name": "Python 2",
   "language": "python",
   "name": "python2"
  },
  "language_info": {
   "codemirror_mode": {
    "name": "ipython",
    "version": 2
   },
   "file_extension": ".py",
   "mimetype": "text/x-python",
   "name": "python",
   "nbconvert_exporter": "python",
   "pygments_lexer": "ipython2",
   "version": "2.7.11"
  }
 },
 "nbformat": 4,
 "nbformat_minor": 0
}
