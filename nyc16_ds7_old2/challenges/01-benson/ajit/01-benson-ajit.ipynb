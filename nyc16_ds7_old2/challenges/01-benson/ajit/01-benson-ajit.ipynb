{
 "cells": [
  {
   "cell_type": "markdown",
   "metadata": {},
   "source": [
    "# Challenge Set 1\n",
    "# Topic:        Explore MTA turnstile data (Benson Challenges)\n",
    "# Date:         4/04/2016\n",
    "# Name:         Ajit Unnam\n",
    "# Worked with:  N/A"
   ]
  },
  {
   "cell_type": "code",
   "execution_count": 9,
   "metadata": {
    "collapsed": false
   },
   "outputs": [
    {
     "name": "stdout",
     "output_type": "stream",
     "text": [
      "['C/A', 'UNIT', 'SCP', 'STATION', 'LINENAME', 'DIVISION', 'DATE', 'TIME', 'DESC', 'ENTRIES', 'EXITS']\n",
      "['A002', 'R051', '02-00-00', '59 ST', 'NQR456', 'BMT', '03/26/2016', '00:00:00', 'REGULAR', '0005595746', '0001893277']\n",
      "['A002', 'R051', '02-00-00', '59 ST', 'NQR456', 'BMT', '03/26/2016', '04:00:00', 'REGULAR', '0005595746', '0001893282']\n",
      "['A002', 'R051', '02-00-00', '59 ST', 'NQR456', 'BMT', '03/26/2016', '08:00:00', 'REGULAR', '0005595746', '0001893282']\n",
      "['A002', 'R051', '02-00-00', '59 ST', 'NQR456', 'BMT', '03/26/2016', '12:00:00', 'REGULAR', '0005595746', '0001893282']\n",
      "['A002', 'R051', '02-00-00', '59 ST', 'NQR456', 'BMT', '03/26/2016', '16:00:00', 'REGULAR', '0005595746', '0001893282']\n"
     ]
    }
   ],
   "source": [
    "import csv\n",
    "import pandas as pd\n",
    "import numpy as np\n",
    "import matplotlib.pyplot as plt\n",
    "\n",
    "# http://web.mta.info/developers/turnstile.html \n",
    "# data taken from the above url\n",
    "\n",
    "# f = open('turnstile_160402.txt')\n",
    "# AprilData = list(csv.reader(f))\n",
    "# f.close()\n",
    "\n",
    "with open('turnstile_160402.txt') as f:    #open the link to the data\n",
    "    reader = csv.reader(f)    #read in the data\n",
    "    rows = [[cell.strip() for cell in row] for row in reader]  \n",
    "\n",
    "for i in range(6):\n",
    "    print(rows[i])"
   ]
  },
  {
   "cell_type": "code",
   "execution_count": 10,
   "metadata": {
    "collapsed": false
   },
   "outputs": [],
   "source": [
    "# Pandas version\n",
    "import pandas as pd\n",
    "\n",
    "df1 = pd.read_csv(\"turnstile_160402.txt\")"
   ]
  },
  {
   "cell_type": "markdown",
   "metadata": {},
   "source": [
    "#### Challenge 1\n",
    "\n",
    "- Open up a new IPython notebook\n",
    "- Download a few MTA turnstile data files\n",
    "- Open up a file, use csv reader to read it, make a python dict where\n",
    "  there is a key for each (C/A, UNIT, SCP, STATION). These are the\n",
    "  first four columns. The value for this key should be a list of\n",
    "  lists. Each list in the list is the rest of the columns in a\n",
    "  row. For example, one key-value pair should look like\n",
    "\n",
    "\n",
    "{    ('A002','R051','02-00-00','LEXINGTON AVE'):\n",
    "[\n",
    "['NQR456', 'BMT', '01/03/2015', '03:00:00', 'REGULAR', '0004945474', '0001675324'],\n",
    "['NQR456', 'BMT', '01/03/2015', '07:00:00', 'REGULAR', '0004945478', '0001675333'],\n",
    "['NQR456', 'BMT', '01/03/2015', '11:00:00', 'REGULAR', '0004945515', '0001675364'],\n",
    "...\n",
    "]\n",
    "}"
   ]
  },
  {
   "cell_type": "code",
   "execution_count": 11,
   "metadata": {
    "collapsed": false
   },
   "outputs": [],
   "source": [
    "c1Keys = []\n",
    "for row in rows[1:]:\n",
    "    key = tuple(row[0:4])\n",
    "    c1Keys.append(key)\n",
    "\n",
    "'''def c1Dict(data):\n",
    "    dict1 = {}\n",
    "    for row in data[1:]:\n",
    "        key = tuple(row[0:4])\n",
    "        c1Keys.append(key)\n",
    "        val = row[4:len(row)-1]\n",
    "        val.append(row[-1].strip())\n",
    "        if key in dict1:\n",
    "            dict1[key].append(list(val))\n",
    "        else:\n",
    "            l = []\n",
    "            l.append(val)\n",
    "            dict1[key] = l\n",
    "    return dict1'''\n",
    "\n",
    "def c1Dict(data):\n",
    "    dict1 = {}\n",
    "    for row in data[1:]: #loop over the elements in the list rows\n",
    "        dict1.setdefault(tuple(row[:4]), []).append(tuple(row[4:]))    #loop over the rows, add new keys to the dictionary when the row info is not already present, append to existing data when it is\n",
    "    return dict1\n",
    "        \n",
    "def firstnPairs(d,n):\n",
    "    count = 0\n",
    "    for k in c1Keys:\n",
    "        if count == n:\n",
    "            break\n",
    "        else:\n",
    "            print(k,':', d[k])\n",
    "            count += 1\n",
    "    return\n",
    "\n",
    "c1Dictionary = c1Dict(rows)"
   ]
  },
  {
   "cell_type": "code",
   "execution_count": 12,
   "metadata": {
    "collapsed": false
   },
   "outputs": [
    {
     "name": "stdout",
     "output_type": "stream",
     "text": [
      "('A002', 'R051', '02-00-00', '59 ST') : [('NQR456', 'BMT', '03/26/2016', '00:00:00', 'REGULAR', '0005595746', '0001893277'), ('NQR456', 'BMT', '03/26/2016', '04:00:00', 'REGULAR', '0005595746', '0001893282'), ('NQR456', 'BMT', '03/26/2016', '08:00:00', 'REGULAR', '0005595746', '0001893282'), ('NQR456', 'BMT', '03/26/2016', '12:00:00', 'REGULAR', '0005595746', '0001893282'), ('NQR456', 'BMT', '03/26/2016', '16:00:00', 'REGULAR', '0005595746', '0001893282'), ('NQR456', 'BMT', '03/26/2016', '20:00:00', 'REGULAR', '0005595746', '0001893282'), ('NQR456', 'BMT', '03/27/2016', '00:00:00', 'REGULAR', '0005595746', '0001893282'), ('NQR456', 'BMT', '03/27/2016', '04:00:00', 'REGULAR', '0005595746', '0001893282'), ('NQR456', 'BMT', '03/27/2016', '08:00:00', 'REGULAR', '0005595746', '0001893282'), ('NQR456', 'BMT', '03/27/2016', '12:00:00', 'REGULAR', '0005595746', '0001893282'), ('NQR456', 'BMT', '03/27/2016', '16:00:00', 'REGULAR', '0005595746', '0001893282'), ('NQR456', 'BMT', '03/27/2016', '20:00:00', 'REGULAR', '0005595746', '0001893282'), ('NQR456', 'BMT', '03/28/2016', '00:00:00', 'REGULAR', '0005595746', '0001893282'), ('NQR456', 'BMT', '03/28/2016', '04:00:00', 'REGULAR', '0005595746', '0001893282'), ('NQR456', 'BMT', '03/28/2016', '08:00:00', 'REGULAR', '0005595780', '0001893382'), ('NQR456', 'BMT', '03/28/2016', '12:00:00', 'REGULAR', '0005595936', '0001893679'), ('NQR456', 'BMT', '03/28/2016', '16:00:00', 'REGULAR', '0005596182', '0001893748'), ('NQR456', 'BMT', '03/28/2016', '20:00:00', 'REGULAR', '0005596691', '0001893934'), ('NQR456', 'BMT', '03/29/2016', '00:00:00', 'REGULAR', '0005596896', '0001893974'), ('NQR456', 'BMT', '03/29/2016', '04:00:00', 'REGULAR', '0005596905', '0001893975'), ('NQR456', 'BMT', '03/29/2016', '08:00:00', 'REGULAR', '0005596942', '0001894084'), ('NQR456', 'BMT', '03/29/2016', '12:00:00', 'REGULAR', '0005597074', '0001894423'), ('NQR456', 'BMT', '03/29/2016', '16:00:00', 'REGULAR', '0005597352', '0001894489'), ('NQR456', 'BMT', '03/29/2016', '20:00:00', 'REGULAR', '0005597835', '0001894809'), ('NQR456', 'BMT', '03/30/2016', '00:00:00', 'REGULAR', '0005598003', '0001894856'), ('NQR456', 'BMT', '03/30/2016', '04:00:00', 'REGULAR', '0005598010', '0001894859'), ('NQR456', 'BMT', '03/30/2016', '08:00:00', 'REGULAR', '0005598057', '0001894956'), ('NQR456', 'BMT', '03/30/2016', '12:00:00', 'REGULAR', '0005598218', '0001895280'), ('NQR456', 'BMT', '03/30/2016', '16:00:00', 'REGULAR', '0005598477', '0001895355'), ('NQR456', 'BMT', '03/30/2016', '20:00:00', 'REGULAR', '0005598979', '0001895657'), ('NQR456', 'BMT', '03/31/2016', '00:00:00', 'REGULAR', '0005599165', '0001895684'), ('NQR456', 'BMT', '03/31/2016', '04:00:00', 'REGULAR', '0005599165', '0001895684'), ('NQR456', 'BMT', '03/31/2016', '08:00:00', 'REGULAR', '0005599202', '0001895796'), ('NQR456', 'BMT', '03/31/2016', '09:22:41', 'REGULAR', '0005599230', '0001895891'), ('NQR456', 'BMT', '03/31/2016', '12:00:00', 'REGULAR', '0005599230', '0001895891'), ('NQR456', 'BMT', '03/31/2016', '16:00:00', 'REGULAR', '0005599230', '0001895891'), ('NQR456', 'BMT', '03/31/2016', '20:00:00', 'REGULAR', '0005599433', '0001895975'), ('NQR456', 'BMT', '04/01/2016', '00:00:00', 'REGULAR', '0005599639', '0001896005'), ('NQR456', 'BMT', '04/01/2016', '04:00:00', 'REGULAR', '0005599650', '0001896015'), ('NQR456', 'BMT', '04/01/2016', '08:00:00', 'REGULAR', '0005599690', '0001896110'), ('NQR456', 'BMT', '04/01/2016', '12:00:00', 'REGULAR', '0005599694', '0001896111'), ('NQR456', 'BMT', '04/01/2016', '16:00:00', 'REGULAR', '0005599946', '0001896170'), ('NQR456', 'BMT', '04/01/2016', '20:00:00', 'REGULAR', '0005600640', '0001896259')]\n"
     ]
    }
   ],
   "source": [
    "firstnPairs(c1Dictionary,1) "
   ]
  },
  {
   "cell_type": "markdown",
   "metadata": {},
   "source": [
    "#### Challenge 2\n",
    "\n",
    "- Let's turn this into a time series.\n",
    "\n",
    " For each key (basically the control area, unit, device address and\n",
    " station of a specific turnstile), have a list again, but let the list\n",
    " be comprised of just the point in time and the count of entries.\n",
    "\n",
    "This basically means keeping only the date, time, and entries fields\n",
    "in each list. You can convert the date and time into datetime objects\n",
    "-- That is a python class that represents a point in time. You can\n",
    "combine the date and time fields into a string and use the\n",
    "[dateutil](https://labix.org/python-dateutil) module to convert it\n",
    "into a datetime object. For an example check\n",
    "[this StackOverflow question](http://stackoverflow.com/questions/23385003/attributeerror-when-using-import-dateutil-and-dateutil-parser-parse-but-no).\n",
    "\n",
    "Your new dict should look something like\n",
    "\n",
    "{    ('A002','R051','02-00-00','LEXINGTON AVE'):\n",
    "[\n",
    "[datetime.datetime(2013, 3, 2, 3, 0), 3788],\n",
    "[datetime.datetime(2013, 3, 2, 7, 0), 2585],\n",
    "[datetime.datetime(2013, 3, 2, 12, 0), 10653],\n",
    "[datetime.datetime(2013, 3, 2, 17, 0), 11016],\n",
    "[datetime.datetime(2013, 3, 2, 23, 0), 10666],\n",
    "[datetime.datetime(2013, 3, 3, 3, 0), 10814],\n",
    "[datetime.datetime(2013, 3, 3, 7, 0), 10229],\n",
    "...\n",
    "],\n",
    "....\n",
    "}"
   ]
  },
  {
   "cell_type": "code",
   "execution_count": 13,
   "metadata": {
    "collapsed": false
   },
   "outputs": [],
   "source": [
    "import dateutil.parser\n",
    "'''def c2Dict(data):\n",
    "    dict2 = {}\n",
    "    for row in data[1:]:\n",
    "        key = tuple(row[0:4])\n",
    "        date = dateutil.parser.parse(row[6] + ' ' + row[7])\n",
    "        entries = int(row[-2])\n",
    "        val = [date,entries]\n",
    "        if key in dict2:\n",
    "            dict2[key].append(list(val))\n",
    "        else:\n",
    "            l = []\n",
    "            l.append(val)\n",
    "            dict2[key] = l\n",
    "    return dict2'''\n",
    "\n",
    "\n",
    "def c2Dict(data):\n",
    "    dict2 = {}\n",
    "    for row in data[1:]: #loop over the elements in the list rows\n",
    "        date = dateutil.parser.parse(row[6] + ' ' + row[7])\n",
    "        entries = int(row[-2])\n",
    "        val = tuple([date,entries])\n",
    "        dict2.setdefault(tuple(row[:4]), []).append(val)    #loop over the rows, add new keys to the dictionary when the row info is not already present, append to existing data when it is\n",
    "    return dict2\n",
    "\n",
    "c2Dictionary = c2Dict(rows)"
   ]
  },
  {
   "cell_type": "code",
   "execution_count": 14,
   "metadata": {
    "collapsed": false,
    "scrolled": true
   },
   "outputs": [
    {
     "name": "stdout",
     "output_type": "stream",
     "text": [
      "('A002', 'R051', '02-00-00', '59 ST') : [(datetime.datetime(2016, 3, 26, 0, 0), 5595746), (datetime.datetime(2016, 3, 26, 4, 0), 5595746), (datetime.datetime(2016, 3, 26, 8, 0), 5595746), (datetime.datetime(2016, 3, 26, 12, 0), 5595746), (datetime.datetime(2016, 3, 26, 16, 0), 5595746), (datetime.datetime(2016, 3, 26, 20, 0), 5595746), (datetime.datetime(2016, 3, 27, 0, 0), 5595746), (datetime.datetime(2016, 3, 27, 4, 0), 5595746), (datetime.datetime(2016, 3, 27, 8, 0), 5595746), (datetime.datetime(2016, 3, 27, 12, 0), 5595746), (datetime.datetime(2016, 3, 27, 16, 0), 5595746), (datetime.datetime(2016, 3, 27, 20, 0), 5595746), (datetime.datetime(2016, 3, 28, 0, 0), 5595746), (datetime.datetime(2016, 3, 28, 4, 0), 5595746), (datetime.datetime(2016, 3, 28, 8, 0), 5595780), (datetime.datetime(2016, 3, 28, 12, 0), 5595936), (datetime.datetime(2016, 3, 28, 16, 0), 5596182), (datetime.datetime(2016, 3, 28, 20, 0), 5596691), (datetime.datetime(2016, 3, 29, 0, 0), 5596896), (datetime.datetime(2016, 3, 29, 4, 0), 5596905), (datetime.datetime(2016, 3, 29, 8, 0), 5596942), (datetime.datetime(2016, 3, 29, 12, 0), 5597074), (datetime.datetime(2016, 3, 29, 16, 0), 5597352), (datetime.datetime(2016, 3, 29, 20, 0), 5597835), (datetime.datetime(2016, 3, 30, 0, 0), 5598003), (datetime.datetime(2016, 3, 30, 4, 0), 5598010), (datetime.datetime(2016, 3, 30, 8, 0), 5598057), (datetime.datetime(2016, 3, 30, 12, 0), 5598218), (datetime.datetime(2016, 3, 30, 16, 0), 5598477), (datetime.datetime(2016, 3, 30, 20, 0), 5598979), (datetime.datetime(2016, 3, 31, 0, 0), 5599165), (datetime.datetime(2016, 3, 31, 4, 0), 5599165), (datetime.datetime(2016, 3, 31, 8, 0), 5599202), (datetime.datetime(2016, 3, 31, 9, 22, 41), 5599230), (datetime.datetime(2016, 3, 31, 12, 0), 5599230), (datetime.datetime(2016, 3, 31, 16, 0), 5599230), (datetime.datetime(2016, 3, 31, 20, 0), 5599433), (datetime.datetime(2016, 4, 1, 0, 0), 5599639), (datetime.datetime(2016, 4, 1, 4, 0), 5599650), (datetime.datetime(2016, 4, 1, 8, 0), 5599690), (datetime.datetime(2016, 4, 1, 12, 0), 5599694), (datetime.datetime(2016, 4, 1, 16, 0), 5599946), (datetime.datetime(2016, 4, 1, 20, 0), 5600640)]\n",
      "None\n"
     ]
    }
   ],
   "source": [
    "print(firstnPairs(c2Dictionary,1)) "
   ]
  },
  {
   "cell_type": "markdown",
   "metadata": {},
   "source": [
    "#### Challenge 3\n",
    "\n",
    "- These counts are for every n hours. (What is n?) We want total daily\n",
    "  entries.\n",
    "\n",
    "Now make it that we again have the same keys, but now we have a single\n",
    "value for a single day, which is the total number of passengers that\n",
    "entered through this turnstile on this day."
   ]
  },
  {
   "cell_type": "code",
   "execution_count": 15,
   "metadata": {
    "collapsed": false
   },
   "outputs": [],
   "source": [
    "def c3Dict(data):\n",
    "    dict3 = {}\n",
    "    for row in data[1:]:\n",
    "        key = tuple(row[0:4])\n",
    "        date = dateutil.parser.parse(row[6])\n",
    "        entries = int(row[-2])\n",
    "        if key in dict3:\n",
    "            if date in dict3[key]:\n",
    "                dict3[key][date] += [entries]\n",
    "            else:\n",
    "                dict3[key][date] = [entries]\n",
    "        else:\n",
    "            l = {}\n",
    "            l[date] = [entries]\n",
    "            dict3[key] = l\n",
    "    for k1 in dict3:\n",
    "        for k2 in dict3[k1]:\n",
    "            dict3[k1][k2] = max(dict3[k1][k2]) - min(dict3[k1][k2])\n",
    "    return dict3\n",
    "\n",
    "'''def c3Dict(c2dict):\n",
    "    dict3 = {}\n",
    "    for turnstile, rows in c2dict.items():    #loop over key/data pairs in datetime_counts\n",
    "        d = {}    #for each make a new empty dictionary\n",
    "        for time, count in rows:    #loop over the time and the count\n",
    "            day = time.date()    #keep only the day info\n",
    "            d[day] = d.get(day, 0) + count    #pull out the data associated with key <day> and add the count to it - if <day> is in the dictionary return 0\n",
    "        dict3[turnstile] = sorted(d.items())    #save the count by turnstile in the dictionary\n",
    "    return dict3\n",
    "\n",
    "c3Dictionary = c3Dict(c2Dictionary)\n",
    "print(firstnPairs(c3Dictionary,1))'''\n",
    "\n",
    "c3Dictionary = c3Dict(rows)"
   ]
  },
  {
   "cell_type": "code",
   "execution_count": 16,
   "metadata": {
    "collapsed": false
   },
   "outputs": [
    {
     "name": "stdout",
     "output_type": "stream",
     "text": [
      "('A002', 'R051', '02-00-00', '59 ST') : {datetime.datetime(2016, 3, 28, 0, 0): 945, datetime.datetime(2016, 3, 30, 0, 0): 976, datetime.datetime(2016, 3, 31, 0, 0): 268, datetime.datetime(2016, 3, 27, 0, 0): 0, datetime.datetime(2016, 3, 26, 0, 0): 0, datetime.datetime(2016, 3, 29, 0, 0): 939, datetime.datetime(2016, 4, 1, 0, 0): 1001}\n"
     ]
    }
   ],
   "source": [
    "firstnPairs(c3Dictionary,1)"
   ]
  },
  {
   "cell_type": "code",
   "execution_count": 17,
   "metadata": {
    "collapsed": false
   },
   "outputs": [],
   "source": [
    "for k1 in c3Dictionary:\n",
    "    for k2 in c3Dictionary[k1]:\n",
    "        # print(c3Dictionary[k1][k2])\n",
    "        if c3Dictionary[k1][k2] < 0:\n",
    "            print(\"Negative entries\")"
   ]
  },
  {
   "cell_type": "markdown",
   "metadata": {},
   "source": [
    "#### Challenge 4\n",
    "\n",
    "We will plot the daily time series for a turnstile.\n",
    "\n",
    "In ipython notebook, add this to the beginning of your next cell:\n",
    "\n",
    "    %matplotlib inline\n",
    "\n",
    "This will make your matplotlib graphs integrate nicely with the\n",
    "notebook. To plot the time series, import matplotlib with\n",
    "\n",
    "    import matplotlib.pyplot as plt\n",
    "\n",
    "Take the list of [(date1, count1), (date2, count2), ...], for the\n",
    "turnstile and turn it into two lists:\n",
    "dates and counts. This should plot it:\n",
    "\n",
    "    plt.figure(figsize=(10,3))\n",
    "    plt.plot(dates,counts)"
   ]
  },
  {
   "cell_type": "code",
   "execution_count": 18,
   "metadata": {
    "collapsed": false,
    "scrolled": true
   },
   "outputs": [
    {
     "name": "stdout",
     "output_type": "stream",
     "text": [
      "[datetime.datetime(2016, 3, 26, 0, 0), datetime.datetime(2016, 3, 27, 0, 0), datetime.datetime(2016, 3, 28, 0, 0), datetime.datetime(2016, 3, 29, 0, 0), datetime.datetime(2016, 3, 30, 0, 0), datetime.datetime(2016, 3, 31, 0, 0), datetime.datetime(2016, 4, 1, 0, 0)]\n",
      "[0, 0, 945, 939, 976, 268, 1001]\n"
     ]
    },
    {
     "data": {
      "text/plain": [
       "[<matplotlib.lines.Line2D at 0x7fe34285bef0>]"
      ]
     },
     "execution_count": 18,
     "metadata": {},
     "output_type": "execute_result"
    },
    {
     "data": {
      "image/png": "[encoded data removed]",
      "text/plain": [
       "<matplotlib.figure.Figure at 0x7fe34f6125c0>"
      ]
     },
     "metadata": {},
     "output_type": "display_data"
    }
   ],
   "source": [
    "%matplotlib inline\n",
    "\n",
    "d4 = c3Dictionary[('A002', 'R051', '02-00-00', '59 ST')]\n",
    "dates = []\n",
    "counts = []\n",
    "for k in d4:\n",
    "    dates += [k]\n",
    "dates.sort()\n",
    "for date in dates:    \n",
    "    counts += [d4[date]]\n",
    "    \n",
    "print(dates)\n",
    "print(counts)\n",
    "\n",
    "plt.figure(figsize=(10,3))\n",
    "plt.plot(dates,counts)"
   ]
  },
  {
   "cell_type": "markdown",
   "metadata": {},
   "source": [
    "### Setting Up Pandas Dataframe"
   ]
  },
  {
   "cell_type": "code",
   "execution_count": 22,
   "metadata": {
    "collapsed": false
   },
   "outputs": [
    {
     "name": "stdout",
     "output_type": "stream",
     "text": [
      "   194777 turnstile_160305.txt\n",
      "   196534 turnstile_160312.txt\n",
      "   191891 turnstile_160319.txt\n",
      "   192947 turnstile_160326.txt\n",
      "   194155 turnstile_160402.txt\n",
      "   970304 total\n"
     ]
    }
   ],
   "source": [
    "%%bash\n",
    "wc -l turnstile*.txt"
   ]
  },
  {
   "cell_type": "code",
   "execution_count": 23,
   "metadata": {
    "collapsed": true
   },
   "outputs": [],
   "source": [
    "import pandas as pd\n",
    "\n",
    "dataset = [\"turnstile_160402.txt\", \"turnstile_160326.txt\", \"turnstile_160319.txt\", \"turnstile_160312.txt\", \"turnstile_160305.txt\"]\n",
    "\n",
    "df = pd.read_csv(dataset[0])\n",
    "\n",
    "for datafile in dataset[1:]:\n",
    "    df = df.append(pd.read_csv(datafile), ignore_index = True)"
   ]
  },
  {
   "cell_type": "code",
   "execution_count": 27,
   "metadata": {
    "collapsed": false
   },
   "outputs": [
    {
     "name": "stdout",
     "output_type": "stream",
     "text": [
      "112961\n"
     ]
    },
    {
     "data": {
      "text/html": [
       "<div>\n",
       "<table border=\"1\" class=\"dataframe\">\n",
       "  <thead>\n",
       "    <tr style=\"text-align: right;\">\n",
       "      <th></th>\n",
       "      <th>ENTRIES</th>\n",
       "      <th>EXITS</th>\n",
       "    </tr>\n",
       "  </thead>\n",
       "  <tbody>\n",
       "    <tr>\n",
       "      <th>count</th>\n",
       "      <td>9.524980e+05</td>\n",
       "      <td>9.524980e+05</td>\n",
       "    </tr>\n",
       "    <tr>\n",
       "      <th>mean</th>\n",
       "      <td>3.507197e+07</td>\n",
       "      <td>2.867611e+07</td>\n",
       "    </tr>\n",
       "    <tr>\n",
       "      <th>std</th>\n",
       "      <td>1.943835e+08</td>\n",
       "      <td>1.756991e+08</td>\n",
       "    </tr>\n",
       "    <tr>\n",
       "      <th>min</th>\n",
       "      <td>1.000000e+00</td>\n",
       "      <td>0.000000e+00</td>\n",
       "    </tr>\n",
       "    <tr>\n",
       "      <th>25%</th>\n",
       "      <td>6.400502e+05</td>\n",
       "      <td>3.303922e+05</td>\n",
       "    </tr>\n",
       "    <tr>\n",
       "      <th>50%</th>\n",
       "      <td>2.634955e+06</td>\n",
       "      <td>1.530733e+06</td>\n",
       "    </tr>\n",
       "    <tr>\n",
       "      <th>75%</th>\n",
       "      <td>6.559656e+06</td>\n",
       "      <td>4.668594e+06</td>\n",
       "    </tr>\n",
       "    <tr>\n",
       "      <th>max</th>\n",
       "      <td>2.146697e+09</td>\n",
       "      <td>2.097168e+09</td>\n",
       "    </tr>\n",
       "  </tbody>\n",
       "</table>\n",
       "</div>"
      ],
      "text/plain": [
       "            ENTRIES  \\\n",
       "count  9.524980e+05   \n",
       "mean   3.507197e+07   \n",
       "std    1.943835e+08   \n",
       "min    1.000000e+00   \n",
       "25%    6.400502e+05   \n",
       "50%    2.634955e+06   \n",
       "75%    6.559656e+06   \n",
       "max    2.146697e+09   \n",
       "\n",
       "       EXITS                                                                 \n",
       "count                                       9.524980e+05                     \n",
       "mean                                        2.867611e+07                     \n",
       "std                                         1.756991e+08                     \n",
       "min                                         0.000000e+00                     \n",
       "25%                                         3.303922e+05                     \n",
       "50%                                         1.530733e+06                     \n",
       "75%                                         4.668594e+06                     \n",
       "max                                         2.097168e+09                     "
      ]
     },
     "execution_count": 27,
     "metadata": {},
     "output_type": "execute_result"
    }
   ],
   "source": [
    "df = df[df['ENTRIES']!=0]\n",
    "print(df[df['ENTRIES']<100000]['UNIT'].count())\n",
    "df.describe()"
   ]
  },
  {
   "cell_type": "code",
   "execution_count": 28,
   "metadata": {
    "collapsed": false
   },
   "outputs": [
    {
     "data": {
      "text/html": [
       "<div>\n",
       "<table border=\"1\" class=\"dataframe\">\n",
       "  <thead>\n",
       "    <tr style=\"text-align: right;\">\n",
       "      <th></th>\n",
       "      <th>C/A</th>\n",
       "      <th>UNIT</th>\n",
       "      <th>SCP</th>\n",
       "      <th>STATION</th>\n",
       "      <th>LINENAME</th>\n",
       "      <th>DIVISION</th>\n",
       "      <th>DATE</th>\n",
       "      <th>TIME</th>\n",
       "      <th>DESC</th>\n",
       "      <th>ENTRIES</th>\n",
       "      <th>EXITS</th>\n",
       "    </tr>\n",
       "  </thead>\n",
       "  <tbody>\n",
       "    <tr>\n",
       "      <th>0</th>\n",
       "      <td>A002</td>\n",
       "      <td>R051</td>\n",
       "      <td>02-00-00</td>\n",
       "      <td>59 ST</td>\n",
       "      <td>NQR456</td>\n",
       "      <td>BMT</td>\n",
       "      <td>03/26/2016</td>\n",
       "      <td>00:00:00</td>\n",
       "      <td>REGULAR</td>\n",
       "      <td>5595746</td>\n",
       "      <td>1893277</td>\n",
       "    </tr>\n",
       "    <tr>\n",
       "      <th>1</th>\n",
       "      <td>A002</td>\n",
       "      <td>R051</td>\n",
       "      <td>02-00-00</td>\n",
       "      <td>59 ST</td>\n",
       "      <td>NQR456</td>\n",
       "      <td>BMT</td>\n",
       "      <td>03/26/2016</td>\n",
       "      <td>04:00:00</td>\n",
       "      <td>REGULAR</td>\n",
       "      <td>5595746</td>\n",
       "      <td>1893282</td>\n",
       "    </tr>\n",
       "    <tr>\n",
       "      <th>2</th>\n",
       "      <td>A002</td>\n",
       "      <td>R051</td>\n",
       "      <td>02-00-00</td>\n",
       "      <td>59 ST</td>\n",
       "      <td>NQR456</td>\n",
       "      <td>BMT</td>\n",
       "      <td>03/26/2016</td>\n",
       "      <td>08:00:00</td>\n",
       "      <td>REGULAR</td>\n",
       "      <td>5595746</td>\n",
       "      <td>1893282</td>\n",
       "    </tr>\n",
       "    <tr>\n",
       "      <th>3</th>\n",
       "      <td>A002</td>\n",
       "      <td>R051</td>\n",
       "      <td>02-00-00</td>\n",
       "      <td>59 ST</td>\n",
       "      <td>NQR456</td>\n",
       "      <td>BMT</td>\n",
       "      <td>03/26/2016</td>\n",
       "      <td>12:00:00</td>\n",
       "      <td>REGULAR</td>\n",
       "      <td>5595746</td>\n",
       "      <td>1893282</td>\n",
       "    </tr>\n",
       "    <tr>\n",
       "      <th>4</th>\n",
       "      <td>A002</td>\n",
       "      <td>R051</td>\n",
       "      <td>02-00-00</td>\n",
       "      <td>59 ST</td>\n",
       "      <td>NQR456</td>\n",
       "      <td>BMT</td>\n",
       "      <td>03/26/2016</td>\n",
       "      <td>16:00:00</td>\n",
       "      <td>REGULAR</td>\n",
       "      <td>5595746</td>\n",
       "      <td>1893282</td>\n",
       "    </tr>\n",
       "  </tbody>\n",
       "</table>\n",
       "</div>"
      ],
      "text/plain": [
       "    C/A  UNIT       SCP STATION LINENAME DIVISION        DATE      TIME  \\\n",
       "0  A002  R051  02-00-00   59 ST   NQR456      BMT  03/26/2016  00:00:00   \n",
       "1  A002  R051  02-00-00   59 ST   NQR456      BMT  03/26/2016  04:00:00   \n",
       "2  A002  R051  02-00-00   59 ST   NQR456      BMT  03/26/2016  08:00:00   \n",
       "3  A002  R051  02-00-00   59 ST   NQR456      BMT  03/26/2016  12:00:00   \n",
       "4  A002  R051  02-00-00   59 ST   NQR456      BMT  03/26/2016  16:00:00   \n",
       "\n",
       "      DESC  ENTRIES  \\\n",
       "0  REGULAR  5595746   \n",
       "1  REGULAR  5595746   \n",
       "2  REGULAR  5595746   \n",
       "3  REGULAR  5595746   \n",
       "4  REGULAR  5595746   \n",
       "\n",
       "   EXITS                                                                 \n",
       "0                                            1893277                     \n",
       "1                                            1893282                     \n",
       "2                                            1893282                     \n",
       "3                                            1893282                     \n",
       "4                                            1893282                     "
      ]
     },
     "execution_count": 28,
     "metadata": {},
     "output_type": "execute_result"
    }
   ],
   "source": [
    "df.head(5)"
   ]
  },
  {
   "cell_type": "code",
   "execution_count": 30,
   "metadata": {
    "collapsed": false
   },
   "outputs": [],
   "source": [
    "import dateutil.parser\n",
    "import datetime\n",
    "\n",
    "ts_data1= {}\n",
    "for name, group in df.groupby(['C/A','UNIT','SCP','STATION']):\n",
    "    ts_data1[name] = group.iloc[:,4:]"
   ]
  },
  {
   "cell_type": "markdown",
   "metadata": {},
   "source": [
    "#### Challenge 5\n",
    "\n",
    "- So far we've been operating on a single turnstile level, let's\n",
    "  combine turnstiles in the same ControlArea/Unit/Station combo. There\n",
    "  are some ControlArea/Unit/Station groups that have a single\n",
    "  turnstile, but most have multiple turnstilea-- same value for the\n",
    "  C/A, UNIT and STATION columns, different values for the SCP column.\n",
    "\n",
    "We want to combine the numbers together -- for each\n",
    "ControlArea/UNIT/STATION combo, for each day, add the counts from each\n",
    "turnstile belonging to that combo."
   ]
  },
  {
   "cell_type": "code",
   "execution_count": 32,
   "metadata": {
    "collapsed": false
   },
   "outputs": [],
   "source": [
    "import dateutil.parser\n",
    "import datetime\n",
    "\n",
    "ts_data5= {}\n",
    "for name, group in df.groupby(['C/A','UNIT','STATION']):\n",
    "    ts_dt_val = {}\n",
    "    for name2,group2 in group.groupby(['DATE']) :\n",
    "        n = 0\n",
    "        for name3,group3 in group2.groupby(['SCP']) :\n",
    "            n += group3['ENTRIES'].max() - group3['ENTRIES'].min()\n",
    "        ts_dt_val[ dateutil.parser.parse(name2)] = n\n",
    "    ts_data5[name] =  ts_dt_val   "
   ]
  },
  {
   "cell_type": "code",
   "execution_count": 34,
   "metadata": {
    "collapsed": false
   },
   "outputs": [
    {
     "name": "stdout",
     "output_type": "stream",
     "text": [
      "('N213', 'R154', 'TREMONT AV')\n",
      "{datetime.datetime(2016, 3, 18, 0, 0): 10249, datetime.datetime(2016, 3, 21, 0, 0): 9953, datetime.datetime(2016, 3, 22, 0, 0): 10299, datetime.datetime(2016, 3, 4, 0, 0): 9937, datetime.datetime(2016, 3, 20, 0, 0): 4372, datetime.datetime(2016, 3, 8, 0, 0): 10208, datetime.datetime(2016, 2, 29, 0, 0): 9808, datetime.datetime(2016, 3, 25, 0, 0): 8097, datetime.datetime(2016, 3, 29, 0, 0): 10196, datetime.datetime(2016, 3, 23, 0, 0): 10211, datetime.datetime(2016, 3, 15, 0, 0): 10199, datetime.datetime(2016, 3, 28, 0, 0): 9377, datetime.datetime(2016, 3, 9, 0, 0): 10327, datetime.datetime(2016, 3, 11, 0, 0): 10083, datetime.datetime(2016, 3, 16, 0, 0): 10300, datetime.datetime(2016, 3, 17, 0, 0): 10277, datetime.datetime(2016, 3, 31, 0, 0): 10243, datetime.datetime(2016, 2, 27, 0, 0): 5565, datetime.datetime(2016, 3, 3, 0, 0): 10140, datetime.datetime(2016, 3, 19, 0, 0): 5765, datetime.datetime(2016, 3, 10, 0, 0): 10334, datetime.datetime(2016, 2, 28, 0, 0): 4350, datetime.datetime(2016, 3, 2, 0, 0): 10409, datetime.datetime(2016, 3, 26, 0, 0): 5649, datetime.datetime(2016, 3, 30, 0, 0): 10192, datetime.datetime(2016, 3, 1, 0, 0): 10346, datetime.datetime(2016, 3, 27, 0, 0): 4521, datetime.datetime(2016, 3, 14, 0, 0): 9601, datetime.datetime(2016, 3, 5, 0, 0): 5714, datetime.datetime(2016, 3, 6, 0, 0): 4454, datetime.datetime(2016, 3, 13, 0, 0): 4288, datetime.datetime(2016, 3, 12, 0, 0): 5699, datetime.datetime(2016, 3, 7, 0, 0): 10089, datetime.datetime(2016, 3, 24, 0, 0): 10314, datetime.datetime(2016, 4, 1, 0, 0): 10202}\n"
     ]
    },
    {
     "data": {
      "image/png": "[encoded data removed]",
      "text/plain": [
       "<matplotlib.figure.Figure at 0x7f74f78eb7f0>"
      ]
     },
     "metadata": {},
     "output_type": "display_data"
    }
   ],
   "source": [
    "import matplotlib.pyplot as plt\n",
    "%matplotlib inline\n",
    "\n",
    "for key,val in ts_data5.items():\n",
    "    if key[2] != 'TREMONT AV': continue\n",
    "    print (key);  print(val)\n",
    "    dates = sorted(list(val.keys()))\n",
    "    counts=[]\n",
    "    for date in dates:\n",
    "        counts.append(val[date])\n",
    "    plt.figure(figsize=(10,3))\n",
    "    plt.plot(dates,counts)\n",
    "    break"
   ]
  },
  {
   "cell_type": "markdown",
   "metadata": {
    "collapsed": false
   },
   "source": [
    "#### Challenge 6\n",
    "\n",
    "Similarly, combine everything in each station, and come up with a time\n",
    "series of `[(date1, count1),(date2,count2),...]` type of time series\n",
    "for each STATION, by adding up all the turnstiles in a station."
   ]
  },
  {
   "cell_type": "code",
   "execution_count": 35,
   "metadata": {
    "collapsed": true
   },
   "outputs": [],
   "source": [
    "ts_data6= {}\n",
    "for name, group in df.groupby(['STATION']):\n",
    "    ts_dt_val = {}\n",
    "    for name2,group2 in group.groupby(['DATE']) :\n",
    "        n = 0\n",
    "        for name3,group3 in group2.groupby(['C/A','UNIT','SCP']) :\n",
    "            n += group3['ENTRIES'].max() - group3['ENTRIES'].min()\n",
    "        ts_dt_val[ dateutil.parser.parse(name2)] = n\n",
    "    ts_data6[name] =  ts_dt_val   "
   ]
  },
  {
   "cell_type": "markdown",
   "metadata": {
    "collapsed": true
   },
   "source": [
    "#### Challenge 7\n",
    "\n",
    "Plot the time series for a station."
   ]
  },
  {
   "cell_type": "code",
   "execution_count": 37,
   "metadata": {
    "collapsed": false
   },
   "outputs": [
    {
     "name": "stdout",
     "output_type": "stream",
     "text": [
      "TREMONT AV\n",
      "{datetime.datetime(2016, 3, 18, 0, 0): 10249, datetime.datetime(2016, 3, 21, 0, 0): 9953, datetime.datetime(2016, 3, 22, 0, 0): 10299, datetime.datetime(2016, 3, 4, 0, 0): 9937, datetime.datetime(2016, 3, 20, 0, 0): 4372, datetime.datetime(2016, 3, 8, 0, 0): 10208, datetime.datetime(2016, 2, 29, 0, 0): 9808, datetime.datetime(2016, 3, 25, 0, 0): 8097, datetime.datetime(2016, 3, 29, 0, 0): 10196, datetime.datetime(2016, 3, 23, 0, 0): 10211, datetime.datetime(2016, 3, 15, 0, 0): 10199, datetime.datetime(2016, 3, 28, 0, 0): 9377, datetime.datetime(2016, 3, 9, 0, 0): 10327, datetime.datetime(2016, 3, 11, 0, 0): 10083, datetime.datetime(2016, 3, 16, 0, 0): 10300, datetime.datetime(2016, 3, 17, 0, 0): 10277, datetime.datetime(2016, 3, 31, 0, 0): 10243, datetime.datetime(2016, 2, 27, 0, 0): 5565, datetime.datetime(2016, 3, 3, 0, 0): 10140, datetime.datetime(2016, 3, 19, 0, 0): 5765, datetime.datetime(2016, 3, 10, 0, 0): 10334, datetime.datetime(2016, 2, 28, 0, 0): 4350, datetime.datetime(2016, 3, 2, 0, 0): 10409, datetime.datetime(2016, 3, 26, 0, 0): 5649, datetime.datetime(2016, 3, 30, 0, 0): 10192, datetime.datetime(2016, 3, 1, 0, 0): 10346, datetime.datetime(2016, 3, 27, 0, 0): 4521, datetime.datetime(2016, 3, 14, 0, 0): 9601, datetime.datetime(2016, 3, 5, 0, 0): 5714, datetime.datetime(2016, 3, 6, 0, 0): 4454, datetime.datetime(2016, 3, 13, 0, 0): 4288, datetime.datetime(2016, 3, 12, 0, 0): 5699, datetime.datetime(2016, 3, 7, 0, 0): 10089, datetime.datetime(2016, 3, 24, 0, 0): 10314, datetime.datetime(2016, 4, 1, 0, 0): 10202}\n"
     ]
    },
    {
     "data": {
      "image/png": "[encoded data removed]",
      "text/plain": [
       "<matplotlib.figure.Figure at 0x7f74e9ff1c50>"
      ]
     },
     "metadata": {},
     "output_type": "display_data"
    }
   ],
   "source": [
    "for key,val in ts_data6.items():\n",
    "    if key != 'TREMONT AV': continue\n",
    "    print (key);  print(val)\n",
    "    dates = sorted(list(val.keys()))\n",
    "    counts=[]\n",
    "    for date in dates:\n",
    "        counts.append(val[date])\n",
    "    plt.figure(figsize=(10,3))\n",
    "    plt.plot(dates,counts)\n",
    "    break"
   ]
  },
  {
   "cell_type": "markdown",
   "metadata": {},
   "source": [
    "#### Challenge 8\n",
    "\n",
    "- Make one list of counts for **one** week for one station. Monday's\n",
    "count, Tuesday's count, etc. so it's a list of 7 counts.\n",
    "Make the same list for another week, and another week, and another\n",
    "week.\n",
    "`plt.plot(week_count_list)` for every `week_count_list` you created\n",
    "this way. You should get a rainbow plot of weekly commute numbers on\n",
    "top of each other."
   ]
  },
  {
   "cell_type": "code",
   "execution_count": 38,
   "metadata": {
    "collapsed": true
   },
   "outputs": [],
   "source": [
    "d0 = dateutil.parser.parse('03/07/2016')\n",
    "d1 = dateutil.parser.parse('03/14/2016')\n",
    "d2 = dateutil.parser.parse('03/21/2016')\n",
    "d3 = dateutil.parser.parse('03/28/2016')\n",
    "list1 = [0,0,0,0,0,0,0]\n",
    "list2 = [0,0,0,0,0,0,0]\n",
    "list3 = [0,0,0,0,0,0,0]\n",
    "#wkdays=['mon','tue','wed','thu','fri']\n",
    "wkdays = list(range(7))"
   ]
  },
  {
   "cell_type": "code",
   "execution_count": 39,
   "metadata": {
    "collapsed": false
   },
   "outputs": [
    {
     "data": {
      "image/png": "[encoded data removed]",
      "text/plain": [
       "<matplotlib.figure.Figure at 0x7f74e9ef6048>"
      ]
     },
     "metadata": {},
     "output_type": "display_data"
    }
   ],
   "source": [
    "for key,val in ts_data6.items():\n",
    "    if key != 'TREMONT AV': continue\n",
    "#    print (key);  print(val)\n",
    "    for k1,v1 in val.items():\n",
    "        idx = k1.weekday()\n",
    "        if k1 >=d0 and k1<d1: list1[idx] = v1\n",
    "        elif k1 >=d1 and k1<d2: list2[idx] = v1\n",
    "        elif k1 >=d2 and k1<d3: list3[idx] = v1\n",
    "        else: pass\n",
    "    plt.plot(wkdays,list1,'b-',label='Week1')\n",
    "    plt.plot(wkdays,list2,'r-',label='Week2')\n",
    "    plt.plot(wkdays,list3,'g-',label='Week3')\n",
    "    plt.legend(loc='upper right')\n",
    "    plt.show()\n",
    "    break"
   ]
  },
  {
   "cell_type": "markdown",
   "metadata": {},
   "source": [
    "#### Challenge 9\n",
    "\n",
    "- Over multiple weeks, sum total ridership for each station and sort\n",
    "  them, so you can find out the stations with the highest traffic\n",
    "  during the time you investigate"
   ]
  },
  {
   "cell_type": "code",
   "execution_count": 40,
   "metadata": {
    "collapsed": true
   },
   "outputs": [],
   "source": [
    "ts_data9= {}\n",
    "for name, group in df.groupby(['STATION']):\n",
    "    n = 0\n",
    "    for name2,group2 in group.groupby(['C/A','UNIT','SCP']) :\n",
    "        n += group2['ENTRIES'].max() - group2['ENTRIES'].min()    \n",
    "    ts_data9[name] =  n  "
   ]
  },
  {
   "cell_type": "markdown",
   "metadata": {},
   "source": [
    "#### Challenge 10\n",
    "\n",
    "- Make a single list of these total ridership values and plot it with\n",
    "\n",
    "    plt.hist(total_ridership_counts)\n",
    "\n",
    "to get an idea about the distribution of total ridership among\n",
    "different stations.\n",
    "\n",
    "This should show you that most stations have a small traffic, and the\n",
    "histogram bins for large traffic volumes have small bars.\n",
    "\n",
    "*Additional Hint*:\n",
    "\n",
    "If you want to see which stations take the meat of the traffic, you\n",
    "can sort the total ridership counts and make a `plt.bar` graph. For\n",
    "this, you want to have two lists: the indices of each bar, and the\n",
    "values. The indices can just be `0,1,2,3,...`, so you can do\n",
    "\n",
    "    indices = range(len(total_ridership_values))\n",
    "    plt.bar(indices, total_ridership_values)"
   ]
  },
  {
   "cell_type": "code",
   "execution_count": 47,
   "metadata": {
    "collapsed": false
   },
   "outputs": [
    {
     "name": "stdout",
     "output_type": "stream",
     "text": [
      "373 7628 2131102095\n"
     ]
    },
    {
     "data": {
      "text/plain": [
       "(array([ 368.,    3.,    0.,    0.,    0.,    0.,    0.,    0.,    1.,    1.]),\n",
       " array([  7.62800000e+03,   2.13117075e+08,   4.26226521e+08,\n",
       "          6.39335968e+08,   8.52445415e+08,   1.06555486e+09,\n",
       "          1.27866431e+09,   1.49177375e+09,   1.70488320e+09,\n",
       "          1.91799265e+09,   2.13110210e+09]),\n",
       " <a list of 10 Patch objects>)"
      ]
     },
     "execution_count": 47,
     "metadata": {},
     "output_type": "execute_result"
    },
    {
     "data": {
      "image/png": "[encoded data removed]",
      "text/plain": [
       "<matplotlib.figure.Figure at 0x7f74e8d31550>"
      ]
     },
     "metadata": {},
     "output_type": "display_data"
    }
   ],
   "source": [
    "counts = [val for key,val in ts_data9.items()]\n",
    "print(len(counts),min(counts),max(counts))\n",
    "total_ridership_counts = counts\n",
    "\n",
    "plt.hist(total_ridership_counts) "
   ]
  },
  {
   "cell_type": "code",
   "execution_count": 48,
   "metadata": {
    "collapsed": false
   },
   "outputs": [
    {
     "data": {
      "text/plain": [
       "<Container object of 373 artists>"
      ]
     },
     "execution_count": 48,
     "metadata": {},
     "output_type": "execute_result"
    },
    {
     "data": {
      "image/png": "[encoded data removed]",
      "text/plain": [
       "<matplotlib.figure.Figure at 0x7f74e8d34208>"
      ]
     },
     "metadata": {},
     "output_type": "display_data"
    }
   ],
   "source": [
    "indices = range(len(counts))\n",
    "plt.bar(indices, counts)"
   ]
  },
  {
   "cell_type": "code",
   "execution_count": 55,
   "metadata": {
    "collapsed": false
   },
   "outputs": [],
   "source": [
    "station_freq = [(key,val) for key,val in ts_data9.items()]\n",
    "station_freq.sort(reverse=True, key=lambda x: x[1])"
   ]
  },
  {
   "cell_type": "code",
   "execution_count": 56,
   "metadata": {
    "collapsed": false
   },
   "outputs": [
    {
     "data": {
      "text/plain": [
       "[('LORIMER ST', 2131102095),\n",
       " ('167 ST', 1772055996),\n",
       " ('45 ST', 285329830),\n",
       " ('36 ST', 269010154),\n",
       " ('34 ST-PENN STA', 239977882),\n",
       " ('8 ST-NYU', 134765808),\n",
       " ('14 ST-UNION SQ', 119916667),\n",
       " ('JAMAICA 179 ST', 118129398),\n",
       " ('COURT SQ', 117879346),\n",
       " ('23 ST', 70943438)]"
      ]
     },
     "execution_count": 56,
     "metadata": {},
     "output_type": "execute_result"
    }
   ],
   "source": [
    "station_freq[0:10]"
   ]
  },
  {
   "cell_type": "code",
   "execution_count": 57,
   "metadata": {
    "collapsed": false
   },
   "outputs": [
    {
     "name": "stdout",
     "output_type": "stream",
     "text": [
      "C/A                                                                     112961\n",
      "UNIT                                                                    112961\n",
      "SCP                                                                     112961\n",
      "STATION                                                                 112961\n",
      "LINENAME                                                                112961\n",
      "DIVISION                                                                112961\n",
      "DATE                                                                    112961\n",
      "TIME                                                                    112961\n",
      "DESC                                                                    112961\n",
      "ENTRIES                                                                 112961\n",
      "EXITS                                                                   112961\n",
      "dtype: int64\n"
     ]
    }
   ],
   "source": [
    "#throwing away overly high entry counts\n",
    "print(df[ df['ENTRIES'] < 100000].count() )\n",
    "df = df[ df['ENTRIES'] > 100000]"
   ]
  },
  {
   "cell_type": "code",
   "execution_count": 59,
   "metadata": {
    "collapsed": false
   },
   "outputs": [
    {
     "data": {
      "text/plain": [
       "[('LORIMER ST', 2122716423),\n",
       " ('167 ST', 1772055989),\n",
       " ('36 ST', 268986387),\n",
       " ('34 ST-PENN STA', 239653376),\n",
       " ('14 ST-UNION SQ', 119823250),\n",
       " ('8 ST-NYU', 67656829),\n",
       " ('ATL AV-BARCLAY', 67157942),\n",
       " ('ELMHURST AV', 54689957),\n",
       " ('NASSAU ST', 50698158),\n",
       " ('47-50 STS ROCK', 35210295)]"
      ]
     },
     "execution_count": 59,
     "metadata": {},
     "output_type": "execute_result"
    }
   ],
   "source": [
    "#reprinting top 10 with filtered data\n",
    "ts_data9= {}\n",
    "for name, group in df.groupby(['STATION']):\n",
    "    n = 0\n",
    "    for name2,group2 in group.groupby(['C/A','UNIT','SCP']) :\n",
    "        n += group2['ENTRIES'].max() - group2['ENTRIES'].min()    \n",
    "    ts_data9[name] =  n  \n",
    "station_freq = [(key,val) for key,val in ts_data9.items()]\n",
    "station_freq.sort(reverse=True, key=lambda x: x[1])\n",
    "station_freq[0:10]"
   ]
  },
  {
   "cell_type": "code",
   "execution_count": null,
   "metadata": {
    "collapsed": true
   },
   "outputs": [],
   "source": []
  }
 ],
 "metadata": {
  "kernelspec": {
   "display_name": "Python 3",
   "language": "python",
   "name": "python3"
  },
  "language_info": {
   "codemirror_mode": {
    "name": "ipython",
    "version": 3
   },
   "file_extension": ".py",
   "mimetype": "text/x-python",
   "name": "python",
   "nbconvert_exporter": "python",
   "pygments_lexer": "ipython3",
   "version": "3.5.1"
  }
 },
 "nbformat": 4,
 "nbformat_minor": 0
}
