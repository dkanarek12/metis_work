{
 "cells": [
  {
   "cell_type": "markdown",
   "metadata": {},
   "source": [
    "# Challenge Set 1  \n",
    "Topic:        Explore MTA turnstile data  \n",
    "Date:         04/18/2016  \n",
    "Name:         David Kanarek  \n",
    "Worked with:  Max, Brian  "
   ]
  },
  {
   "cell_type": "markdown",
   "metadata": {},
   "source": [
    "**Challenge 1**"
   ]
  },
  {
   "cell_type": "code",
   "execution_count": 2,
   "metadata": {
    "collapsed": false
   },
   "outputs": [],
   "source": [
    "import csv\n",
    "import re\n",
    "from collections import defaultdict\n",
    "from itertools import islice\n",
    "from datetime import date\n",
    "from datetime import datetime\n",
    "from datetime import time\n",
    "\n",
    "\n",
    "def makeTurnstyleDict(filename):\n",
    "    '''take a .csv file of mta data and return a dictionary with each CA, unit, SCP, station as the key'''\n",
    "    turnstyle_dict = defaultdict(list)\n",
    "    dt = []\n",
    "    entries_list = []\n",
    "    key_list = []\n",
    "\n",
    "\n",
    "    with open(filename,'r') as f:\n",
    "        reader = csv.reader(f)\n",
    "        reader.next() # skip header row\n",
    "        for row in reader:\n",
    "            C_A = row[0]\n",
    "            unit = row[1]\n",
    "            SCP = row[2]\n",
    "            station = row[3]\n",
    "            row[-1]=row[-1].strip()\n",
    "            entries_list.append(int(row[9]))\n",
    "\n",
    "            key = (C_A, unit,SCP,station)\n",
    "            key_list.append(key)\n",
    "\n",
    "            d = row[6].split('/') #date split into month, day, and year\n",
    "            t = row[7].split(':') #time split into hour, minute, second\n",
    "\n",
    "            for i in range(len(d)):  #convert date and time from strings to ints\n",
    "                d[i]=int(d[i])\n",
    "                t[i]= int(t[i])\n",
    "\n",
    "            dt.append(datetime.combine(date(d[2],d[0],d[1]),time(t[0],t[1],t[2]))) #datetime object\n",
    "\n",
    "            if key in turnstyle_dict:\n",
    "                turnstyle_dict[key].append(row[4:])\n",
    "            else:\n",
    "                turnstyle_dict[key]=row[4:]\n",
    "    \n",
    "    return turnstyle_dict, dt, entries_list, key_list    \n",
    "\n",
    "turnstyle_dict,dt,entries_list,key_list = makeTurnstyleDict('turnstyle_data_may30_2015_2.csv')\n"
   ]
  },
  {
   "cell_type": "markdown",
   "metadata": {},
   "source": [
    "**Challenge 2**"
   ]
  },
  {
   "cell_type": "code",
   "execution_count": 18,
   "metadata": {
    "collapsed": false
   },
   "outputs": [
    {
     "name": "stdout",
     "output_type": "stream",
     "text": [
      "('A030', 'R083', '01-06-00', '23 ST-5 AVE') [[datetime.datetime(2015, 5, 23, 0, 0), 0], [datetime.datetime(2015, 5, 23, 4, 0), 56], [datetime.datetime(2015, 5, 23, 8, 0), 26], [datetime.datetime(2015, 5, 23, 12, 0), 101], [datetime.datetime(2015, 5, 23, 16, 0), 214], [datetime.datetime(2015, 5, 23, 20, 0), 244], [datetime.datetime(2015, 5, 24, 0, 0), 174], [datetime.datetime(2015, 5, 24, 4, 0), 53], [datetime.datetime(2015, 5, 24, 8, 0), 27], [datetime.datetime(2015, 5, 24, 12, 0), 70], [datetime.datetime(2015, 5, 24, 16, 0), 182], [datetime.datetime(2015, 5, 24, 20, 0), 227], [datetime.datetime(2015, 5, 25, 0, 0), 141], [datetime.datetime(2015, 5, 25, 4, 0), 18], [datetime.datetime(2015, 5, 25, 8, 0), 18], [datetime.datetime(2015, 5, 25, 12, 0), 73], [datetime.datetime(2015, 5, 25, 16, 0), 144], [datetime.datetime(2015, 5, 25, 20, 0), 223], [datetime.datetime(2015, 5, 26, 0, 0), 138], [datetime.datetime(2015, 5, 26, 4, 0), 17], [datetime.datetime(2015, 5, 26, 8, 0), 103], [datetime.datetime(2015, 5, 26, 12, 0), 449], [datetime.datetime(2015, 5, 26, 16, 0), 456], [datetime.datetime(2015, 5, 26, 20, 0), 1054], [datetime.datetime(2015, 5, 27, 0, 0), 316], [datetime.datetime(2015, 5, 27, 4, 0), 17], [datetime.datetime(2015, 5, 27, 8, 0), 101], [datetime.datetime(2015, 5, 27, 12, 0), 526], [datetime.datetime(2015, 5, 27, 16, 0), 523], [datetime.datetime(2015, 5, 27, 20, 0), 1134], [datetime.datetime(2015, 5, 28, 0, 0), 422], [datetime.datetime(2015, 5, 28, 4, 0), 45], [datetime.datetime(2015, 5, 28, 8, 0), 115], [datetime.datetime(2015, 5, 28, 12, 0), 509], [datetime.datetime(2015, 5, 28, 16, 0), 475], [datetime.datetime(2015, 5, 28, 20, 0), 1044], [datetime.datetime(2015, 5, 29, 0, 0), 355], [datetime.datetime(2015, 5, 29, 4, 0), 36], [datetime.datetime(2015, 5, 29, 8, 0), 105], [datetime.datetime(2015, 5, 29, 12, 0), 483], [datetime.datetime(2015, 5, 29, 16, 0), 550], [datetime.datetime(2015, 5, 29, 20, 0), 949]]\n"
     ]
    }
   ],
   "source": [
    "def cleanTurnstyleDict(turnstyle_dict,dt,entries_list,key_list):\n",
    "\n",
    "    turnstyle_clean = defaultdict(list)\n",
    "\n",
    "    count = 0\n",
    "    day = dt[0].day\n",
    "    indices = [0]\n",
    "    total = 0       #list of lists for number of entries per 4 hour block\n",
    "    while count < len(key_list):       \n",
    "\n",
    "        if key_list[count] in turnstyle_clean:\n",
    "            if (entries_list[count]-total) >=0 and (entries_list[count]-total) < 10000:\n",
    "                turnstyle_clean[key_list[count]].append([dt[count],entries_list[count]-total]) \n",
    "            total = entries_list[count]     #cumulative total of entries\n",
    "        else:\n",
    "            turnstyle_clean[key_list[count]] = [[dt[count],0]]\n",
    "            total = entries_list[count]\n",
    "\n",
    "        if dt[count].day != day:             #locate range of indices for each day\n",
    "            indices.append(count)\n",
    "            day = dt[count].day\n",
    "\n",
    "        count +=1\n",
    "\n",
    "    return turnstyle_clean, indices\n",
    "\n",
    "turnstyle_clean, indices = cleanTurnstyleDict(turnstyle_dict,dt,entries_list,key_list)\n",
    "for i in turnstyle_clean.keys()[0:1]:\n",
    "    print i, turnstyle_clean[i]"
   ]
  },
  {
   "cell_type": "markdown",
   "metadata": {},
   "source": [
    "**Challenge 3**"
   ]
  },
  {
   "cell_type": "code",
   "execution_count": 19,
   "metadata": {
    "collapsed": false
   },
   "outputs": [
    {
     "name": "stdout",
     "output_type": "stream",
     "text": [
      "('A002', 'R051', '02-00-00', 'LEXINGTON AVE') [[datetime.date(2015, 5, 23), 1087], [datetime.date(2015, 5, 24), 732], [datetime.date(2015, 5, 25), 854], [datetime.date(2015, 5, 26), 1831], [datetime.date(2015, 5, 27), 1817], [datetime.date(2015, 5, 28), 1823], [datetime.date(2015, 5, 29), 1900]]\n"
     ]
    }
   ],
   "source": [
    "def turnstyleDailyTotal(turnstyle_clean,indices):\n",
    "    turnstyle_total =defaultdict(list)\n",
    "    day_start= indices[0]\n",
    "    count = 1\n",
    "\n",
    "\n",
    "    while day_start < indices[len(indices)-1]:\n",
    "        day_end = indices[count]\n",
    "        daily_total = entries_list[day_end]-entries_list[day_start]   #total entries in the day is entries at the end - entries at the start\n",
    "\n",
    "        if key_list[day_end] != key_list[day_start]:\n",
    "            daily_total = int(1.2*(entries_list[day_end-1]-entries_list[day_start]))\n",
    "\n",
    "        if key_list[day_start] in turnstyle_total:      #add dictionarty entries for each day at each station\n",
    "            d = dt[day_start]\n",
    "            turnstyle_total[key_list[day_start]].append([date(d.year,d.month,d.day),daily_total]) \n",
    "        else:\n",
    "            d = dt[day_start]\n",
    "            turnstyle_total[key_list[day_start]] = [[date(d.year,d.month,d.day),daily_total]]\n",
    "\n",
    "        day_start=day_end\n",
    "        count+=1\n",
    "    \n",
    "    return turnstyle_total\n",
    "\n",
    "turnstyle_total = turnstyleDailyTotal(turnstyle_clean, indices)\n",
    "\n",
    "for i in key_list[0:1]:\n",
    "    print i, turnstyle_total[i]\n",
    "\n",
    "    "
   ]
  },
  {
   "cell_type": "markdown",
   "metadata": {},
   "source": [
    "**Convert to Pandas**"
   ]
  },
  {
   "cell_type": "code",
   "execution_count": 4,
   "metadata": {
    "collapsed": false
   },
   "outputs": [
    {
     "data": {
      "text/html": [
       "<div>\n",
       "<table border=\"1\" class=\"dataframe\">\n",
       "  <thead>\n",
       "    <tr style=\"text-align: right;\">\n",
       "      <th></th>\n",
       "      <th>C/A</th>\n",
       "      <th>UNIT</th>\n",
       "      <th>SCP</th>\n",
       "      <th>STATION</th>\n",
       "      <th>LINENAME</th>\n",
       "      <th>DIVISION</th>\n",
       "      <th>DATE</th>\n",
       "      <th>TIME</th>\n",
       "      <th>DESC</th>\n",
       "      <th>ENTRIES</th>\n",
       "      <th>EXITS</th>\n",
       "    </tr>\n",
       "  </thead>\n",
       "  <tbody>\n",
       "    <tr>\n",
       "      <th>0</th>\n",
       "      <td>A002</td>\n",
       "      <td>R051</td>\n",
       "      <td>02-00-00</td>\n",
       "      <td>LEXINGTON AVE</td>\n",
       "      <td>NQR456</td>\n",
       "      <td>BMT</td>\n",
       "      <td>2015-05-23</td>\n",
       "      <td>00:00:00</td>\n",
       "      <td>REGULAR</td>\n",
       "      <td>5149653</td>\n",
       "      <td>1743036</td>\n",
       "    </tr>\n",
       "    <tr>\n",
       "      <th>1</th>\n",
       "      <td>A002</td>\n",
       "      <td>R051</td>\n",
       "      <td>02-00-00</td>\n",
       "      <td>LEXINGTON AVE</td>\n",
       "      <td>NQR456</td>\n",
       "      <td>BMT</td>\n",
       "      <td>2015-05-23</td>\n",
       "      <td>04:00:00</td>\n",
       "      <td>REGULAR</td>\n",
       "      <td>5149687</td>\n",
       "      <td>1743046</td>\n",
       "    </tr>\n",
       "    <tr>\n",
       "      <th>2</th>\n",
       "      <td>A002</td>\n",
       "      <td>R051</td>\n",
       "      <td>02-00-00</td>\n",
       "      <td>LEXINGTON AVE</td>\n",
       "      <td>NQR456</td>\n",
       "      <td>BMT</td>\n",
       "      <td>2015-05-23</td>\n",
       "      <td>08:00:00</td>\n",
       "      <td>REGULAR</td>\n",
       "      <td>5149708</td>\n",
       "      <td>1743066</td>\n",
       "    </tr>\n",
       "    <tr>\n",
       "      <th>3</th>\n",
       "      <td>A002</td>\n",
       "      <td>R051</td>\n",
       "      <td>02-00-00</td>\n",
       "      <td>LEXINGTON AVE</td>\n",
       "      <td>NQR456</td>\n",
       "      <td>BMT</td>\n",
       "      <td>2015-05-23</td>\n",
       "      <td>12:00:00</td>\n",
       "      <td>REGULAR</td>\n",
       "      <td>5149852</td>\n",
       "      <td>1743152</td>\n",
       "    </tr>\n",
       "    <tr>\n",
       "      <th>4</th>\n",
       "      <td>A002</td>\n",
       "      <td>R051</td>\n",
       "      <td>02-00-00</td>\n",
       "      <td>LEXINGTON AVE</td>\n",
       "      <td>NQR456</td>\n",
       "      <td>BMT</td>\n",
       "      <td>2015-05-23</td>\n",
       "      <td>16:00:00</td>\n",
       "      <td>REGULAR</td>\n",
       "      <td>5150097</td>\n",
       "      <td>1743229</td>\n",
       "    </tr>\n",
       "  </tbody>\n",
       "</table>\n",
       "</div>"
      ],
      "text/plain": [
       "    C/A  UNIT       SCP        STATION LINENAME DIVISION       DATE      TIME  \\\n",
       "0  A002  R051  02-00-00  LEXINGTON AVE   NQR456      BMT 2015-05-23  00:00:00   \n",
       "1  A002  R051  02-00-00  LEXINGTON AVE   NQR456      BMT 2015-05-23  04:00:00   \n",
       "2  A002  R051  02-00-00  LEXINGTON AVE   NQR456      BMT 2015-05-23  08:00:00   \n",
       "3  A002  R051  02-00-00  LEXINGTON AVE   NQR456      BMT 2015-05-23  12:00:00   \n",
       "4  A002  R051  02-00-00  LEXINGTON AVE   NQR456      BMT 2015-05-23  16:00:00   \n",
       "\n",
       "      DESC  ENTRIES    EXITS  \n",
       "0  REGULAR  5149653  1743036  \n",
       "1  REGULAR  5149687  1743046  \n",
       "2  REGULAR  5149708  1743066  \n",
       "3  REGULAR  5149852  1743152  \n",
       "4  REGULAR  5150097  1743229  "
      ]
     },
     "execution_count": 4,
     "metadata": {},
     "output_type": "execute_result"
    }
   ],
   "source": [
    "import pandas as pd\n",
    "import matplotlib as plt\n",
    "import numpy as np\n",
    "import datetime as dt\n",
    "\n",
    "may3015 = pd.read_csv('turnstyle_data_may30_2015_2.csv')\n",
    "may3015.columns = map(str.strip,may3015.columns.values)\n",
    "may3015['DATE']= pd.to_datetime(may3015['DATE'],format = '%m/%d/%Y')\n",
    "\n",
    "may3015.head()\n"
   ]
  },
  {
   "cell_type": "code",
   "execution_count": 5,
   "metadata": {
    "collapsed": false
   },
   "outputs": [],
   "source": [
    "may3015[['ENTRIES','EXITS']]= may3015.groupby(['STATION','C/A','UNIT','SCP'])[['ENTRIES','EXITS']].diff()\n",
    "may3015 = may3015.dropna(how = 'any', axis = 0)\n"
   ]
  },
  {
   "cell_type": "code",
   "execution_count": 6,
   "metadata": {
    "collapsed": false
   },
   "outputs": [
    {
     "data": {
      "text/html": [
       "<div>\n",
       "<table border=\"1\" class=\"dataframe\">\n",
       "  <thead>\n",
       "    <tr style=\"text-align: right;\">\n",
       "      <th></th>\n",
       "      <th>C/A</th>\n",
       "      <th>UNIT</th>\n",
       "      <th>SCP</th>\n",
       "      <th>STATION</th>\n",
       "      <th>LINENAME</th>\n",
       "      <th>DIVISION</th>\n",
       "      <th>DATE</th>\n",
       "      <th>TIME</th>\n",
       "      <th>DESC</th>\n",
       "      <th>ENTRIES</th>\n",
       "      <th>EXITS</th>\n",
       "    </tr>\n",
       "  </thead>\n",
       "  <tbody>\n",
       "    <tr>\n",
       "      <th>1</th>\n",
       "      <td>A002</td>\n",
       "      <td>R051</td>\n",
       "      <td>02-00-00</td>\n",
       "      <td>LEXINGTON AVE</td>\n",
       "      <td>NQR456</td>\n",
       "      <td>BMT</td>\n",
       "      <td>2015-05-23</td>\n",
       "      <td>04:00:00</td>\n",
       "      <td>REGULAR</td>\n",
       "      <td>34</td>\n",
       "      <td>10</td>\n",
       "    </tr>\n",
       "    <tr>\n",
       "      <th>2</th>\n",
       "      <td>A002</td>\n",
       "      <td>R051</td>\n",
       "      <td>02-00-00</td>\n",
       "      <td>LEXINGTON AVE</td>\n",
       "      <td>NQR456</td>\n",
       "      <td>BMT</td>\n",
       "      <td>2015-05-23</td>\n",
       "      <td>08:00:00</td>\n",
       "      <td>REGULAR</td>\n",
       "      <td>21</td>\n",
       "      <td>20</td>\n",
       "    </tr>\n",
       "    <tr>\n",
       "      <th>3</th>\n",
       "      <td>A002</td>\n",
       "      <td>R051</td>\n",
       "      <td>02-00-00</td>\n",
       "      <td>LEXINGTON AVE</td>\n",
       "      <td>NQR456</td>\n",
       "      <td>BMT</td>\n",
       "      <td>2015-05-23</td>\n",
       "      <td>12:00:00</td>\n",
       "      <td>REGULAR</td>\n",
       "      <td>144</td>\n",
       "      <td>86</td>\n",
       "    </tr>\n",
       "    <tr>\n",
       "      <th>4</th>\n",
       "      <td>A002</td>\n",
       "      <td>R051</td>\n",
       "      <td>02-00-00</td>\n",
       "      <td>LEXINGTON AVE</td>\n",
       "      <td>NQR456</td>\n",
       "      <td>BMT</td>\n",
       "      <td>2015-05-23</td>\n",
       "      <td>16:00:00</td>\n",
       "      <td>REGULAR</td>\n",
       "      <td>245</td>\n",
       "      <td>77</td>\n",
       "    </tr>\n",
       "    <tr>\n",
       "      <th>5</th>\n",
       "      <td>A002</td>\n",
       "      <td>R051</td>\n",
       "      <td>02-00-00</td>\n",
       "      <td>LEXINGTON AVE</td>\n",
       "      <td>NQR456</td>\n",
       "      <td>BMT</td>\n",
       "      <td>2015-05-23</td>\n",
       "      <td>20:00:00</td>\n",
       "      <td>REGULAR</td>\n",
       "      <td>375</td>\n",
       "      <td>63</td>\n",
       "    </tr>\n",
       "  </tbody>\n",
       "</table>\n",
       "</div>"
      ],
      "text/plain": [
       "    C/A  UNIT       SCP        STATION LINENAME DIVISION       DATE      TIME  \\\n",
       "1  A002  R051  02-00-00  LEXINGTON AVE   NQR456      BMT 2015-05-23  04:00:00   \n",
       "2  A002  R051  02-00-00  LEXINGTON AVE   NQR456      BMT 2015-05-23  08:00:00   \n",
       "3  A002  R051  02-00-00  LEXINGTON AVE   NQR456      BMT 2015-05-23  12:00:00   \n",
       "4  A002  R051  02-00-00  LEXINGTON AVE   NQR456      BMT 2015-05-23  16:00:00   \n",
       "5  A002  R051  02-00-00  LEXINGTON AVE   NQR456      BMT 2015-05-23  20:00:00   \n",
       "\n",
       "      DESC  ENTRIES  EXITS  \n",
       "1  REGULAR       34     10  \n",
       "2  REGULAR       21     20  \n",
       "3  REGULAR      144     86  \n",
       "4  REGULAR      245     77  \n",
       "5  REGULAR      375     63  "
      ]
     },
     "execution_count": 6,
     "metadata": {},
     "output_type": "execute_result"
    }
   ],
   "source": [
    "\n",
    "#may3015['ENTRIES'] = may3015[may3015['ENTRIES'] > 50]\n",
    "may3015 = may3015[(may3015['ENTRIES'] >= 0 ) & (may3015['ENTRIES'] < 14400)]\n",
    "may3015 = may3015[(may3015['EXITS'] >= 0 ) & (may3015['EXITS'] < 14400)]\n",
    "may3015.head()"
   ]
  },
  {
   "cell_type": "code",
   "execution_count": 7,
   "metadata": {
    "collapsed": false,
    "scrolled": true
   },
   "outputs": [
    {
     "data": {
      "text/html": [
       "<div>\n",
       "<table border=\"1\" class=\"dataframe\">\n",
       "  <thead>\n",
       "    <tr style=\"text-align: right;\">\n",
       "      <th></th>\n",
       "      <th>STATION</th>\n",
       "      <th>C/A</th>\n",
       "      <th>UNIT</th>\n",
       "      <th>SCP</th>\n",
       "      <th>DATE</th>\n",
       "      <th>ENTRIES</th>\n",
       "      <th>EXITS</th>\n",
       "    </tr>\n",
       "  </thead>\n",
       "  <tbody>\n",
       "    <tr>\n",
       "      <th>0</th>\n",
       "      <td>1 AVE</td>\n",
       "      <td>H007</td>\n",
       "      <td>R248</td>\n",
       "      <td>00-00-00</td>\n",
       "      <td>2015-05-23</td>\n",
       "      <td>1650</td>\n",
       "      <td>2471</td>\n",
       "    </tr>\n",
       "    <tr>\n",
       "      <th>1</th>\n",
       "      <td>1 AVE</td>\n",
       "      <td>H007</td>\n",
       "      <td>R248</td>\n",
       "      <td>00-00-00</td>\n",
       "      <td>2015-05-24</td>\n",
       "      <td>2184</td>\n",
       "      <td>3152</td>\n",
       "    </tr>\n",
       "    <tr>\n",
       "      <th>2</th>\n",
       "      <td>1 AVE</td>\n",
       "      <td>H007</td>\n",
       "      <td>R248</td>\n",
       "      <td>00-00-00</td>\n",
       "      <td>2015-05-25</td>\n",
       "      <td>1990</td>\n",
       "      <td>3079</td>\n",
       "    </tr>\n",
       "    <tr>\n",
       "      <th>3</th>\n",
       "      <td>1 AVE</td>\n",
       "      <td>H007</td>\n",
       "      <td>R248</td>\n",
       "      <td>00-00-00</td>\n",
       "      <td>2015-05-26</td>\n",
       "      <td>4012</td>\n",
       "      <td>4584</td>\n",
       "    </tr>\n",
       "    <tr>\n",
       "      <th>4</th>\n",
       "      <td>1 AVE</td>\n",
       "      <td>H007</td>\n",
       "      <td>R248</td>\n",
       "      <td>00-00-00</td>\n",
       "      <td>2015-05-27</td>\n",
       "      <td>4457</td>\n",
       "      <td>4442</td>\n",
       "    </tr>\n",
       "  </tbody>\n",
       "</table>\n",
       "</div>"
      ],
      "text/plain": [
       "  STATION   C/A  UNIT       SCP       DATE  ENTRIES  EXITS\n",
       "0   1 AVE  H007  R248  00-00-00 2015-05-23     1650   2471\n",
       "1   1 AVE  H007  R248  00-00-00 2015-05-24     2184   3152\n",
       "2   1 AVE  H007  R248  00-00-00 2015-05-25     1990   3079\n",
       "3   1 AVE  H007  R248  00-00-00 2015-05-26     4012   4584\n",
       "4   1 AVE  H007  R248  00-00-00 2015-05-27     4457   4442"
      ]
     },
     "execution_count": 7,
     "metadata": {},
     "output_type": "execute_result"
    }
   ],
   "source": [
    "#may3015[['ENTRIES','EXITS']]= \n",
    "df = may3015.groupby(['STATION','C/A','UNIT','SCP','DATE'])[['ENTRIES','EXITS']].sum().reset_index()\n",
    "df.head()\n",
    "#print df.columns.values"
   ]
  },
  {
   "cell_type": "markdown",
   "metadata": {},
   "source": [
    "**Challenge 4**"
   ]
  },
  {
   "cell_type": "code",
   "execution_count": 30,
   "metadata": {
    "collapsed": false
   },
   "outputs": [
    {
     "data": {
      "text/plain": [
       "<matplotlib.text.Text at 0x7fc0658b2590>"
      ]
     },
     "execution_count": 30,
     "metadata": {},
     "output_type": "execute_result"
    },
    {
     "data": {
      "image/png": "[encoded data removed]",
      "text/plain": [
       "<matplotlib.figure.Figure at 0x7fc054ddd150>"
      ]
     },
     "metadata": {},
     "output_type": "display_data"
    }
   ],
   "source": [
    "%matplotlib inline\n",
    "import matplotlib.pyplot as plt\n",
    "\n",
    "dates = list(df['DATE'])\n",
    "counts = list(df['ENTRIES'])\n",
    "\n",
    "plt.figure(figsize=(10,3))\n",
    "plt.plot(dates[:7],counts[:7])\n",
    "\n",
    "plt.suptitle('Entries at 1st Ave Station - SCP 00-00-00', fontsize=20)\n",
    "plt.xlabel('Date', fontsize=16)\n",
    "plt.ylabel('Number of Entries', fontsize=16)"
   ]
  },
  {
   "cell_type": "markdown",
   "metadata": {},
   "source": [
    "**Challenge 5**"
   ]
  },
  {
   "cell_type": "code",
   "execution_count": 31,
   "metadata": {
    "collapsed": false
   },
   "outputs": [
    {
     "data": {
      "text/html": [
       "<div>\n",
       "<table border=\"1\" class=\"dataframe\">\n",
       "  <thead>\n",
       "    <tr style=\"text-align: right;\">\n",
       "      <th></th>\n",
       "      <th>STATION</th>\n",
       "      <th>C/A</th>\n",
       "      <th>UNIT</th>\n",
       "      <th>DATE</th>\n",
       "      <th>ENTRIES</th>\n",
       "      <th>EXITS</th>\n",
       "    </tr>\n",
       "  </thead>\n",
       "  <tbody>\n",
       "    <tr>\n",
       "      <th>0</th>\n",
       "      <td>1 AVE</td>\n",
       "      <td>H007</td>\n",
       "      <td>R248</td>\n",
       "      <td>2015-05-23</td>\n",
       "      <td>5154</td>\n",
       "      <td>4938</td>\n",
       "    </tr>\n",
       "    <tr>\n",
       "      <th>1</th>\n",
       "      <td>1 AVE</td>\n",
       "      <td>H007</td>\n",
       "      <td>R248</td>\n",
       "      <td>2015-05-24</td>\n",
       "      <td>6676</td>\n",
       "      <td>6267</td>\n",
       "    </tr>\n",
       "    <tr>\n",
       "      <th>2</th>\n",
       "      <td>1 AVE</td>\n",
       "      <td>H007</td>\n",
       "      <td>R248</td>\n",
       "      <td>2015-05-25</td>\n",
       "      <td>6055</td>\n",
       "      <td>5856</td>\n",
       "    </tr>\n",
       "    <tr>\n",
       "      <th>3</th>\n",
       "      <td>1 AVE</td>\n",
       "      <td>H007</td>\n",
       "      <td>R248</td>\n",
       "      <td>2015-05-26</td>\n",
       "      <td>12839</td>\n",
       "      <td>8487</td>\n",
       "    </tr>\n",
       "    <tr>\n",
       "      <th>4</th>\n",
       "      <td>1 AVE</td>\n",
       "      <td>H007</td>\n",
       "      <td>R248</td>\n",
       "      <td>2015-05-27</td>\n",
       "      <td>14099</td>\n",
       "      <td>8411</td>\n",
       "    </tr>\n",
       "  </tbody>\n",
       "</table>\n",
       "</div>"
      ],
      "text/plain": [
       "  STATION   C/A  UNIT       DATE  ENTRIES  EXITS\n",
       "0   1 AVE  H007  R248 2015-05-23     5154   4938\n",
       "1   1 AVE  H007  R248 2015-05-24     6676   6267\n",
       "2   1 AVE  H007  R248 2015-05-25     6055   5856\n",
       "3   1 AVE  H007  R248 2015-05-26    12839   8487\n",
       "4   1 AVE  H007  R248 2015-05-27    14099   8411"
      ]
     },
     "execution_count": 31,
     "metadata": {},
     "output_type": "execute_result"
    }
   ],
   "source": [
    "sum_turnstyles = df.groupby(['STATION','C/A','UNIT','DATE'])[['ENTRIES','EXITS']].sum().reset_index()\n",
    "sum_turnstyles.head()"
   ]
  },
  {
   "cell_type": "markdown",
   "metadata": {},
   "source": [
    "**Challenge 6**"
   ]
  },
  {
   "cell_type": "code",
   "execution_count": 25,
   "metadata": {
    "collapsed": false
   },
   "outputs": [
    {
     "data": {
      "text/html": [
       "<div>\n",
       "<table border=\"1\" class=\"dataframe\">\n",
       "  <thead>\n",
       "    <tr style=\"text-align: right;\">\n",
       "      <th></th>\n",
       "      <th>STATION</th>\n",
       "      <th>DATE</th>\n",
       "      <th>ENTRIES</th>\n",
       "      <th>EXITS</th>\n",
       "    </tr>\n",
       "  </thead>\n",
       "  <tbody>\n",
       "    <tr>\n",
       "      <th>0</th>\n",
       "      <td>1 AVE</td>\n",
       "      <td>2015-05-23</td>\n",
       "      <td>10588</td>\n",
       "      <td>11975</td>\n",
       "    </tr>\n",
       "    <tr>\n",
       "      <th>1</th>\n",
       "      <td>1 AVE</td>\n",
       "      <td>2015-05-24</td>\n",
       "      <td>13775</td>\n",
       "      <td>14731</td>\n",
       "    </tr>\n",
       "    <tr>\n",
       "      <th>2</th>\n",
       "      <td>1 AVE</td>\n",
       "      <td>2015-05-25</td>\n",
       "      <td>12505</td>\n",
       "      <td>14041</td>\n",
       "    </tr>\n",
       "    <tr>\n",
       "      <th>3</th>\n",
       "      <td>1 AVE</td>\n",
       "      <td>2015-05-26</td>\n",
       "      <td>22049</td>\n",
       "      <td>23737</td>\n",
       "    </tr>\n",
       "    <tr>\n",
       "      <th>4</th>\n",
       "      <td>1 AVE</td>\n",
       "      <td>2015-05-27</td>\n",
       "      <td>24283</td>\n",
       "      <td>24784</td>\n",
       "    </tr>\n",
       "  </tbody>\n",
       "</table>\n",
       "</div>"
      ],
      "text/plain": [
       "  STATION       DATE  ENTRIES  EXITS\n",
       "0   1 AVE 2015-05-23    10588  11975\n",
       "1   1 AVE 2015-05-24    13775  14731\n",
       "2   1 AVE 2015-05-25    12505  14041\n",
       "3   1 AVE 2015-05-26    22049  23737\n",
       "4   1 AVE 2015-05-27    24283  24784"
      ]
     },
     "execution_count": 25,
     "metadata": {},
     "output_type": "execute_result"
    }
   ],
   "source": [
    "station_sum = sum_turnstyles.groupby(['STATION','DATE'])[['ENTRIES','EXITS']].sum().reset_index()\n",
    "station_sum.head()"
   ]
  },
  {
   "cell_type": "markdown",
   "metadata": {},
   "source": [
    "**Challenge 7**"
   ]
  },
  {
   "cell_type": "code",
   "execution_count": 29,
   "metadata": {
    "collapsed": false
   },
   "outputs": [
    {
     "data": {
      "text/plain": [
       "<matplotlib.text.Text at 0x7fc0623f9a90>"
      ]
     },
     "execution_count": 29,
     "metadata": {},
     "output_type": "execute_result"
    },
    {
     "data": {
      "image/png": "[encoded data removed]",
      "text/plain": [
       "<matplotlib.figure.Figure at 0x7fc065373690>"
      ]
     },
     "metadata": {},
     "output_type": "display_data"
    }
   ],
   "source": [
    "dates = list(station_sum['DATE'])\n",
    "counts = list(station_sum['ENTRIES'])\n",
    "\n",
    "plt.figure(figsize=(10,3))\n",
    "plt.plot(dates[:7],counts[:7])\n",
    "\n",
    "plt.suptitle('Entries at 1st Ave Station', fontsize=20)\n",
    "plt.xlabel('Date', fontsize=16)\n",
    "plt.ylabel('Number of Entries', fontsize=16)"
   ]
  },
  {
   "cell_type": "markdown",
   "metadata": {},
   "source": [
    "**Challenge 8**"
   ]
  },
  {
   "cell_type": "code",
   "execution_count": 27,
   "metadata": {
    "collapsed": false
   },
   "outputs": [],
   "source": [
    "urls = [\n",
    "        'http://web.mta.info/developers/data/nyct/turnstile/turnstile_150523.txt',\n",
    "        'http://web.mta.info/developers/data/nyct/turnstile/turnstile_150516.txt',\n",
    "        'http://web.mta.info/developers/data/nyct/turnstile/turnstile_150509.txt'\n",
    "       ]\n",
    "\n",
    "csvs = ['turnstyle_data_may23_2015.csv','turnstyle_data_may16_2015.csv','turnstyle_data_may09_2015.csv']\n",
    "\n",
    "\n",
    "def clean_df(df):\n",
    "    df.columns = map(str.strip,df.columns.values)\n",
    "    df['DATE']= pd.to_datetime(df['DATE'],format = '%m/%d/%Y')\n",
    "    return df\n",
    "    \n",
    "def get_diffs(df):\n",
    "    df[['ENTRIES','EXITS']]= df.groupby(['STATION','C/A','UNIT','SCP'])[['ENTRIES','EXITS']].diff()\n",
    "    df = df.dropna(how = 'any', axis = 0)\n",
    "    df = df[(df['ENTRIES'] >= 0 ) & (df['ENTRIES'] < 14400)]\n",
    "    df = df[(df['EXITS'] >= 0 ) & (df['EXITS'] < 14400)]\n",
    "    return df\n",
    "\n",
    "def get_weekly_sum(df):\n",
    "    return df.groupby(['STATION','DATE'])[['ENTRIES','EXITS']].sum().reset_index()\n",
    "   \n",
    "def station_sums(df, week):\n",
    "    df = clean_df(df)\n",
    "    df = get_diffs(df)\n",
    "    df = get_weekly_sum(df)\n",
    "    df['WEEK_ENDING'] = pd.Series(week*df.shape[0])\n",
    "    return df\n",
    "    \n",
    "def append_weeks(multi_week_sum,urls):\n",
    "    \n",
    "    for i in urls:\n",
    "        x = pd.read_csv(i)\n",
    "        x = clean_df(x)\n",
    "        x = get_diffs(x)\n",
    "        x = get_weekly_sum(x)\n",
    "        s = [i[-10:-4]]*t.shape[0]\n",
    "        x['WEEK_ENDING']=pd.Series(s)\n",
    "        multi_week_sum.append(x)\n",
    "   \n",
    "    return multi_week_sum\n",
    "        \n",
    "t = get_weekly_sum(sum_turnstyles)\n",
    "s = ['20150530']*t.shape[0]\n",
    "t['WEEK_ENDING']=pd.Series(s)\n"
   ]
  },
  {
   "cell_type": "code",
   "execution_count": 28,
   "metadata": {
    "collapsed": false
   },
   "outputs": [],
   "source": [
    "may2315 = station_sums(pd.read_csv(csvs[0]),['20150523'])\n",
    "may1615 = station_sums(pd.read_csv(csvs[1]),['20150516'])\n",
    "may0915 = station_sums(pd.read_csv(csvs[2]),['20150509'])\n",
    "\n",
    "four_week_total = t.append(may2315.append(may1615.append(may0915)))\n",
    "\n"
   ]
  },
  {
   "cell_type": "markdown",
   "metadata": {},
   "source": [
    "**Challenge 9**"
   ]
  },
  {
   "cell_type": "code",
   "execution_count": 32,
   "metadata": {
    "collapsed": false
   },
   "outputs": [
    {
     "data": {
      "text/plain": [
       "<matplotlib.legend.Legend at 0x7fc0623e5f90>"
      ]
     },
     "execution_count": 32,
     "metadata": {},
     "output_type": "execute_result"
    },
    {
     "data": {
      "image/png": "[encoded data removed]",
      "text/plain": [
       "<matplotlib.figure.Figure at 0x7fc0548e4c90>"
      ]
     },
     "metadata": {},
     "output_type": "display_data"
    }
   ],
   "source": [
    "m = four_week_total[(four_week_total['STATION'] == '14 ST-UNION SQ' )]\n",
    "week_ends = ['20150530','20150523','20150516','20150509']\n",
    "\n",
    "dates = ['SAT','SUN','MON','TUE','WED','THURS','FRI']\n",
    "entries = []\n",
    "for i in week_ends:\n",
    "    entries.append(list(m[(m['WEEK_ENDING'] == i )]['ENTRIES']))\n",
    "\n",
    "x = range(1,8)\n",
    "\n",
    "plt.figure(figsize=(10,3))\n",
    "plt.title('14 ST-UNION SQ')\n",
    "plt.xticks(x,dates)\n",
    "\n",
    "plt.plot(x, entries[0],'r', label = 'May30')\n",
    "         #x, entries[1],'g', x, entries[2],'y', x, entries[3], 'b')\n",
    "plt.plot(x, entries[1],'g', label = 'May 23')\n",
    "plt.plot(x, entries[2],'y', label = 'May 16')\n",
    "plt.plot(x, entries[3],'b', label = 'May 09')\n",
    "plt.xlabel('Day of the Week', fontsize=16)\n",
    "plt.ylabel('Number of Entries', fontsize=16)\n",
    "plt.legend()"
   ]
  },
  {
   "cell_type": "markdown",
   "metadata": {},
   "source": [
    "**Challenge 10**"
   ]
  },
  {
   "cell_type": "code",
   "execution_count": 36,
   "metadata": {
    "collapsed": false
   },
   "outputs": [
    {
     "data": {
      "text/plain": [
       "<matplotlib.text.Text at 0x7fc0793a5e50>"
      ]
     },
     "execution_count": 36,
     "metadata": {},
     "output_type": "execute_result"
    },
    {
     "data": {
      "image/png": "[encoded data removed]",
      "text/plain": [
       "<matplotlib.figure.Figure at 0x7fc05525b150>"
      ]
     },
     "metadata": {},
     "output_type": "display_data"
    }
   ],
   "source": [
    "total_ridership = four_week_total.groupby(['STATION'])[['STATION','ENTRIES']].sum().reset_index()\n",
    "\n",
    "tr  = list(total_ridership['ENTRIES'])\n",
    "plt.figure(figsize=(10,3))\n",
    "plt.hist(tr)\n",
    "plt.title('Histogram of Total Entries', fontsize = 20)\n",
    "plt.xlabel('Total Entries', fontsize=16)\n",
    "plt.ylabel('Number of Stations', fontsize=16)\n"
   ]
  },
  {
   "cell_type": "code",
   "execution_count": 39,
   "metadata": {
    "collapsed": false
   },
   "outputs": [
    {
     "data": {
      "text/plain": [
       "<matplotlib.text.Text at 0x7fc067ce2b10>"
      ]
     },
     "execution_count": 39,
     "metadata": {},
     "output_type": "execute_result"
    },
    {
     "data": {
      "image/png": "[encoded data removed]",
      "text/plain": [
       "<matplotlib.figure.Figure at 0x7fc063dd2a10>"
      ]
     },
     "metadata": {},
     "output_type": "display_data"
    }
   ],
   "source": [
    "tr = sorted(tr, reverse = True)\n",
    "\n",
    "indices = range(len(tr))\n",
    "plt.bar(indices, tr)\n",
    "\n",
    "plt.title('Total Entries Bar Plot', fontsize = 20)\n",
    "plt.xlabel('Station Index', fontsize=16)\n",
    "plt.ylabel('Number of Entries', fontsize=16)"
   ]
  },
  {
   "cell_type": "code",
   "execution_count": null,
   "metadata": {
    "collapsed": true
   },
   "outputs": [],
   "source": []
  }
 ],
 "metadata": {
  "kernelspec": {
   "display_name": "Python 2",
   "language": "python",
   "name": "python2"
  },
  "language_info": {
   "codemirror_mode": {
    "name": "ipython",
    "version": 2
   },
   "file_extension": ".py",
   "mimetype": "text/x-python",
   "name": "python",
   "nbconvert_exporter": "python",
   "pygments_lexer": "ipython2",
   "version": "2.7.11"
  }
 },
 "nbformat": 4,
 "nbformat_minor": 0
}
