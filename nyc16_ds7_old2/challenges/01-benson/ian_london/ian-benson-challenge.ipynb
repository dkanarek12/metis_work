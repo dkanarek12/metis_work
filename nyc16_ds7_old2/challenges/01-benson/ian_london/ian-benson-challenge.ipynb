{
 "cells": [
  {
   "cell_type": "markdown",
   "metadata": {},
   "source": [
    "    Challenge Set 1\n",
    "    Topic:        Explore MTA turnstile data\n",
    "    Date:         04/12/2016\n",
    "    Name:         Ian London\n",
    "\n",
    "# Challenge 1"
   ]
  },
  {
   "cell_type": "code",
   "execution_count": 1,
   "metadata": {
    "collapsed": false
   },
   "outputs": [
    {
     "name": "stdout",
     "output_type": "stream",
     "text": [
      "values look like this:\n",
      "\n"
     ]
    },
    {
     "data": {
      "text/plain": [
       "[nt_base(DIVISION='IND', LINENAME='A', EXITS='0002890032                                          ', ENTRIES='0007238654', TIME='01:00:00', DATE='03/26/2016', DESC='REGULAR'),\n",
       " nt_base(DIVISION='IND', LINENAME='A', EXITS='0002890044                                          ', ENTRIES='0007238667', TIME='05:00:00', DATE='03/26/2016', DESC='REGULAR'),\n",
       " nt_base(DIVISION='IND', LINENAME='A', EXITS='0002890069                                          ', ENTRIES='0007238807', TIME='09:00:00', DATE='03/26/2016', DESC='REGULAR')]"
      ]
     },
     "execution_count": 1,
     "metadata": {},
     "output_type": "execute_result"
    }
   ],
   "source": [
    "import requests\n",
    "import csv\n",
    "import re\n",
    "from collections import defaultdict, namedtuple\n",
    "import dateutil.parser\n",
    "import numpy as np\n",
    "\n",
    "def strip_regex(name, pattern=r'[^\\w]'):\n",
    "    # remove all but alphanumberic characters and underscores\n",
    "    # this is for compatibility with namedtuple\n",
    "    return re.sub(pattern, '', name)\n",
    "\n",
    "class DictReaderStrip(csv.DictReader):\n",
    "    # Thanks to CivFan at http://stackoverflow.com/questions/14885908/strip-white-spaces-from-file-csv\n",
    "    @property\n",
    "    def fieldnames(self):\n",
    "        if self._fieldnames is None:\n",
    "            # Initialize self._fieldnames\n",
    "            # Note: DictReader is an old-style class, so can't use super()\n",
    "            csv.DictReader.fieldnames.fget(self)\n",
    "            if self._fieldnames is not None:\n",
    "                self._fieldnames = [strip_regex(name) for name in self._fieldnames]\n",
    "        return self._fieldnames\n",
    "\n",
    "\n",
    "def load_data(filename):\n",
    "    data = []\n",
    "    with open(filename, 'rb') as csvfile:\n",
    "        reader = DictReaderStrip(csvfile)\n",
    "        for row in reader:\n",
    "            data.append(row)\n",
    "    return data\n",
    "\n",
    "\n",
    "def make_keyed_dict(data, key_fields):\n",
    "    \"\"\"\n",
    "    Use the specified list of key_fields to generate a dict of the form:\n",
    "    {('key field 1','key field 2', ...):[ [other fields here], [other fields here ], ...}\n",
    "    The \"other fields\" in the values are all the fields not in the key fields.\n",
    "    data should be in csv.DictReader form\n",
    "    \"\"\"\n",
    "    if type(key_fields) == str:\n",
    "        raise ValueError('expected a sequence, not a string')\n",
    "\n",
    "    # make key_fields a tuple for use as a dict key\n",
    "    key_fields = tuple(key_fields)\n",
    "\n",
    "    # get headers from first row\n",
    "    headers = data[0].keys()\n",
    "\n",
    "    for key in key_fields:\n",
    "        if not key in headers:\n",
    "            raise ValueError(\"key field '%s' not in data headers\" % key)\n",
    "\n",
    "    # generate value fields - all fields that aren't in the key fields.\n",
    "    value_fields = [field for field in headers if field not in key_fields]\n",
    "\n",
    "    named_tuple_base = namedtuple('nt_base', value_fields)\n",
    "    keyed_dict = defaultdict(list)\n",
    "    \n",
    "    for row in data:\n",
    "        values_dict = {val_key:row[val_key] for val_key in value_fields}\n",
    "        named_vals = named_tuple_base(**values_dict)\n",
    "        key_tuple = tuple([row[k] for k in key_fields])\n",
    "        keyed_dict[key_tuple].append(named_vals)\n",
    "\n",
    "    return keyed_dict\n",
    "\n",
    "\n",
    "csv_path = 'turnstile_160402.txt'\n",
    "data = load_data(csv_path)\n",
    "turnstile_kd = make_keyed_dict(data, ['CA','UNIT','SCP','STATION'])\n",
    "\n",
    "print 'values look like this:\\n'\n",
    "turnstile_kd.items()[0][1][:3]"
   ]
  },
  {
   "cell_type": "markdown",
   "metadata": {},
   "source": [
    "Use the keyed dictionary like this:"
   ]
  },
  {
   "cell_type": "code",
   "execution_count": 2,
   "metadata": {
    "collapsed": false
   },
   "outputs": [
    {
     "name": "stdout",
     "output_type": "stream",
     "text": [
      "example_key: ('N134', 'R385', '00-00-00', 'ROCKAWAY BLVD')\n",
      "\n",
      "entries: 0007238654\n",
      "\n",
      "property values:\n",
      "  DATE\n",
      "  DESC\n",
      "  DIVISION\n",
      "  ENTRIES\n",
      "  EXITS\n",
      "  LINENAME\n",
      "  TIME\n"
     ]
    }
   ],
   "source": [
    "example_key = turnstile_kd.keys()[0]\n",
    "\n",
    "print 'example_key:', example_key\n",
    "\n",
    "print '\\nentries:', turnstile_kd[(example_key)][0].ENTRIES\n",
    "\n",
    "print '\\nproperty values:'\n",
    "\n",
    "for d in dir(turnstile_kd[(example_key)][0]):\n",
    "    if d[0] != '_':\n",
    "        if d not in ['count','index']:\n",
    "            print '  ' + d"
   ]
  },
  {
   "cell_type": "markdown",
   "metadata": {},
   "source": [
    "# Challenge 2"
   ]
  },
  {
   "cell_type": "code",
   "execution_count": 3,
   "metadata": {
    "collapsed": false
   },
   "outputs": [
    {
     "name": "stdout",
     "output_type": "stream",
     "text": [
      "('N134', 'R385', '00-00-00', 'ROCKAWAY BLVD')\n",
      "[(datetime.datetime(2016, 3, 26, 1, 0), 7238654), (datetime.datetime(2016, 3, 26, 5, 0), 7238667), (datetime.datetime(2016, 3, 26, 9, 0), 7238807)]\n"
     ]
    }
   ],
   "source": [
    "def challenge_2_fn(kd):\n",
    "    \"\"\"\n",
    "    Turns the dict from challenge 1 into a time series, \n",
    "    so each key has a value like [(datetime1, no_entries1), ... etc]\n",
    "    \"\"\"\n",
    "    timeseries = defaultdict(list)\n",
    "    for key, list_of_named_tuples in kd.items():\n",
    "        for row in list_of_named_tuples:\n",
    "            dt = dateutil.parser.parse('%s %s' % (row.DATE, row.TIME))\n",
    "            timeseries[key].append((dt, int(row.ENTRIES)))\n",
    "    return timeseries\n",
    "\n",
    "challenge2 = challenge_2_fn(turnstile_kd)\n",
    "\n",
    "print example_key\n",
    "print challenge2[example_key][:3]"
   ]
  },
  {
   "cell_type": "markdown",
   "metadata": {},
   "source": [
    "# Challenge 3\n",
    "\n",
    "These counts are for every **4** hours (ideally)"
   ]
  },
  {
   "cell_type": "code",
   "execution_count": 4,
   "metadata": {
    "collapsed": false
   },
   "outputs": [
    {
     "name": "stdout",
     "output_type": "stream",
     "text": [
      "('N134', 'R385', '00-00-00', 'ROCKAWAY BLVD')\n",
      "...\n",
      "defaultdict(<type 'int'>, {datetime.datetime(2016, 3, 28, 0, 0): 43444021, datetime.datetime(2016, 3, 29, 0, 0): 43452920, datetime.datetime(2016, 3, 30, 0, 0): 43462336, datetime.datetime(2016, 3, 26, 0, 0): 43433706, datetime.datetime(2016, 3, 31, 0, 0): 43471695, datetime.datetime(2016, 4, 1, 0, 0): 43480624, datetime.datetime(2016, 3, 27, 0, 0): 43438036})\n",
      "...\n",
      "43444021\n"
     ]
    }
   ],
   "source": [
    "def challenge_3_fn(ch2_kd):\n",
    "    \"\"\"\n",
    "    Converts the time series dict from challenge 2 to a daily-entries time series.\n",
    "    \"\"\"\n",
    "    ch3 = defaultdict(list)\n",
    "    \n",
    "    for key, values in ch2_kd.items():\n",
    "        \n",
    "        date_keyed_entries = defaultdict(int)\n",
    "        \n",
    "        for datetime, entries in values:\n",
    "            # round down datetime to the 'day' resolution\n",
    "            date_keyed_entries[datetime.replace(hour=0, minute=0, second=0, microsecond=0)] += entries\n",
    "        \n",
    "        ch3[key] = date_keyed_entries\n",
    "    \n",
    "    return ch3\n",
    "\n",
    "ch3 = challenge_3_fn(challenge2)\n",
    "\n",
    "example_day = ch3[example_key].keys()[0]\n",
    "\n",
    "print example_key\n",
    "print '...'\n",
    "print ch3[example_key]\n",
    "print '...'\n",
    "print ch3[example_key][example_day]"
   ]
  },
  {
   "cell_type": "markdown",
   "metadata": {},
   "source": [
    "# Challenge 4"
   ]
  },
  {
   "cell_type": "code",
   "execution_count": 5,
   "metadata": {
    "collapsed": false
   },
   "outputs": [
    {
     "name": "stderr",
     "output_type": "stream",
     "text": [
      "/home/ian/anaconda2/lib/python2.7/site-packages/matplotlib/font_manager.py:273: UserWarning: Matplotlib is building the font cache using fc-list. This may take a moment.\n",
      "  warnings.warn('Matplotlib is building the font cache using fc-list. This may take a moment.')\n"
     ]
    },
    {
     "data": {
      "text/html": [
       "<div>\n",
       "<table border=\"1\" class=\"dataframe\">\n",
       "  <thead>\n",
       "    <tr style=\"text-align: right;\">\n",
       "      <th></th>\n",
       "      <th>C/A</th>\n",
       "      <th>UNIT</th>\n",
       "      <th>SCP</th>\n",
       "      <th>STATION</th>\n",
       "      <th>LINENAME</th>\n",
       "      <th>DIVISION</th>\n",
       "      <th>DATE</th>\n",
       "      <th>TIME</th>\n",
       "      <th>DESC</th>\n",
       "      <th>ENTRIES</th>\n",
       "      <th>EXITS</th>\n",
       "    </tr>\n",
       "  </thead>\n",
       "  <tbody>\n",
       "    <tr>\n",
       "      <th>0</th>\n",
       "      <td>A002</td>\n",
       "      <td>R051</td>\n",
       "      <td>02-00-00</td>\n",
       "      <td>59 ST</td>\n",
       "      <td>NQR456</td>\n",
       "      <td>BMT</td>\n",
       "      <td>03/26/2016</td>\n",
       "      <td>00:00:00</td>\n",
       "      <td>REGULAR</td>\n",
       "      <td>5595746</td>\n",
       "      <td>1893277</td>\n",
       "    </tr>\n",
       "    <tr>\n",
       "      <th>1</th>\n",
       "      <td>A002</td>\n",
       "      <td>R051</td>\n",
       "      <td>02-00-00</td>\n",
       "      <td>59 ST</td>\n",
       "      <td>NQR456</td>\n",
       "      <td>BMT</td>\n",
       "      <td>03/26/2016</td>\n",
       "      <td>04:00:00</td>\n",
       "      <td>REGULAR</td>\n",
       "      <td>5595746</td>\n",
       "      <td>1893282</td>\n",
       "    </tr>\n",
       "    <tr>\n",
       "      <th>2</th>\n",
       "      <td>A002</td>\n",
       "      <td>R051</td>\n",
       "      <td>02-00-00</td>\n",
       "      <td>59 ST</td>\n",
       "      <td>NQR456</td>\n",
       "      <td>BMT</td>\n",
       "      <td>03/26/2016</td>\n",
       "      <td>08:00:00</td>\n",
       "      <td>REGULAR</td>\n",
       "      <td>5595746</td>\n",
       "      <td>1893282</td>\n",
       "    </tr>\n",
       "    <tr>\n",
       "      <th>3</th>\n",
       "      <td>A002</td>\n",
       "      <td>R051</td>\n",
       "      <td>02-00-00</td>\n",
       "      <td>59 ST</td>\n",
       "      <td>NQR456</td>\n",
       "      <td>BMT</td>\n",
       "      <td>03/26/2016</td>\n",
       "      <td>12:00:00</td>\n",
       "      <td>REGULAR</td>\n",
       "      <td>5595746</td>\n",
       "      <td>1893282</td>\n",
       "    </tr>\n",
       "    <tr>\n",
       "      <th>4</th>\n",
       "      <td>A002</td>\n",
       "      <td>R051</td>\n",
       "      <td>02-00-00</td>\n",
       "      <td>59 ST</td>\n",
       "      <td>NQR456</td>\n",
       "      <td>BMT</td>\n",
       "      <td>03/26/2016</td>\n",
       "      <td>16:00:00</td>\n",
       "      <td>REGULAR</td>\n",
       "      <td>5595746</td>\n",
       "      <td>1893282</td>\n",
       "    </tr>\n",
       "  </tbody>\n",
       "</table>\n",
       "</div>"
      ],
      "text/plain": [
       "    C/A  UNIT       SCP STATION LINENAME DIVISION        DATE      TIME  \\\n",
       "0  A002  R051  02-00-00   59 ST   NQR456      BMT  03/26/2016  00:00:00   \n",
       "1  A002  R051  02-00-00   59 ST   NQR456      BMT  03/26/2016  04:00:00   \n",
       "2  A002  R051  02-00-00   59 ST   NQR456      BMT  03/26/2016  08:00:00   \n",
       "3  A002  R051  02-00-00   59 ST   NQR456      BMT  03/26/2016  12:00:00   \n",
       "4  A002  R051  02-00-00   59 ST   NQR456      BMT  03/26/2016  16:00:00   \n",
       "\n",
       "      DESC  ENTRIES  \\\n",
       "0  REGULAR  5595746   \n",
       "1  REGULAR  5595746   \n",
       "2  REGULAR  5595746   \n",
       "3  REGULAR  5595746   \n",
       "4  REGULAR  5595746   \n",
       "\n",
       "   EXITS                                                                 \n",
       "0                                            1893277                     \n",
       "1                                            1893282                     \n",
       "2                                            1893282                     \n",
       "3                                            1893282                     \n",
       "4                                            1893282                     "
      ]
     },
     "execution_count": 5,
     "metadata": {},
     "output_type": "execute_result"
    }
   ],
   "source": [
    "%matplotlib inline\n",
    "import pandas as pd\n",
    "import matplotlib.pyplot as plt\n",
    "\n",
    "data = pd.read_csv(csv_path)\n",
    "\n",
    "data.head()"
   ]
  },
  {
   "cell_type": "code",
   "execution_count": 6,
   "metadata": {
    "collapsed": false
   },
   "outputs": [
    {
     "data": {
      "text/html": [
       "<div>\n",
       "<table border=\"1\" class=\"dataframe\">\n",
       "  <thead>\n",
       "    <tr style=\"text-align: right;\">\n",
       "      <th></th>\n",
       "      <th></th>\n",
       "      <th></th>\n",
       "      <th></th>\n",
       "      <th></th>\n",
       "      <th>ENTRIES</th>\n",
       "      <th>EXITS</th>\n",
       "    </tr>\n",
       "    <tr>\n",
       "      <th>C/A</th>\n",
       "      <th>UNIT</th>\n",
       "      <th>SCP</th>\n",
       "      <th>STATION</th>\n",
       "      <th>DATE</th>\n",
       "      <th></th>\n",
       "      <th></th>\n",
       "    </tr>\n",
       "  </thead>\n",
       "  <tbody>\n",
       "    <tr>\n",
       "      <th rowspan=\"5\" valign=\"top\">A002</th>\n",
       "      <th rowspan=\"5\" valign=\"top\">R051</th>\n",
       "      <th rowspan=\"5\" valign=\"top\">02-00-00</th>\n",
       "      <th rowspan=\"5\" valign=\"top\">59 ST</th>\n",
       "      <th>03/26/2016</th>\n",
       "      <td>33574476</td>\n",
       "      <td>11359687</td>\n",
       "    </tr>\n",
       "    <tr>\n",
       "      <th>03/27/2016</th>\n",
       "      <td>33574476</td>\n",
       "      <td>11359692</td>\n",
       "    </tr>\n",
       "    <tr>\n",
       "      <th>03/28/2016</th>\n",
       "      <td>33576081</td>\n",
       "      <td>11361307</td>\n",
       "    </tr>\n",
       "    <tr>\n",
       "      <th>03/29/2016</th>\n",
       "      <td>33583004</td>\n",
       "      <td>11365754</td>\n",
       "    </tr>\n",
       "    <tr>\n",
       "      <th>03/30/2016</th>\n",
       "      <td>33589744</td>\n",
       "      <td>11370963</td>\n",
       "    </tr>\n",
       "  </tbody>\n",
       "</table>\n",
       "</div>"
      ],
      "text/plain": [
       "                                        ENTRIES  \\\n",
       "C/A  UNIT SCP      STATION DATE                   \n",
       "A002 R051 02-00-00 59 ST   03/26/2016  33574476   \n",
       "                           03/27/2016  33574476   \n",
       "                           03/28/2016  33576081   \n",
       "                           03/29/2016  33583004   \n",
       "                           03/30/2016  33589744   \n",
       "\n",
       "                                       EXITS                                                                 \n",
       "C/A  UNIT SCP      STATION DATE                                                                              \n",
       "A002 R051 02-00-00 59 ST   03/26/2016                                           11359687                     \n",
       "                           03/27/2016                                           11359692                     \n",
       "                           03/28/2016                                           11361307                     \n",
       "                           03/29/2016                                           11365754                     \n",
       "                           03/30/2016                                           11370963                     "
      ]
     },
     "execution_count": 6,
     "metadata": {},
     "output_type": "execute_result"
    }
   ],
   "source": [
    "turnstile_groupby = data.groupby(['C/A','UNIT','SCP','STATION','DATE'])\n",
    "turnstile_sums = turnstile_groupby.sum()\n",
    "\n",
    "turnstile_sums.head()"
   ]
  },
  {
   "cell_type": "code",
   "execution_count": 7,
   "metadata": {
    "collapsed": false
   },
   "outputs": [
    {
     "data": {
      "image/png": "[encoded data removed]",
      "text/plain": [
       "<matplotlib.figure.Figure at 0x7fc9300396d0>"
      ]
     },
     "metadata": {},
     "output_type": "display_data"
    }
   ],
   "source": [
    "plot = turnstile_sums.loc['A002','R051','02-00-00','59 ST'].ENTRIES.plot(\n",
    "    title=\"Entries for turnstile 'A002','R051','02-00-00','59 ST'\", \n",
    "    rot=90)\n",
    "\n",
    "plot.set_xlabel('Entries')\n",
    "plot.plot();"
   ]
  },
  {
   "cell_type": "markdown",
   "metadata": {},
   "source": [
    "# Challenge 5"
   ]
  },
  {
   "cell_type": "code",
   "execution_count": 8,
   "metadata": {
    "collapsed": false
   },
   "outputs": [
    {
     "data": {
      "text/html": [
       "<div>\n",
       "<table border=\"1\" class=\"dataframe\">\n",
       "  <thead>\n",
       "    <tr style=\"text-align: right;\">\n",
       "      <th></th>\n",
       "      <th></th>\n",
       "      <th></th>\n",
       "      <th></th>\n",
       "      <th>ENTRIES</th>\n",
       "      <th>EXITS</th>\n",
       "    </tr>\n",
       "    <tr>\n",
       "      <th>C/A</th>\n",
       "      <th>UNIT</th>\n",
       "      <th>STATION</th>\n",
       "      <th>DATE</th>\n",
       "      <th></th>\n",
       "      <th></th>\n",
       "    </tr>\n",
       "  </thead>\n",
       "  <tbody>\n",
       "    <tr>\n",
       "      <th rowspan=\"5\" valign=\"top\">A002</th>\n",
       "      <th rowspan=\"5\" valign=\"top\">R051</th>\n",
       "      <th rowspan=\"5\" valign=\"top\">59 ST</th>\n",
       "      <th>03/26/2016</th>\n",
       "      <td>325300976</td>\n",
       "      <td>184249789</td>\n",
       "    </tr>\n",
       "    <tr>\n",
       "      <th>03/27/2016</th>\n",
       "      <td>325318020</td>\n",
       "      <td>184249454</td>\n",
       "    </tr>\n",
       "    <tr>\n",
       "      <th>03/28/2016</th>\n",
       "      <td>325343252</td>\n",
       "      <td>184275925</td>\n",
       "    </tr>\n",
       "    <tr>\n",
       "      <th>03/29/2016</th>\n",
       "      <td>325438568</td>\n",
       "      <td>184338034</td>\n",
       "    </tr>\n",
       "    <tr>\n",
       "      <th>03/30/2016</th>\n",
       "      <td>325538031</td>\n",
       "      <td>184403488</td>\n",
       "    </tr>\n",
       "  </tbody>\n",
       "</table>\n",
       "</div>"
      ],
      "text/plain": [
       "                                ENTRIES  \\\n",
       "C/A  UNIT STATION DATE                    \n",
       "A002 R051 59 ST   03/26/2016  325300976   \n",
       "                  03/27/2016  325318020   \n",
       "                  03/28/2016  325343252   \n",
       "                  03/29/2016  325438568   \n",
       "                  03/30/2016  325538031   \n",
       "\n",
       "                              EXITS                                                                 \n",
       "C/A  UNIT STATION DATE                                                                              \n",
       "A002 R051 59 ST   03/26/2016                                          184249789                     \n",
       "                  03/27/2016                                          184249454                     \n",
       "                  03/28/2016                                          184275925                     \n",
       "                  03/29/2016                                          184338034                     \n",
       "                  03/30/2016                                          184403488                     "
      ]
     },
     "execution_count": 8,
     "metadata": {},
     "output_type": "execute_result"
    }
   ],
   "source": [
    "ca_unit_sums = data.groupby(['C/A', 'UNIT', 'STATION', 'DATE']).sum()\n",
    "ca_unit_sums.head()"
   ]
  },
  {
   "cell_type": "markdown",
   "metadata": {},
   "source": [
    "# Challenge 6"
   ]
  },
  {
   "cell_type": "code",
   "execution_count": 9,
   "metadata": {
    "collapsed": false
   },
   "outputs": [
    {
     "data": {
      "text/html": [
       "<div>\n",
       "<table border=\"1\" class=\"dataframe\">\n",
       "  <thead>\n",
       "    <tr style=\"text-align: right;\">\n",
       "      <th></th>\n",
       "      <th></th>\n",
       "      <th>ENTRIES</th>\n",
       "      <th>EXITS</th>\n",
       "    </tr>\n",
       "    <tr>\n",
       "      <th>STATION</th>\n",
       "      <th>DATE</th>\n",
       "      <th></th>\n",
       "      <th></th>\n",
       "    </tr>\n",
       "  </thead>\n",
       "  <tbody>\n",
       "    <tr>\n",
       "      <th rowspan=\"5\" valign=\"top\">1 AV</th>\n",
       "      <th>03/26/2016</th>\n",
       "      <td>9360477057</td>\n",
       "      <td>20851658620</td>\n",
       "    </tr>\n",
       "    <tr>\n",
       "      <th>03/27/2016</th>\n",
       "      <td>9360582797</td>\n",
       "      <td>20851729162</td>\n",
       "    </tr>\n",
       "    <tr>\n",
       "      <th>03/28/2016</th>\n",
       "      <td>9360681182</td>\n",
       "      <td>20851799152</td>\n",
       "    </tr>\n",
       "    <tr>\n",
       "      <th>03/29/2016</th>\n",
       "      <td>9360821714</td>\n",
       "      <td>20851885465</td>\n",
       "    </tr>\n",
       "    <tr>\n",
       "      <th>03/30/2016</th>\n",
       "      <td>9360969635</td>\n",
       "      <td>20851976717</td>\n",
       "    </tr>\n",
       "  </tbody>\n",
       "</table>\n",
       "</div>"
      ],
      "text/plain": [
       "                       ENTRIES  \\\n",
       "STATION DATE                     \n",
       "1 AV    03/26/2016  9360477057   \n",
       "        03/27/2016  9360582797   \n",
       "        03/28/2016  9360681182   \n",
       "        03/29/2016  9360821714   \n",
       "        03/30/2016  9360969635   \n",
       "\n",
       "                    EXITS                                                                 \n",
       "STATION DATE                                                                              \n",
       "1 AV    03/26/2016                                        20851658620                     \n",
       "        03/27/2016                                        20851729162                     \n",
       "        03/28/2016                                        20851799152                     \n",
       "        03/29/2016                                        20851885465                     \n",
       "        03/30/2016                                        20851976717                     "
      ]
     },
     "execution_count": 9,
     "metadata": {},
     "output_type": "execute_result"
    }
   ],
   "source": [
    "station_daily_sums = data.groupby(['STATION','DATE']).sum()\n",
    "station_daily_sums.head()"
   ]
  },
  {
   "cell_type": "markdown",
   "metadata": {},
   "source": [
    "# Challenge 7"
   ]
  },
  {
   "cell_type": "code",
   "execution_count": 10,
   "metadata": {
    "collapsed": false
   },
   "outputs": [
    {
     "data": {
      "text/html": [
       "<div>\n",
       "<table border=\"1\" class=\"dataframe\">\n",
       "  <thead>\n",
       "    <tr style=\"text-align: right;\">\n",
       "      <th></th>\n",
       "      <th></th>\n",
       "      <th></th>\n",
       "      <th>ENTRIES</th>\n",
       "      <th>EXITS</th>\n",
       "    </tr>\n",
       "    <tr>\n",
       "      <th>STATION</th>\n",
       "      <th>DATE</th>\n",
       "      <th>TIME</th>\n",
       "      <th></th>\n",
       "      <th></th>\n",
       "    </tr>\n",
       "  </thead>\n",
       "  <tbody>\n",
       "    <tr>\n",
       "      <th rowspan=\"5\" valign=\"top\">1 AV</th>\n",
       "      <th rowspan=\"5\" valign=\"top\">03/26/2016</th>\n",
       "      <th>00:00:00</th>\n",
       "      <td>1560073877</td>\n",
       "      <td>3475272706</td>\n",
       "    </tr>\n",
       "    <tr>\n",
       "      <th>04:00:00</th>\n",
       "      <td>1560075780</td>\n",
       "      <td>3475273572</td>\n",
       "    </tr>\n",
       "    <tr>\n",
       "      <th>08:00:00</th>\n",
       "      <td>1560076327</td>\n",
       "      <td>3475274341</td>\n",
       "    </tr>\n",
       "    <tr>\n",
       "      <th>12:00:00</th>\n",
       "      <td>1560079106</td>\n",
       "      <td>3475276304</td>\n",
       "    </tr>\n",
       "    <tr>\n",
       "      <th>16:00:00</th>\n",
       "      <td>1560083544</td>\n",
       "      <td>3475279125</td>\n",
       "    </tr>\n",
       "  </tbody>\n",
       "</table>\n",
       "</div>"
      ],
      "text/plain": [
       "                                ENTRIES  \\\n",
       "STATION DATE       TIME                   \n",
       "1 AV    03/26/2016 00:00:00  1560073877   \n",
       "                   04:00:00  1560075780   \n",
       "                   08:00:00  1560076327   \n",
       "                   12:00:00  1560079106   \n",
       "                   16:00:00  1560083544   \n",
       "\n",
       "                             EXITS                                                                 \n",
       "STATION DATE       TIME                                                                            \n",
       "1 AV    03/26/2016 00:00:00                                         3475272706                     \n",
       "                   04:00:00                                         3475273572                     \n",
       "                   08:00:00                                         3475274341                     \n",
       "                   12:00:00                                         3475276304                     \n",
       "                   16:00:00                                         3475279125                     "
      ]
     },
     "execution_count": 10,
     "metadata": {},
     "output_type": "execute_result"
    }
   ],
   "source": [
    "station_hourly_sums = data.groupby(['STATION','DATE','TIME']).sum()\n",
    "station_hourly_sums.head()"
   ]
  },
  {
   "cell_type": "code",
   "execution_count": 11,
   "metadata": {
    "collapsed": false
   },
   "outputs": [
    {
     "name": "stdout",
     "output_type": "stream",
     "text": [
      "DATE        TIME    \n",
      "03/26/2016  00:00:00    24797651\n",
      "            04:00:00    24797884\n",
      "            08:00:00    24798617\n",
      "            12:00:00    24801545\n",
      "            16:00:00    24804638\n",
      "            20:00:00    24806826\n",
      "03/27/2016  00:00:00    24807918\n",
      "            04:00:00    24808130\n",
      "            08:00:00    24808563\n",
      "            12:00:00    24810510\n",
      "Name: ENTRIES, dtype: int64\n",
      ". . .\n",
      "DATE        TIME    \n",
      "03/31/2016  12:00:00    24879022\n",
      "            16:00:00    24881830\n",
      "            20:00:00    24884366\n",
      "04/01/2016  00:00:00    24885302\n",
      "            04:00:00    24885451\n",
      "            08:00:00    24889120\n",
      "            12:00:00    24896593\n",
      "            14:56:10    24898458\n",
      "            16:00:00    24899312\n",
      "            20:00:00    24902183\n",
      "Name: ENTRIES, dtype: int64\n"
     ]
    }
   ],
   "source": [
    "station_of_interest = 'ASTORIA DITMARS'\n",
    "print station_hourly_sums.loc[station_of_interest].ENTRIES.head(10)\n",
    "print '. . .'\n",
    "print station_hourly_sums.loc[station_of_interest].ENTRIES.tail(10)"
   ]
  },
  {
   "cell_type": "code",
   "execution_count": 12,
   "metadata": {
    "collapsed": false
   },
   "outputs": [
    {
     "data": {
      "image/png": "[encoded data removed]",
      "text/plain": [
       "<matplotlib.figure.Figure at 0x7fc90f741090>"
      ]
     },
     "metadata": {},
     "output_type": "display_data"
    }
   ],
   "source": [
    "station_hourly_sums.loc[station_of_interest].ENTRIES.plot(\n",
    "    title='Entries at %s' % station_of_interest,\n",
    "    rot=90);"
   ]
  },
  {
   "cell_type": "markdown",
   "metadata": {},
   "source": [
    "# Challenge 8"
   ]
  },
  {
   "cell_type": "code",
   "execution_count": 13,
   "metadata": {
    "collapsed": false
   },
   "outputs": [
    {
     "name": "stdout",
     "output_type": "stream",
     "text": [
      "unique WEEK_NO's: [0 1 2 3]\n"
     ]
    },
    {
     "data": {
      "text/html": [
       "<div>\n",
       "<table border=\"1\" class=\"dataframe\">\n",
       "  <thead>\n",
       "    <tr style=\"text-align: right;\">\n",
       "      <th></th>\n",
       "      <th>DATE</th>\n",
       "      <th>ENTRIES</th>\n",
       "      <th>EXITS</th>\n",
       "      <th>WEEK_NO</th>\n",
       "    </tr>\n",
       "  </thead>\n",
       "  <tbody>\n",
       "    <tr>\n",
       "      <th>0</th>\n",
       "      <td>03/05/2016</td>\n",
       "      <td>146833170</td>\n",
       "      <td>147648987</td>\n",
       "      <td>0</td>\n",
       "    </tr>\n",
       "    <tr>\n",
       "      <th>1</th>\n",
       "      <td>03/06/2016</td>\n",
       "      <td>146894546</td>\n",
       "      <td>147706500</td>\n",
       "      <td>0</td>\n",
       "    </tr>\n",
       "    <tr>\n",
       "      <th>2</th>\n",
       "      <td>03/07/2016</td>\n",
       "      <td>146981640</td>\n",
       "      <td>147768071</td>\n",
       "      <td>0</td>\n",
       "    </tr>\n",
       "    <tr>\n",
       "      <th>3</th>\n",
       "      <td>03/08/2016</td>\n",
       "      <td>147090630</td>\n",
       "      <td>147864191</td>\n",
       "      <td>0</td>\n",
       "    </tr>\n",
       "    <tr>\n",
       "      <th>4</th>\n",
       "      <td>03/09/2016</td>\n",
       "      <td>147200829</td>\n",
       "      <td>147963549</td>\n",
       "      <td>0</td>\n",
       "    </tr>\n",
       "  </tbody>\n",
       "</table>\n",
       "</div>"
      ],
      "text/plain": [
       "         DATE    ENTRIES  \\\n",
       "0  03/05/2016  146833170   \n",
       "1  03/06/2016  146894546   \n",
       "2  03/07/2016  146981640   \n",
       "3  03/08/2016  147090630   \n",
       "4  03/09/2016  147200829   \n",
       "\n",
       "   EXITS                                                                 \\\n",
       "0                                          147648987                      \n",
       "1                                          147706500                      \n",
       "2                                          147768071                      \n",
       "3                                          147864191                      \n",
       "4                                          147963549                      \n",
       "\n",
       "   WEEK_NO  \n",
       "0        0  \n",
       "1        0  \n",
       "2        0  \n",
       "3        0  \n",
       "4        0  "
      ]
     },
     "execution_count": 13,
     "metadata": {},
     "output_type": "execute_result"
    }
   ],
   "source": [
    "def append_df_list(dfs, ignore_index=False):\n",
    "    final_df = dfs[0]\n",
    "    for df in dfs[1:]:\n",
    "        final_df = final_df.append(df, ignore_index)\n",
    "    return final_df\n",
    "\n",
    "def get_weekly_station_counts(station_name, csv_files):\n",
    "    csv_files.sort()\n",
    "    df_list = []\n",
    "    \n",
    "    for week_no, f in enumerate(csv_files):\n",
    "        data = pd.read_csv(f)\n",
    "                    \n",
    "        weekly_sums = data[data.STATION == station_of_interest].groupby(['DATE']).sum().reset_index()\n",
    "        weekly_sums['WEEK_NO'] = week_no\n",
    "\n",
    "        df_list.append(weekly_sums)\n",
    "            \n",
    "    return append_df_list(df_list, ignore_index=False)\n",
    "\n",
    "# re-used\n",
    "csv_files_list = ['turnstile_160402.txt', 'turnstile_160326.txt', 'turnstile_160319.txt', 'turnstile_160312.txt']\n",
    "\n",
    "challenge8 = get_weekly_station_counts(station_of_interest, csv_files_list)\n",
    "\n",
    "print 'unique WEEK_NO\\'s:', challenge8.WEEK_NO.unique()\n",
    "challenge8.head()"
   ]
  },
  {
   "cell_type": "code",
   "execution_count": 14,
   "metadata": {
    "collapsed": false
   },
   "outputs": [
    {
     "data": {
      "image/png": "[encoded data removed]",
      "text/plain": [
       "<matplotlib.figure.Figure at 0x7fc90e9d2210>"
      ]
     },
     "metadata": {},
     "output_type": "display_data"
    }
   ],
   "source": [
    "# should be sorted anyway but just in case \n",
    "challenge8.sort_values('DATE', inplace=True)\n",
    "\n",
    "for week_no, grp in challenge8.groupby('WEEK_NO'):\n",
    "    plt.plot(grp.ENTRIES, label=\"Week %i\" % week_no)\n",
    "\n",
    "plt.legend(loc='best')\n",
    "plt.title(\"Cumulative entries at %s per week\" % station_of_interest)\n",
    "plt.xticks(range(7), 'Sat Sun Mon Tues Wed Thurs Fri'.split())\n",
    "plt.show()"
   ]
  },
  {
   "cell_type": "markdown",
   "metadata": {},
   "source": [
    "# Challenge 9"
   ]
  },
  {
   "cell_type": "code",
   "execution_count": 15,
   "metadata": {
    "collapsed": false
   },
   "outputs": [
    {
     "name": "stdout",
     "output_type": "stream",
     "text": [
      "top 10 stations by summed cumulative entries\n"
     ]
    },
    {
     "data": {
      "text/html": [
       "<div>\n",
       "<table border=\"1\" class=\"dataframe\">\n",
       "  <thead>\n",
       "    <tr style=\"text-align: right;\">\n",
       "      <th></th>\n",
       "      <th>STATION</th>\n",
       "      <th>ENTRIES</th>\n",
       "      <th>EXITS</th>\n",
       "    </tr>\n",
       "  </thead>\n",
       "  <tbody>\n",
       "    <tr>\n",
       "      <th>133</th>\n",
       "      <td>42 ST-PORT AUTH</td>\n",
       "      <td>1322553601815</td>\n",
       "      <td>1068267353878</td>\n",
       "    </tr>\n",
       "    <tr>\n",
       "      <th>2</th>\n",
       "      <td>57 ST-7 AV</td>\n",
       "      <td>1267271048779</td>\n",
       "      <td>1099526592668</td>\n",
       "    </tr>\n",
       "    <tr>\n",
       "      <th>7</th>\n",
       "      <td>23 ST</td>\n",
       "      <td>1099858195277</td>\n",
       "      <td>1024560056494</td>\n",
       "    </tr>\n",
       "    <tr>\n",
       "      <th>4</th>\n",
       "      <td>TIMES SQ-42 ST</td>\n",
       "      <td>985661617668</td>\n",
       "      <td>775954745714</td>\n",
       "    </tr>\n",
       "    <tr>\n",
       "      <th>275</th>\n",
       "      <td>GRD CNTRL-42 ST</td>\n",
       "      <td>852086670972</td>\n",
       "      <td>355573642621</td>\n",
       "    </tr>\n",
       "    <tr>\n",
       "      <th>134</th>\n",
       "      <td>34 ST-PENN STA</td>\n",
       "      <td>753265754200</td>\n",
       "      <td>356841385306</td>\n",
       "    </tr>\n",
       "    <tr>\n",
       "      <th>19</th>\n",
       "      <td>FULTON ST</td>\n",
       "      <td>672846150675</td>\n",
       "      <td>712959804195</td>\n",
       "    </tr>\n",
       "    <tr>\n",
       "      <th>125</th>\n",
       "      <td>125 ST</td>\n",
       "      <td>666376455375</td>\n",
       "      <td>328458906991</td>\n",
       "    </tr>\n",
       "    <tr>\n",
       "      <th>11</th>\n",
       "      <td>CANAL ST</td>\n",
       "      <td>661723937658</td>\n",
       "      <td>372786550548</td>\n",
       "    </tr>\n",
       "    <tr>\n",
       "      <th>106</th>\n",
       "      <td>104 ST</td>\n",
       "      <td>648510724427</td>\n",
       "      <td>534008082421</td>\n",
       "    </tr>\n",
       "  </tbody>\n",
       "</table>\n",
       "</div>"
      ],
      "text/plain": [
       "             STATION        ENTRIES  \\\n",
       "133  42 ST-PORT AUTH  1322553601815   \n",
       "2         57 ST-7 AV  1267271048779   \n",
       "7              23 ST  1099858195277   \n",
       "4     TIMES SQ-42 ST   985661617668   \n",
       "275  GRD CNTRL-42 ST   852086670972   \n",
       "134   34 ST-PENN STA   753265754200   \n",
       "19         FULTON ST   672846150675   \n",
       "125           125 ST   666376455375   \n",
       "11          CANAL ST   661723937658   \n",
       "106           104 ST   648510724427   \n",
       "\n",
       "     EXITS                                                                 \n",
       "133                                      1068267353878                     \n",
       "2                                        1099526592668                     \n",
       "7                                        1024560056494                     \n",
       "4                                         775954745714                     \n",
       "275                                       355573642621                     \n",
       "134                                       356841385306                     \n",
       "19                                        712959804195                     \n",
       "125                                       328458906991                     \n",
       "11                                        372786550548                     \n",
       "106                                       534008082421                     "
      ]
     },
     "execution_count": 15,
     "metadata": {},
     "output_type": "execute_result"
    }
   ],
   "source": [
    "def get_total_station_counts(csv_files):\n",
    "    csv_files.sort()\n",
    "    df_list = []\n",
    "    \n",
    "    for f in csv_files:\n",
    "        data = pd.read_csv(f)\n",
    "\n",
    "        df_list.append(data)\n",
    "        \n",
    "    all_data = append_df_list(df_list, ignore_index=True)\n",
    "            \n",
    "    return all_data.groupby('STATION', as_index=False, sort=False).sum().sort_values('ENTRIES', ascending=False)\n",
    "\n",
    "challenge9 = get_total_station_counts(csv_files_list)\n",
    "\n",
    "print \"top 10 stations by summed cumulative entries\"\n",
    "challenge9.head(10)"
   ]
  },
  {
   "cell_type": "markdown",
   "metadata": {},
   "source": [
    "# Challenge 10"
   ]
  },
  {
   "cell_type": "code",
   "execution_count": 16,
   "metadata": {
    "collapsed": false
   },
   "outputs": [
    {
     "data": {
      "text/html": [
       "<div>\n",
       "<table border=\"1\" class=\"dataframe\">\n",
       "  <thead>\n",
       "    <tr style=\"text-align: right;\">\n",
       "      <th></th>\n",
       "      <th>ENTRIES</th>\n",
       "      <th>EXITS</th>\n",
       "    </tr>\n",
       "    <tr>\n",
       "      <th>STATION</th>\n",
       "      <th></th>\n",
       "      <th></th>\n",
       "    </tr>\n",
       "  </thead>\n",
       "  <tbody>\n",
       "    <tr>\n",
       "      <th>42 ST-PORT AUTH</th>\n",
       "      <td>1322553601815</td>\n",
       "      <td>1068267353878</td>\n",
       "    </tr>\n",
       "    <tr>\n",
       "      <th>57 ST-7 AV</th>\n",
       "      <td>1267271048779</td>\n",
       "      <td>1099526592668</td>\n",
       "    </tr>\n",
       "    <tr>\n",
       "      <th>23 ST</th>\n",
       "      <td>1099858195277</td>\n",
       "      <td>1024560056494</td>\n",
       "    </tr>\n",
       "    <tr>\n",
       "      <th>TIMES SQ-42 ST</th>\n",
       "      <td>985661617668</td>\n",
       "      <td>775954745714</td>\n",
       "    </tr>\n",
       "    <tr>\n",
       "      <th>GRD CNTRL-42 ST</th>\n",
       "      <td>852086670972</td>\n",
       "      <td>355573642621</td>\n",
       "    </tr>\n",
       "    <tr>\n",
       "      <th>34 ST-PENN STA</th>\n",
       "      <td>753265754200</td>\n",
       "      <td>356841385306</td>\n",
       "    </tr>\n",
       "    <tr>\n",
       "      <th>FULTON ST</th>\n",
       "      <td>672846150675</td>\n",
       "      <td>712959804195</td>\n",
       "    </tr>\n",
       "    <tr>\n",
       "      <th>125 ST</th>\n",
       "      <td>666376455375</td>\n",
       "      <td>328458906991</td>\n",
       "    </tr>\n",
       "    <tr>\n",
       "      <th>CANAL ST</th>\n",
       "      <td>661723937658</td>\n",
       "      <td>372786550548</td>\n",
       "    </tr>\n",
       "    <tr>\n",
       "      <th>104 ST</th>\n",
       "      <td>648510724427</td>\n",
       "      <td>534008082421</td>\n",
       "    </tr>\n",
       "  </tbody>\n",
       "</table>\n",
       "</div>"
      ],
      "text/plain": [
       "                       ENTRIES  \\\n",
       "STATION                          \n",
       "42 ST-PORT AUTH  1322553601815   \n",
       "57 ST-7 AV       1267271048779   \n",
       "23 ST            1099858195277   \n",
       "TIMES SQ-42 ST    985661617668   \n",
       "GRD CNTRL-42 ST   852086670972   \n",
       "34 ST-PENN STA    753265754200   \n",
       "FULTON ST         672846150675   \n",
       "125 ST            666376455375   \n",
       "CANAL ST          661723937658   \n",
       "104 ST            648510724427   \n",
       "\n",
       "                 EXITS                                                                 \n",
       "STATION                                                                                \n",
       "42 ST-PORT AUTH                                      1068267353878                     \n",
       "57 ST-7 AV                                           1099526592668                     \n",
       "23 ST                                                1024560056494                     \n",
       "TIMES SQ-42 ST                                        775954745714                     \n",
       "GRD CNTRL-42 ST                                       355573642621                     \n",
       "34 ST-PENN STA                                        356841385306                     \n",
       "FULTON ST                                             712959804195                     \n",
       "125 ST                                                328458906991                     \n",
       "CANAL ST                                              372786550548                     \n",
       "104 ST                                                534008082421                     "
      ]
     },
     "execution_count": 16,
     "metadata": {},
     "output_type": "execute_result"
    }
   ],
   "source": [
    "top_10_stations = challenge9.iloc[:10].reset_index().drop('index', axis=1).set_index('STATION')\n",
    "top_10_stations"
   ]
  },
  {
   "cell_type": "code",
   "execution_count": 17,
   "metadata": {
    "collapsed": false
   },
   "outputs": [
    {
     "data": {
      "image/png": "[encoded data removed]",
      "text/plain": [
       "<matplotlib.figure.Figure at 0x7fc90e9e98d0>"
      ]
     },
     "metadata": {},
     "output_type": "display_data"
    }
   ],
   "source": [
    "top_10_stations.ENTRIES.plot.barh(\n",
    "    title=\"Summed cumulative entries for top 10 stations\")\n",
    "plt.xlabel(\"Summed cumulative entries\");"
   ]
  },
  {
   "cell_type": "code",
   "execution_count": 18,
   "metadata": {
    "collapsed": false
   },
   "outputs": [
    {
     "data": {
      "image/png": "[encoded data removed]",
      "text/plain": [
       "<matplotlib.figure.Figure at 0x7fc90cba23d0>"
      ]
     },
     "metadata": {},
     "output_type": "display_data"
    }
   ],
   "source": [
    "plt.hist(challenge9.ENTRIES, bins=20)\n",
    "plt.title(\"distribution of total cumulative entries\");"
   ]
  }
 ],
 "metadata": {
  "kernelspec": {
   "display_name": "Python 2",
   "language": "python",
   "name": "python2"
  },
  "language_info": {
   "codemirror_mode": {
    "name": "ipython",
    "version": 2
   },
   "file_extension": ".py",
   "mimetype": "text/x-python",
   "name": "python",
   "nbconvert_exporter": "python",
   "pygments_lexer": "ipython2",
   "version": "2.7.11"
  }
 },
 "nbformat": 4,
 "nbformat_minor": 0
}
