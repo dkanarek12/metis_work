{
 "cells": [
  {
   "cell_type": "markdown",
   "metadata": {},
   "source": [
    "Challenge Set 1  Part I   \n",
    "Topic:        Explore MTA turnstile data  \n",
    "Date:         04/10/2016  \n",
    "Name:         Lucia Palova  \n",
    "Worked with:  N/A"
   ]
  },
  {
   "cell_type": "markdown",
   "metadata": {},
   "source": [
    "# Challenges 1 - 4 : Using dictionaries"
   ]
  },
  {
   "cell_type": "markdown",
   "metadata": {
    "collapsed": true
   },
   "source": [
    "# Reading Data"
   ]
  },
  {
   "cell_type": "code",
   "execution_count": 1,
   "metadata": {
    "collapsed": false
   },
   "outputs": [
    {
     "name": "stderr",
     "output_type": "stream",
     "text": [
      "/home/lucia/anaconda2/lib/python2.7/site-packages/matplotlib/font_manager.py:273: UserWarning: Matplotlib is building the font cache using fc-list. This may take a moment.\n",
      "  warnings.warn('Matplotlib is building the font cache using fc-list. This may take a moment.')\n"
     ]
    }
   ],
   "source": [
    "import csv\n",
    "import collections\n",
    "import dateutil.parser\n",
    "import urllib\n",
    "import contextlib\n",
    "import matplotlib.pyplot as plt\n",
    "import numpy as np\n",
    "from datetime import datetime"
   ]
  },
  {
   "cell_type": "code",
   "execution_count": 2,
   "metadata": {
    "collapsed": true
   },
   "outputs": [],
   "source": [
    "first_key = (\"A002\",\"R051\",\"02-00-00\",\"59 ST\")\n",
    "other_key = ('N134', 'R385', '00-00-00', 'ROCKAWAY BLVD')\n",
    "first_key_ch5 = ('A002', 'R051', '59 ST')"
   ]
  },
  {
   "cell_type": "code",
   "execution_count": 3,
   "metadata": {
    "collapsed": false
   },
   "outputs": [
    {
     "name": "stdout",
     "output_type": "stream",
     "text": [
      "[{'DIVISION': 'BMT', 'LINENAME': 'NQR456', 'EXITS                                                               ': '0001893282                                             ', 'ENTRIES': '0005595746', 'C/A': 'A002', 'STATION': '59 ST', 'TIME': '04:00:00', 'DATE': '03/26/2016', 'SCP': '02-00-00', 'UNIT': 'R051', 'DESC': 'REGULAR'}]\n"
     ]
    }
   ],
   "source": [
    "# Reading data from a file on disk\n",
    "def read_data(data):\n",
    "    dict_list = []\n",
    "    with open(data, 'rb') as csvfile:\n",
    "        reader = csv.DictReader(csvfile)\n",
    "        for row in reader:\n",
    "            dict_list.append(row)\n",
    "    return dict_list\n",
    "dict_list = read_data('data/turnstile_160402.txt')\n",
    "print dict_list[1:2]"
   ]
  },
  {
   "cell_type": "code",
   "execution_count": 4,
   "metadata": {
    "collapsed": false
   },
   "outputs": [],
   "source": [
    "# Reading data directly from the url\n",
    "def read_url(url):\n",
    "    dict_list = []\n",
    "    with contextlib.closing(urllib.urlopen(url)) as csvfile:\n",
    "        reader = csv.DictReader(csvfile)\n",
    "        for row in reader:\n",
    "            dict_list.append(row)\n",
    "    return dict_list\n",
    "url = 'http://web.mta.info/developers/data/nyct/turnstile/turnstile_160402.txt'\n",
    "dict_list_url = read_url(url)"
   ]
  },
  {
   "cell_type": "code",
   "execution_count": 5,
   "metadata": {
    "collapsed": false
   },
   "outputs": [
    {
     "name": "stdout",
     "output_type": "stream",
     "text": [
      "Equal\n"
     ]
    }
   ],
   "source": [
    "# Checking that the two reading methods give the same result\n",
    "import json\n",
    "if json.dumps(dict_list) == json.dumps(dict_list_url):\n",
    "    print(\"Equal\")"
   ]
  },
  {
   "cell_type": "markdown",
   "metadata": {
    "collapsed": true
   },
   "source": [
    "# Challenge 1"
   ]
  },
  {
   "cell_type": "code",
   "execution_count": 6,
   "metadata": {
    "collapsed": false
   },
   "outputs": [
    {
     "name": "stdout",
     "output_type": "stream",
     "text": [
      "('A002', 'R051', '02-00-00', '59 ST')\n",
      "[['NQR456', 'BMT', '03/26/2016', '00:00:00', 'REGULAR', '0005595746', '0001893277'], ['NQR456', 'BMT', '03/26/2016', '04:00:00', 'REGULAR', '0005595746', '0001893282'], ['NQR456', 'BMT', '03/26/2016', '08:00:00', 'REGULAR', '0005595746', '0001893282'], ['NQR456', 'BMT', '03/26/2016', '12:00:00', 'REGULAR', '0005595746', '0001893282'], ['NQR456', 'BMT', '03/26/2016', '16:00:00', 'REGULAR', '0005595746', '0001893282'], ['NQR456', 'BMT', '03/26/2016', '20:00:00', 'REGULAR', '0005595746', '0001893282'], ['NQR456', 'BMT', '03/27/2016', '00:00:00', 'REGULAR', '0005595746', '0001893282'], ['NQR456', 'BMT', '03/27/2016', '04:00:00', 'REGULAR', '0005595746', '0001893282'], ['NQR456', 'BMT', '03/27/2016', '08:00:00', 'REGULAR', '0005595746', '0001893282'], ['NQR456', 'BMT', '03/27/2016', '12:00:00', 'REGULAR', '0005595746', '0001893282'], ['NQR456', 'BMT', '03/27/2016', '16:00:00', 'REGULAR', '0005595746', '0001893282'], ['NQR456', 'BMT', '03/27/2016', '20:00:00', 'REGULAR', '0005595746', '0001893282'], ['NQR456', 'BMT', '03/28/2016', '00:00:00', 'REGULAR', '0005595746', '0001893282'], ['NQR456', 'BMT', '03/28/2016', '04:00:00', 'REGULAR', '0005595746', '0001893282'], ['NQR456', 'BMT', '03/28/2016', '08:00:00', 'REGULAR', '0005595780', '0001893382'], ['NQR456', 'BMT', '03/28/2016', '12:00:00', 'REGULAR', '0005595936', '0001893679'], ['NQR456', 'BMT', '03/28/2016', '16:00:00', 'REGULAR', '0005596182', '0001893748'], ['NQR456', 'BMT', '03/28/2016', '20:00:00', 'REGULAR', '0005596691', '0001893934'], ['NQR456', 'BMT', '03/29/2016', '00:00:00', 'REGULAR', '0005596896', '0001893974'], ['NQR456', 'BMT', '03/29/2016', '04:00:00', 'REGULAR', '0005596905', '0001893975'], ['NQR456', 'BMT', '03/29/2016', '08:00:00', 'REGULAR', '0005596942', '0001894084'], ['NQR456', 'BMT', '03/29/2016', '12:00:00', 'REGULAR', '0005597074', '0001894423'], ['NQR456', 'BMT', '03/29/2016', '16:00:00', 'REGULAR', '0005597352', '0001894489'], ['NQR456', 'BMT', '03/29/2016', '20:00:00', 'REGULAR', '0005597835', '0001894809'], ['NQR456', 'BMT', '03/30/2016', '00:00:00', 'REGULAR', '0005598003', '0001894856'], ['NQR456', 'BMT', '03/30/2016', '04:00:00', 'REGULAR', '0005598010', '0001894859'], ['NQR456', 'BMT', '03/30/2016', '08:00:00', 'REGULAR', '0005598057', '0001894956'], ['NQR456', 'BMT', '03/30/2016', '12:00:00', 'REGULAR', '0005598218', '0001895280'], ['NQR456', 'BMT', '03/30/2016', '16:00:00', 'REGULAR', '0005598477', '0001895355'], ['NQR456', 'BMT', '03/30/2016', '20:00:00', 'REGULAR', '0005598979', '0001895657'], ['NQR456', 'BMT', '03/31/2016', '00:00:00', 'REGULAR', '0005599165', '0001895684'], ['NQR456', 'BMT', '03/31/2016', '04:00:00', 'REGULAR', '0005599165', '0001895684'], ['NQR456', 'BMT', '03/31/2016', '08:00:00', 'REGULAR', '0005599202', '0001895796'], ['NQR456', 'BMT', '03/31/2016', '09:22:41', 'REGULAR', '0005599230', '0001895891'], ['NQR456', 'BMT', '03/31/2016', '12:00:00', 'REGULAR', '0005599230', '0001895891'], ['NQR456', 'BMT', '03/31/2016', '16:00:00', 'REGULAR', '0005599230', '0001895891'], ['NQR456', 'BMT', '03/31/2016', '20:00:00', 'REGULAR', '0005599433', '0001895975'], ['NQR456', 'BMT', '04/01/2016', '00:00:00', 'REGULAR', '0005599639', '0001896005'], ['NQR456', 'BMT', '04/01/2016', '04:00:00', 'REGULAR', '0005599650', '0001896015'], ['NQR456', 'BMT', '04/01/2016', '08:00:00', 'REGULAR', '0005599690', '0001896110'], ['NQR456', 'BMT', '04/01/2016', '12:00:00', 'REGULAR', '0005599694', '0001896111'], ['NQR456', 'BMT', '04/01/2016', '16:00:00', 'REGULAR', '0005599946', '0001896170'], ['NQR456', 'BMT', '04/01/2016', '20:00:00', 'REGULAR', '0005600640', '0001896259']]\n"
     ]
    }
   ],
   "source": [
    "def create_dict1(dict_list):\n",
    "    new_dict = collections.defaultdict(list)\n",
    "    for d in dict_list:\n",
    "        key = ( d['C/A'], d['UNIT'], d['SCP'], d['STATION'] )\n",
    "        value = [ d['LINENAME'], d['DIVISION'], d['DATE'], d['TIME'], d['DESC'], d['ENTRIES'], \n",
    "         d['EXITS                                                               '].strip()]\n",
    "        new_dict[key].append(value) \n",
    "    return new_dict\n",
    "my_dict = create_dict1(dict_list)\n",
    "#print(my_dict.keys()[0])\n",
    "#print(my_dict[my_dict.keys()[0]])\n",
    "print first_key\n",
    "print my_dict[first_key]"
   ]
  },
  {
   "cell_type": "markdown",
   "metadata": {
    "collapsed": true
   },
   "source": [
    "# Challenge 2"
   ]
  },
  {
   "cell_type": "code",
   "execution_count": 7,
   "metadata": {
    "collapsed": false
   },
   "outputs": [
    {
     "name": "stdout",
     "output_type": "stream",
     "text": [
      "('A002', 'R051', '02-00-00', '59 ST')\n",
      "[[datetime.datetime(2016, 3, 26, 0, 0), 0], [datetime.datetime(2016, 3, 26, 4, 0), 0], [datetime.datetime(2016, 3, 26, 8, 0), 0], [datetime.datetime(2016, 3, 26, 12, 0), 0], [datetime.datetime(2016, 3, 26, 16, 0), 0], [datetime.datetime(2016, 3, 26, 20, 0), 0], [datetime.datetime(2016, 3, 27, 0, 0), 0], [datetime.datetime(2016, 3, 27, 4, 0), 0], [datetime.datetime(2016, 3, 27, 8, 0), 0], [datetime.datetime(2016, 3, 27, 12, 0), 0], [datetime.datetime(2016, 3, 27, 16, 0), 0], [datetime.datetime(2016, 3, 27, 20, 0), 0], [datetime.datetime(2016, 3, 28, 0, 0), 0], [datetime.datetime(2016, 3, 28, 4, 0), 0], [datetime.datetime(2016, 3, 28, 8, 0), 34], [datetime.datetime(2016, 3, 28, 12, 0), 156], [datetime.datetime(2016, 3, 28, 16, 0), 246], [datetime.datetime(2016, 3, 28, 20, 0), 509], [datetime.datetime(2016, 3, 29, 0, 0), 205], [datetime.datetime(2016, 3, 29, 4, 0), 9], [datetime.datetime(2016, 3, 29, 8, 0), 37], [datetime.datetime(2016, 3, 29, 12, 0), 132], [datetime.datetime(2016, 3, 29, 16, 0), 278], [datetime.datetime(2016, 3, 29, 20, 0), 483], [datetime.datetime(2016, 3, 30, 0, 0), 168], [datetime.datetime(2016, 3, 30, 4, 0), 7], [datetime.datetime(2016, 3, 30, 8, 0), 47], [datetime.datetime(2016, 3, 30, 12, 0), 161], [datetime.datetime(2016, 3, 30, 16, 0), 259], [datetime.datetime(2016, 3, 30, 20, 0), 502], [datetime.datetime(2016, 3, 31, 0, 0), 186], [datetime.datetime(2016, 3, 31, 4, 0), 0], [datetime.datetime(2016, 3, 31, 8, 0), 37], [datetime.datetime(2016, 3, 31, 9, 22, 41), 28], [datetime.datetime(2016, 3, 31, 12, 0), 0], [datetime.datetime(2016, 3, 31, 16, 0), 0], [datetime.datetime(2016, 3, 31, 20, 0), 203], [datetime.datetime(2016, 4, 1, 0, 0), 206], [datetime.datetime(2016, 4, 1, 4, 0), 11], [datetime.datetime(2016, 4, 1, 8, 0), 40], [datetime.datetime(2016, 4, 1, 12, 0), 4], [datetime.datetime(2016, 4, 1, 16, 0), 252], [datetime.datetime(2016, 4, 1, 20, 0), 694]]\n"
     ]
    }
   ],
   "source": [
    "def create_dict2(dict_list):\n",
    "    new_dict = collections.defaultdict(list)\n",
    "    for d in dict_list:\n",
    "        key = ( d['C/A'], d['UNIT'], d['SCP'], d['STATION'] )\n",
    "        dt = datetime.strptime(d['DATE'] + \" \" + d['TIME'],'%m/%d/%Y %H:%M:%S')\n",
    "        #dt = dateutil.parser.parse(d['DATE'] + \" \" + d['TIME'],'%m/%d/%Y %H:%M:%S')\n",
    "        value = [ dt, int(d['ENTRIES']) ]\n",
    "        new_dict[key].append(value) \n",
    "    for key in new_dict:\n",
    "        new_dict[key].sort(key=lambda ls: ls[0])\n",
    "        for i in range(len(new_dict[key])-1,0,-1):\n",
    "            new_dict[key][i][1] -= new_dict[key][i-1][1]\n",
    "        new_dict[key][0][1] = 0\n",
    "    return new_dict\n",
    "my_dict2 = create_dict2(dict_list)\n",
    "print first_key\n",
    "print my_dict2[first_key]"
   ]
  },
  {
   "cell_type": "markdown",
   "metadata": {
    "collapsed": true
   },
   "source": [
    "# Challenge 3"
   ]
  },
  {
   "cell_type": "code",
   "execution_count": 8,
   "metadata": {
    "collapsed": true
   },
   "outputs": [],
   "source": [
    "def create_dict3(dict2):\n",
    "    dict3 = collections.defaultdict(list)\n",
    "    for key in dict2:\n",
    "        l = []\n",
    "        hist = collections.defaultdict(int)\n",
    "        for item in dict2[key]:\n",
    "            d = item[0]\n",
    "            hist[str(d.date())] += item[1]\n",
    "        for k in hist:\n",
    "            l.append([dateutil.parser.parse(k),hist[k]])\n",
    "        dict3[key]=l\n",
    "        del(l)\n",
    "        del(hist)\n",
    "    return dict3        "
   ]
  },
  {
   "cell_type": "code",
   "execution_count": 9,
   "metadata": {
    "collapsed": false
   },
   "outputs": [
    {
     "name": "stdout",
     "output_type": "stream",
     "text": [
      "('A002', 'R051', '02-00-00', '59 ST')\n",
      "[[datetime.datetime(2016, 3, 26, 0, 0), 0], [datetime.datetime(2016, 3, 27, 0, 0), 0], [datetime.datetime(2016, 4, 1, 0, 0), 1207], [datetime.datetime(2016, 3, 31, 0, 0), 454], [datetime.datetime(2016, 3, 30, 0, 0), 1144], [datetime.datetime(2016, 3, 28, 0, 0), 945], [datetime.datetime(2016, 3, 29, 0, 0), 1144]]\n"
     ]
    }
   ],
   "source": [
    "my_dict3 = create_dict3(my_dict2)\n",
    "print first_key\n",
    "print my_dict3[first_key]"
   ]
  },
  {
   "cell_type": "markdown",
   "metadata": {
    "collapsed": true
   },
   "source": [
    "# Challenge 4"
   ]
  },
  {
   "cell_type": "code",
   "execution_count": 10,
   "metadata": {
    "collapsed": false
   },
   "outputs": [
    {
     "data": {
      "image/png": "[encoded data removed]",
      "text/plain": [
       "<matplotlib.figure.Figure at 0x7f0ec5b9b850>"
      ]
     },
     "metadata": {},
     "output_type": "display_data"
    }
   ],
   "source": [
    "%matplotlib inline\n",
    "dates_turnstile = []\n",
    "counts_turnstile = []\n",
    "for item in my_dict3[first_key]:\n",
    "    dates_turnstile.append(item[0])\n",
    "    counts_turnstile.append(item[1])\n",
    "plt.figure(figsize=(10,3))\n",
    "plt.plot(dates_turnstile,counts_turnstile,'bo')\n",
    "plt.show()"
   ]
  }
 ],
 "metadata": {
  "kernelspec": {
   "display_name": "Python 2",
   "language": "python",
   "name": "python2"
  },
  "language_info": {
   "codemirror_mode": {
    "name": "ipython",
    "version": 2
   },
   "file_extension": ".py",
   "mimetype": "text/x-python",
   "name": "python",
   "nbconvert_exporter": "python",
   "pygments_lexer": "ipython2",
   "version": "2.7.11"
  }
 },
 "nbformat": 4,
 "nbformat_minor": 0
}
