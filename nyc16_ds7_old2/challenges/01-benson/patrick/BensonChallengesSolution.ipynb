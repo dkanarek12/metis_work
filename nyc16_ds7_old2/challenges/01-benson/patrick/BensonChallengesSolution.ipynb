{
 "cells": [
  {
   "cell_type": "markdown",
   "metadata": {},
   "source": [
    "Challenge Set 1\n",
    "Topic:        Explore MTA turnstile data\n",
    "Date:         18/04/2016\n",
    "Name:         Patrick Nieto\n",
    "Worked with:  Ian, Lucia, Rachael"
   ]
  },
  {
   "cell_type": "code",
   "execution_count": 21,
   "metadata": {
    "collapsed": false
   },
   "outputs": [],
   "source": [
    "from __future__ import division\n",
    "import csv\n",
    "from datetime import datetime\n",
    "import dateutil.parser\n",
    "from collections import Counter\n",
    "from collections import defaultdict, OrderedDict\n",
    "import matplotlib.pyplot as plt\n",
    "import pandas as pd\n",
    "import numpy as np"
   ]
  },
  {
   "cell_type": "markdown",
   "metadata": {},
   "source": [
    "\n"
   ]
  },
  {
   "cell_type": "code",
   "execution_count": 2,
   "metadata": {
    "collapsed": false
   },
   "outputs": [
    {
     "name": "stdout",
     "output_type": "stream",
     "text": [
      "  % Total    % Received % Xferd  Average Speed   Time    Time     Time  Current\n",
      "                                 Dload  Upload   Total   Spent    Left  Speed\n",
      "100 24.0M    0 24.0M    0     0  1118k      0 --:--:--  0:00:22 --:--:-- 1375k\n"
     ]
    }
   ],
   "source": [
    "!curl -O http://web.mta.info/developers/data/nyct/turnstile/turnstile_150627.txt"
   ]
  },
  {
   "cell_type": "code",
   "execution_count": 3,
   "metadata": {
    "collapsed": false
   },
   "outputs": [],
   "source": [
    "with open('turnstile_150627.txt') as f:    #open the link to the data\n",
    "    reader = csv.reader(f)    #read in the data\n",
    "    rows = [[cell.strip() for cell in row] for row in reader]"
   ]
  },
  {
   "cell_type": "markdown",
   "metadata": {},
   "source": [
    "## Challenge 1"
   ]
  },
  {
   "cell_type": "code",
   "execution_count": 4,
   "metadata": {
    "collapsed": false
   },
   "outputs": [],
   "source": [
    "assert rows.pop(0) == ['C/A', 'UNIT', 'SCP', 'STATION', 'LINENAME',\n",
    "                       'DIVISION', 'DATE', 'TIME', 'DESC', 'ENTRIES',\n",
    "                       'EXITS']"
   ]
  },
  {
   "cell_type": "code",
   "execution_count": 5,
   "metadata": {
    "collapsed": false
   },
   "outputs": [],
   "source": [
    "raw_readings = {}    #an empty dictionary\n",
    "for row in rows:    #loop over the elements in the list rows\n",
    "    raw_readings.setdefault(tuple(row[:4]), []).append(tuple(row[4:]))    #loop over the rows, add new keys to the dictionary \n",
    "                                            #when the row info is not already present, append to existing data when it is"
   ]
  },
  {
   "cell_type": "code",
   "execution_count": 6,
   "metadata": {
    "collapsed": false
   },
   "outputs": [
    {
     "data": {
      "text/plain": [
       "dict"
      ]
     },
     "execution_count": 6,
     "metadata": {},
     "output_type": "execute_result"
    }
   ],
   "source": [
    "type(raw_readings)"
   ]
  },
  {
   "cell_type": "code",
   "execution_count": 7,
   "metadata": {
    "collapsed": false
   },
   "outputs": [
    {
     "name": "stdout",
     "output_type": "stream",
     "text": [
      "('JMZ', 'BMT', '06/20/2015', '01:00:00', 'REGULAR', '0007012983', '0001986648')\n"
     ]
    }
   ],
   "source": [
    "practice = raw_readings[('J001', 'R460', '01-00-01', 'MARCY AVE')][0]\n",
    "print(practice)"
   ]
  },
  {
   "cell_type": "code",
   "execution_count": 8,
   "metadata": {
    "collapsed": false
   },
   "outputs": [
    {
     "data": {
      "text/plain": [
       "tuple"
      ]
     },
     "execution_count": 8,
     "metadata": {},
     "output_type": "execute_result"
    }
   ],
   "source": [
    "type(practice)"
   ]
  },
  {
   "cell_type": "markdown",
   "metadata": {},
   "source": [
    "## Challenge 2\n"
   ]
  },
  {
   "cell_type": "code",
   "execution_count": 7,
   "metadata": {
    "collapsed": false,
    "scrolled": true
   },
   "outputs": [],
   "source": [
    "cumulative_entries = defaultdict(list)\n",
    "for key, value in raw_readings.items():\n",
    "    for v in value:\n",
    "        #date = v[2]\n",
    "        #time = v[3]\n",
    "        datetime = dateutil.parser.parse(str(v[2]) + ' ' + str(v[3]))\n",
    "        updated_value = [datetime, v[5]]\n",
    "        cumulative_entries[key].append(updated_value)"
   ]
  },
  {
   "cell_type": "code",
   "execution_count": 9,
   "metadata": {
    "collapsed": false
   },
   "outputs": [
    {
     "data": {
      "text/plain": [
       "[[datetime.datetime(2015, 6, 20, 1, 0), '0007012983'],\n",
       " [datetime.datetime(2015, 6, 20, 5, 0), '0007013013'],\n",
       " [datetime.datetime(2015, 6, 20, 9, 0), '0007013088']]"
      ]
     },
     "execution_count": 9,
     "metadata": {},
     "output_type": "execute_result"
    }
   ],
   "source": [
    "cumulative_entries[('J001', 'R460', '01-00-01', 'MARCY AVE')][:3]"
   ]
  },
  {
   "cell_type": "markdown",
   "metadata": {},
   "source": [
    "## Challenge 3"
   ]
  },
  {
   "cell_type": "code",
   "execution_count": 10,
   "metadata": {
    "collapsed": false
   },
   "outputs": [],
   "source": [
    "diffsDict = defaultdict(list)\n",
    "for key, rows in cumulative_entries.items():\n",
    "    rows.sort(key = lambda x: x[0])\n",
    "    for i in range(len(rows)-1):\n",
    "        diffsDict[key].append([rows[i][0], int(rows[i+1][1])-int(rows[i][1])])"
   ]
  },
  {
   "cell_type": "code",
   "execution_count": 11,
   "metadata": {
    "collapsed": false
   },
   "outputs": [
    {
     "data": {
      "text/plain": [
       "[[datetime.datetime(2015, 6, 20, 1, 0), 30],\n",
       " [datetime.datetime(2015, 6, 20, 5, 0), 75],\n",
       " [datetime.datetime(2015, 6, 20, 9, 0), 182]]"
      ]
     },
     "execution_count": 11,
     "metadata": {},
     "output_type": "execute_result"
    }
   ],
   "source": [
    "diffsDict[('J001', 'R460', '01-00-01', 'MARCY AVE')][:3]"
   ]
  },
  {
   "cell_type": "code",
   "execution_count": 74,
   "metadata": {
    "collapsed": false
   },
   "outputs": [
    {
     "data": {
      "text/plain": [
       "collections.defaultdict"
      ]
     },
     "execution_count": 74,
     "metadata": {},
     "output_type": "execute_result"
    }
   ],
   "source": [
    "type(diffsDict)"
   ]
  },
  {
   "cell_type": "code",
   "execution_count": 75,
   "metadata": {
    "collapsed": false,
    "scrolled": true
   },
   "outputs": [
    {
     "name": "stdout",
     "output_type": "stream",
     "text": [
      "[datetime.datetime(2015, 6, 20, 1, 0), 30]\n"
     ]
    }
   ],
   "source": [
    "practice2 = diffsDict[('J001', 'R460', '01-00-01', 'MARCY AVE')][0]\n",
    "print(practice2)"
   ]
  },
  {
   "cell_type": "code",
   "execution_count": null,
   "metadata": {
    "collapsed": false
   },
   "outputs": [],
   "source": []
  },
  {
   "cell_type": "code",
   "execution_count": 12,
   "metadata": {
    "collapsed": false
   },
   "outputs": [],
   "source": [
    "dailyCounts = defaultdict(list)\n",
    "\n",
    "for key, rows in diffsDict.items():\n",
    "    by_day = {}\n",
    "    for time in rows:\n",
    "        day = time[0].date()\n",
    "        if time[1] < 0:\n",
    "            time[1] = 0\n",
    "        by_day[day] = by_day.get(day, 0) + time[1]\n",
    "    dailyCounts[key] = sorted(by_day.items())"
   ]
  },
  {
   "cell_type": "code",
   "execution_count": 96,
   "metadata": {
    "collapsed": false
   },
   "outputs": [
    {
     "name": "stdout",
     "output_type": "stream",
     "text": [
      "<class 'collections.defaultdict'>\n"
     ]
    },
    {
     "data": {
      "text/plain": [
       "[(datetime.date(2015, 6, 20), 685),\n",
       " (datetime.date(2015, 6, 21), 618),\n",
       " (datetime.date(2015, 6, 22), 1638),\n",
       " (datetime.date(2015, 6, 23), 1591),\n",
       " (datetime.date(2015, 6, 24), 1626),\n",
       " (datetime.date(2015, 6, 25), 1648),\n",
       " (datetime.date(2015, 6, 26), 1414)]"
      ]
     },
     "execution_count": 96,
     "metadata": {},
     "output_type": "execute_result"
    }
   ],
   "source": [
    "print(type(dailyCounts))\n",
    "      \n",
    "practice3 = dailyCounts[('J001', 'R460', '01-00-01', 'MARCY AVE')]\n",
    "practice3"
   ]
  },
  {
   "cell_type": "markdown",
   "metadata": {
    "collapsed": false
   },
   "source": [
    "## Challenge 4"
   ]
  },
  {
   "cell_type": "code",
   "execution_count": null,
   "metadata": {
    "collapsed": false
   },
   "outputs": [],
   "source": []
  },
  {
   "cell_type": "code",
   "execution_count": null,
   "metadata": {
    "collapsed": false
   },
   "outputs": [],
   "source": []
  },
  {
   "cell_type": "code",
   "execution_count": 15,
   "metadata": {
    "collapsed": true
   },
   "outputs": [],
   "source": [
    "%matplotlib inline"
   ]
  },
  {
   "cell_type": "code",
   "execution_count": 79,
   "metadata": {
    "collapsed": false
   },
   "outputs": [
    {
     "data": {
      "text/plain": [
       "collections.defaultdict"
      ]
     },
     "execution_count": 79,
     "metadata": {},
     "output_type": "execute_result"
    }
   ],
   "source": [
    "type(dailyCounts)"
   ]
  },
  {
   "cell_type": "code",
   "execution_count": 64,
   "metadata": {
    "collapsed": false
   },
   "outputs": [
    {
     "data": {
      "text/plain": [
       "<matplotlib.text.Text at 0x7fa92052cb38>"
      ]
     },
     "execution_count": 64,
     "metadata": {},
     "output_type": "execute_result"
    },
    {
     "data": {
      "image/png": "[encoded data removed]",
      "text/plain": [
       "<matplotlib.figure.Figure at 0x7fa92059d9b0>"
      ]
     },
     "metadata": {},
     "output_type": "display_data"
    }
   ],
   "source": [
    "counts = []\n",
    "dates = []\n",
    "for date, count in dailyCounts[('J001', 'R460', '01-00-01', 'MARCY AVE')]:\n",
    "    counts.append(count)\n",
    "    dates.append(date)\n",
    "\n",
    "plt.figure(figsize=(10,3))\n",
    "plt.plot(dates,counts)\n",
    "plt.title('Daily Entry Count for Single Turnstile at MARCY AVE')\n",
    "plt.ylabel('Number of Entries')\n",
    "    "
   ]
  },
  {
   "cell_type": "markdown",
   "metadata": {
    "collapsed": false
   },
   "source": [
    "## Challenge 5"
   ]
  },
  {
   "cell_type": "code",
   "execution_count": 25,
   "metadata": {
    "collapsed": false,
    "scrolled": true
   },
   "outputs": [
    {
     "data": {
      "text/plain": [
       "OrderedDict([(datetime.date(2015, 6, 20), 4881),\n",
       "             (datetime.date(2015, 6, 21), 4092),\n",
       "             (datetime.date(2015, 6, 22), 9876),\n",
       "             (datetime.date(2015, 6, 23), 10123),\n",
       "             (datetime.date(2015, 6, 24), 10515),\n",
       "             (datetime.date(2015, 6, 25), 10569),\n",
       "             (datetime.date(2015, 6, 26), 9101)])"
      ]
     },
     "execution_count": 25,
     "metadata": {},
     "output_type": "execute_result"
    }
   ],
   "source": [
    "dailyTurnstileCounts = defaultdict(dict)\n",
    "\n",
    "# Create a dictionary that changes key from previous dictionary to not include C/A\n",
    "for stationInfo, values in dailyCounts.items():\n",
    "    unique = (stationInfo[0],stationInfo[1],stationInfo[3])\n",
    "    if unique in dailyTurnstileCounts:\n",
    "        existing_data = dailyTurnstileCounts.get(unique)\n",
    "        for day in values:\n",
    "            existing_data[day[0]] = existing_data.get(day[0], 0) + day[1]\n",
    "    else:\n",
    "        temp = OrderedDict()\n",
    "        for day in sorted(values):\n",
    "            temp[day[0]] = day[1]\n",
    "        dailyTurnstileCounts[unique] = temp\n",
    "\n",
    "dailyTurnstileCounts[('J001', 'R460', 'MARCY AVE')]"
   ]
  },
  {
   "cell_type": "markdown",
   "metadata": {},
   "source": [
    "## Challenge 6"
   ]
  },
  {
   "cell_type": "code",
   "execution_count": 102,
   "metadata": {
    "collapsed": false
   },
   "outputs": [
    {
     "data": {
      "text/plain": [
       "OrderedDict([(datetime.date(2015, 6, 20), 7566),\n",
       "             (datetime.date(2015, 6, 21), 6847),\n",
       "             (datetime.date(2015, 6, 22), 14236),\n",
       "             (datetime.date(2015, 6, 23), 14356),\n",
       "             (datetime.date(2015, 6, 24), 15026),\n",
       "             (datetime.date(2015, 6, 25), 14860),\n",
       "             (datetime.date(2015, 6, 26), 12716)])"
      ]
     },
     "execution_count": 102,
     "metadata": {},
     "output_type": "execute_result"
    }
   ],
   "source": [
    "dailyStationCounts = defaultdict(dict)\n",
    "\n",
    "# Create a dictionary that changes key from previous dictionary to not include C/A\n",
    "for stationInfo, values in dailyCounts.items():\n",
    "    stationName = stationInfo[3]\n",
    "    if stationName in dailyStationCounts:\n",
    "        data = dailyStationCounts.get(stationName)\n",
    "        for day in values:\n",
    "            data[day[0]] = data.get(day[0], 0) + day[1]\n",
    "    else:\n",
    "        temp = OrderedDict()\n",
    "        for day in sorted(values):\n",
    "            temp[day[0]] = day[1]\n",
    "        dailyStationCounts[stationName] = temp\n",
    "\n",
    "dailyStationCounts['MARCY AVE']"
   ]
  },
  {
   "cell_type": "code",
   "execution_count": null,
   "metadata": {
    "collapsed": false
   },
   "outputs": [],
   "source": []
  },
  {
   "cell_type": "markdown",
   "metadata": {},
   "source": [
    "## Challenge 7"
   ]
  },
  {
   "cell_type": "code",
   "execution_count": null,
   "metadata": {
    "collapsed": false
   },
   "outputs": [],
   "source": [
    "counts = []\n",
    "dates = []\n",
    "for date, count in dailyStationCounts[('MARCY AVE')]:\n",
    "    counts.append(count)\n",
    "    dates.append(date)\n",
    "\n",
    "\n",
    "plt.figure(figsize=(10,3))\n",
    "plt.plot(dates,counts)\n",
    "plt.title('Daily Entry Count at MARCY AVE')\n",
    "plt.ylabel('Number of Entries')"
   ]
  },
  {
   "cell_type": "markdown",
   "metadata": {
    "collapsed": false
   },
   "source": [
    "## Challenge 8"
   ]
  },
  {
   "cell_type": "code",
   "execution_count": null,
   "metadata": {
    "collapsed": false
   },
   "outputs": [],
   "source": []
  },
  {
   "cell_type": "code",
   "execution_count": null,
   "metadata": {
    "collapsed": false
   },
   "outputs": [],
   "source": []
  },
  {
   "cell_type": "code",
   "execution_count": null,
   "metadata": {
    "collapsed": false
   },
   "outputs": [],
   "source": []
  },
  {
   "cell_type": "code",
   "execution_count": null,
   "metadata": {
    "collapsed": true
   },
   "outputs": [],
   "source": []
  }
 ],
 "metadata": {
  "kernelspec": {
   "display_name": "Python 3",
   "language": "python",
   "name": "python3"
  },
  "language_info": {
   "codemirror_mode": {
    "name": "ipython",
    "version": 3
   },
   "file_extension": ".py",
   "mimetype": "text/x-python",
   "name": "python",
   "nbconvert_exporter": "python",
   "pygments_lexer": "ipython3",
   "version": "3.5.1"
  }
 },
 "nbformat": 4,
 "nbformat_minor": 0
}
