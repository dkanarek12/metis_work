{
 "cells": [
  {
   "cell_type": "markdown",
   "metadata": {},
   "source": [
    "#### Challenge 4\n",
    "\n",
    "We will plot the daily time series for a turnstile.\n",
    "\n",
    "In ipython notebook, add this to the beginning of your next cell:\n",
    "\n",
    "    %matplotlib inline\n",
    "\n",
    "This will make your matplotlib graphs integrate nicely with the\n",
    "notebook. To plot the time series, import matplotlib with\n",
    "\n",
    "    import matplotlib.pyplot as plt\n",
    "\n",
    "Take the list of [(date1, count1), (date2, count2), ...], for the\n",
    "turnstile and turn it into two lists:\n",
    "dates and counts. This should plot it:\n",
    "\n",
    "    plt.figure(figsize=(10,3))\n",
    "    plt.plot(dates,counts)"
   ]
  },
  {
   "cell_type": "code",
   "execution_count": 22,
   "metadata": {
    "collapsed": false
   },
   "outputs": [],
   "source": [
    "%matplotlib inline\n",
    "import matplotlib.pyplot as plt\n",
    "import pickle\n",
    "import pandas as pd"
   ]
  },
  {
   "cell_type": "code",
   "execution_count": 23,
   "metadata": {
    "collapsed": false
   },
   "outputs": [
    {
     "data": {
      "text/html": [
       "<div>\n",
       "<table border=\"1\" class=\"dataframe\">\n",
       "  <thead>\n",
       "    <tr style=\"text-align: right;\">\n",
       "      <th></th>\n",
       "      <th></th>\n",
       "      <th></th>\n",
       "      <th></th>\n",
       "      <th></th>\n",
       "      <th>ENTRIES_DIFF</th>\n",
       "      <th>EXITS_DIFF</th>\n",
       "      <th>TOTAL_DIFF</th>\n",
       "    </tr>\n",
       "    <tr>\n",
       "      <th>C/A</th>\n",
       "      <th>UNIT</th>\n",
       "      <th>SCP</th>\n",
       "      <th>STATION</th>\n",
       "      <th>DATE</th>\n",
       "      <th></th>\n",
       "      <th></th>\n",
       "      <th></th>\n",
       "    </tr>\n",
       "  </thead>\n",
       "  <tbody>\n",
       "    <tr>\n",
       "      <th rowspan=\"3\" valign=\"top\">A002</th>\n",
       "      <th rowspan=\"3\" valign=\"top\">R051</th>\n",
       "      <th rowspan=\"3\" valign=\"top\">02-00-00</th>\n",
       "      <th rowspan=\"3\" valign=\"top\">59 ST</th>\n",
       "      <th>03/26/2016</th>\n",
       "      <td>0.0</td>\n",
       "      <td>5.0</td>\n",
       "      <td>5.0</td>\n",
       "    </tr>\n",
       "    <tr>\n",
       "      <th>03/27/2016</th>\n",
       "      <td>0.0</td>\n",
       "      <td>0.0</td>\n",
       "      <td>0.0</td>\n",
       "    </tr>\n",
       "    <tr>\n",
       "      <th>03/28/2016</th>\n",
       "      <td>945.0</td>\n",
       "      <td>652.0</td>\n",
       "      <td>1597.0</td>\n",
       "    </tr>\n",
       "  </tbody>\n",
       "</table>\n",
       "</div>"
      ],
      "text/plain": [
       "                                       ENTRIES_DIFF  EXITS_DIFF  TOTAL_DIFF\n",
       "C/A  UNIT SCP      STATION DATE                                            \n",
       "A002 R051 02-00-00 59 ST   03/26/2016           0.0         5.0         5.0\n",
       "                           03/27/2016           0.0         0.0         0.0\n",
       "                           03/28/2016         945.0       652.0      1597.0"
      ]
     },
     "execution_count": 23,
     "metadata": {},
     "output_type": "execute_result"
    }
   ],
   "source": [
    "df_daily = pd.read_pickle('df_daily.pickle')\n",
    "df_daily.head(3)"
   ]
  },
  {
   "cell_type": "code",
   "execution_count": 24,
   "metadata": {
    "collapsed": false
   },
   "outputs": [
    {
     "data": {
      "text/html": [
       "<div>\n",
       "<table border=\"1\" class=\"dataframe\">\n",
       "  <thead>\n",
       "    <tr style=\"text-align: right;\">\n",
       "      <th></th>\n",
       "      <th>DATE</th>\n",
       "      <th>ENTRIES_DIFF</th>\n",
       "      <th>EXITS_DIFF</th>\n",
       "      <th>TOTAL_DIFF</th>\n",
       "    </tr>\n",
       "  </thead>\n",
       "  <tbody>\n",
       "    <tr>\n",
       "      <th>0</th>\n",
       "      <td>2016-03-26</td>\n",
       "      <td>0.0</td>\n",
       "      <td>5.0</td>\n",
       "      <td>5.0</td>\n",
       "    </tr>\n",
       "    <tr>\n",
       "      <th>1</th>\n",
       "      <td>2016-03-27</td>\n",
       "      <td>0.0</td>\n",
       "      <td>0.0</td>\n",
       "      <td>0.0</td>\n",
       "    </tr>\n",
       "    <tr>\n",
       "      <th>2</th>\n",
       "      <td>2016-03-28</td>\n",
       "      <td>945.0</td>\n",
       "      <td>652.0</td>\n",
       "      <td>1597.0</td>\n",
       "    </tr>\n",
       "    <tr>\n",
       "      <th>3</th>\n",
       "      <td>2016-03-29</td>\n",
       "      <td>1144.0</td>\n",
       "      <td>875.0</td>\n",
       "      <td>2019.0</td>\n",
       "    </tr>\n",
       "    <tr>\n",
       "      <th>4</th>\n",
       "      <td>2016-03-30</td>\n",
       "      <td>1144.0</td>\n",
       "      <td>848.0</td>\n",
       "      <td>1992.0</td>\n",
       "    </tr>\n",
       "    <tr>\n",
       "      <th>5</th>\n",
       "      <td>2016-03-31</td>\n",
       "      <td>454.0</td>\n",
       "      <td>318.0</td>\n",
       "      <td>772.0</td>\n",
       "    </tr>\n",
       "    <tr>\n",
       "      <th>6</th>\n",
       "      <td>2016-04-01</td>\n",
       "      <td>1207.0</td>\n",
       "      <td>284.0</td>\n",
       "      <td>1491.0</td>\n",
       "    </tr>\n",
       "  </tbody>\n",
       "</table>\n",
       "</div>"
      ],
      "text/plain": [
       "        DATE  ENTRIES_DIFF  EXITS_DIFF  TOTAL_DIFF\n",
       "0 2016-03-26           0.0         5.0         5.0\n",
       "1 2016-03-27           0.0         0.0         0.0\n",
       "2 2016-03-28         945.0       652.0      1597.0\n",
       "3 2016-03-29        1144.0       875.0      2019.0\n",
       "4 2016-03-30        1144.0       848.0      1992.0\n",
       "5 2016-03-31         454.0       318.0       772.0\n",
       "6 2016-04-01        1207.0       284.0      1491.0"
      ]
     },
     "execution_count": 24,
     "metadata": {},
     "output_type": "execute_result"
    }
   ],
   "source": [
    "# filter for a turnstile\n",
    "\n",
    "df_turnstile = df_daily.ix['A002']\n",
    "df_turnstile = df_turnstile.ix['R051']\n",
    "df_turnstile = df_turnstile.ix['02-00-00']\n",
    "df_turnstile = df_turnstile.ix['59 ST']\n",
    "df_turnstile = df_turnstile.reset_index()\n",
    "df_turnstile['DATE'] = pd.to_datetime(df_turnstile['DATE'], format='%m/%d/%Y')\n",
    "df_turnstile"
   ]
  },
  {
   "cell_type": "code",
   "execution_count": 25,
   "metadata": {
    "collapsed": false
   },
   "outputs": [
    {
     "data": {
      "text/plain": [
       "[Timestamp('2016-03-26 00:00:00'),\n",
       " Timestamp('2016-03-27 00:00:00'),\n",
       " Timestamp('2016-03-28 00:00:00'),\n",
       " Timestamp('2016-03-29 00:00:00'),\n",
       " Timestamp('2016-03-30 00:00:00'),\n",
       " Timestamp('2016-03-31 00:00:00'),\n",
       " Timestamp('2016-04-01 00:00:00')]"
      ]
     },
     "execution_count": 25,
     "metadata": {},
     "output_type": "execute_result"
    }
   ],
   "source": [
    "dates = df_turnstile['DATE'].tolist()\n",
    "dates"
   ]
  },
  {
   "cell_type": "code",
   "execution_count": 26,
   "metadata": {
    "collapsed": false
   },
   "outputs": [
    {
     "data": {
      "text/plain": [
       "[5.0, 0.0, 1597.0, 2019.0, 1992.0, 772.0, 1491.0]"
      ]
     },
     "execution_count": 26,
     "metadata": {},
     "output_type": "execute_result"
    }
   ],
   "source": [
    "counts = df_turnstile['TOTAL_DIFF'].tolist()\n",
    "counts"
   ]
  },
  {
   "cell_type": "code",
   "execution_count": 27,
   "metadata": {
    "collapsed": false
   },
   "outputs": [
    {
     "data": {
      "text/plain": [
       "[<matplotlib.lines.Line2D at 0x10f6eced0>]"
      ]
     },
     "execution_count": 27,
     "metadata": {},
     "output_type": "execute_result"
    },
    {
     "data": {
      "image/png": "[encoded data removed]",
      "text/plain": [
       "<matplotlib.figure.Figure at 0x10f6b0110>"
      ]
     },
     "metadata": {},
     "output_type": "display_data"
    }
   ],
   "source": [
    "plt.figure(figsize=(10,3))\n",
    "plt.plot(dates,counts)"
   ]
  },
  {
   "cell_type": "markdown",
   "metadata": {
    "collapsed": true
   },
   "source": [
    "#### Challenge 5\n",
    "\n",
    "So far we've been operating on a single turnstile level, let's combine turnstiles in the same ControlArea/Unit/Station combo. There are some ControlArea/Unit/Station groups that have a single turnstile, but most have multiple turnstilea-- same value for the C/A, UNIT and STATION columns, different values for the SCP column.\n",
    "\n",
    "We want to combine the numbers together -- for each\n",
    "ControlArea/UNIT/STATION combo, for each day, add the counts from each turnstile belonging to that combo."
   ]
  },
  {
   "cell_type": "code",
   "execution_count": 28,
   "metadata": {
    "collapsed": false
   },
   "outputs": [
    {
     "data": {
      "text/html": [
       "<div>\n",
       "<table border=\"1\" class=\"dataframe\">\n",
       "  <thead>\n",
       "    <tr style=\"text-align: right;\">\n",
       "      <th></th>\n",
       "      <th>C/A</th>\n",
       "      <th>UNIT</th>\n",
       "      <th>STATION</th>\n",
       "      <th>DATE</th>\n",
       "      <th>ENTRIES_DIFF</th>\n",
       "      <th>EXITS_DIFF</th>\n",
       "      <th>TOTAL_DIFF</th>\n",
       "    </tr>\n",
       "  </thead>\n",
       "  <tbody>\n",
       "    <tr>\n",
       "      <th>0</th>\n",
       "      <td>A002</td>\n",
       "      <td>R051</td>\n",
       "      <td>59 ST</td>\n",
       "      <td>03/26/2016</td>\n",
       "      <td>0.0</td>\n",
       "      <td>5.0</td>\n",
       "      <td>5.0</td>\n",
       "    </tr>\n",
       "    <tr>\n",
       "      <th>1</th>\n",
       "      <td>A002</td>\n",
       "      <td>R051</td>\n",
       "      <td>59 ST</td>\n",
       "      <td>03/27/2016</td>\n",
       "      <td>0.0</td>\n",
       "      <td>0.0</td>\n",
       "      <td>0.0</td>\n",
       "    </tr>\n",
       "    <tr>\n",
       "      <th>2</th>\n",
       "      <td>A002</td>\n",
       "      <td>R051</td>\n",
       "      <td>59 ST</td>\n",
       "      <td>03/28/2016</td>\n",
       "      <td>945.0</td>\n",
       "      <td>652.0</td>\n",
       "      <td>1597.0</td>\n",
       "    </tr>\n",
       "    <tr>\n",
       "      <th>3</th>\n",
       "      <td>A002</td>\n",
       "      <td>R051</td>\n",
       "      <td>59 ST</td>\n",
       "      <td>03/29/2016</td>\n",
       "      <td>1144.0</td>\n",
       "      <td>875.0</td>\n",
       "      <td>2019.0</td>\n",
       "    </tr>\n",
       "    <tr>\n",
       "      <th>4</th>\n",
       "      <td>A002</td>\n",
       "      <td>R051</td>\n",
       "      <td>59 ST</td>\n",
       "      <td>03/30/2016</td>\n",
       "      <td>1144.0</td>\n",
       "      <td>848.0</td>\n",
       "      <td>1992.0</td>\n",
       "    </tr>\n",
       "  </tbody>\n",
       "</table>\n",
       "</div>"
      ],
      "text/plain": [
       "    C/A  UNIT STATION        DATE  ENTRIES_DIFF  EXITS_DIFF  TOTAL_DIFF\n",
       "0  A002  R051   59 ST  03/26/2016           0.0         5.0         5.0\n",
       "1  A002  R051   59 ST  03/27/2016           0.0         0.0         0.0\n",
       "2  A002  R051   59 ST  03/28/2016         945.0       652.0      1597.0\n",
       "3  A002  R051   59 ST  03/29/2016        1144.0       875.0      2019.0\n",
       "4  A002  R051   59 ST  03/30/2016        1144.0       848.0      1992.0"
      ]
     },
     "execution_count": 28,
     "metadata": {},
     "output_type": "execute_result"
    }
   ],
   "source": [
    "df_daily = df_daily.reset_index()\n",
    "df_daily.drop('SCP', axis=1, inplace=True)\n",
    "df_daily.head()"
   ]
  },
  {
   "cell_type": "code",
   "execution_count": 29,
   "metadata": {
    "collapsed": false
   },
   "outputs": [
    {
     "data": {
      "text/html": [
       "<div>\n",
       "<table border=\"1\" class=\"dataframe\">\n",
       "  <thead>\n",
       "    <tr style=\"text-align: right;\">\n",
       "      <th></th>\n",
       "      <th></th>\n",
       "      <th></th>\n",
       "      <th></th>\n",
       "      <th>ENTRIES_DIFF</th>\n",
       "      <th>EXITS_DIFF</th>\n",
       "      <th>TOTAL_DIFF</th>\n",
       "    </tr>\n",
       "    <tr>\n",
       "      <th>C/A</th>\n",
       "      <th>UNIT</th>\n",
       "      <th>STATION</th>\n",
       "      <th>DATE</th>\n",
       "      <th></th>\n",
       "      <th></th>\n",
       "      <th></th>\n",
       "    </tr>\n",
       "  </thead>\n",
       "  <tbody>\n",
       "    <tr>\n",
       "      <th rowspan=\"5\" valign=\"top\">A002</th>\n",
       "      <th rowspan=\"5\" valign=\"top\">R051</th>\n",
       "      <th rowspan=\"5\" valign=\"top\">59 ST</th>\n",
       "      <th>03/26/2016</th>\n",
       "      <td>1664.0</td>\n",
       "      <td>231.0</td>\n",
       "      <td>1895.0</td>\n",
       "    </tr>\n",
       "    <tr>\n",
       "      <th>03/27/2016</th>\n",
       "      <td>1740.0</td>\n",
       "      <td>276.0</td>\n",
       "      <td>2016.0</td>\n",
       "    </tr>\n",
       "    <tr>\n",
       "      <th>03/28/2016</th>\n",
       "      <td>12991.0</td>\n",
       "      <td>9259.0</td>\n",
       "      <td>22250.0</td>\n",
       "    </tr>\n",
       "    <tr>\n",
       "      <th>03/29/2016</th>\n",
       "      <td>16493.0</td>\n",
       "      <td>10725.0</td>\n",
       "      <td>27218.0</td>\n",
       "    </tr>\n",
       "    <tr>\n",
       "      <th>03/30/2016</th>\n",
       "      <td>16662.0</td>\n",
       "      <td>10930.0</td>\n",
       "      <td>27592.0</td>\n",
       "    </tr>\n",
       "  </tbody>\n",
       "</table>\n",
       "</div>"
      ],
      "text/plain": [
       "                              ENTRIES_DIFF  EXITS_DIFF  TOTAL_DIFF\n",
       "C/A  UNIT STATION DATE                                            \n",
       "A002 R051 59 ST   03/26/2016        1664.0       231.0      1895.0\n",
       "                  03/27/2016        1740.0       276.0      2016.0\n",
       "                  03/28/2016       12991.0      9259.0     22250.0\n",
       "                  03/29/2016       16493.0     10725.0     27218.0\n",
       "                  03/30/2016       16662.0     10930.0     27592.0"
      ]
     },
     "execution_count": 29,
     "metadata": {},
     "output_type": "execute_result"
    }
   ],
   "source": [
    "df_daily = df_daily.groupby(['C/A', 'UNIT','STATION','DATE']).sum()\n",
    "df_daily.head()"
   ]
  },
  {
   "cell_type": "markdown",
   "metadata": {},
   "source": [
    "#### Challenge 6\n",
    "\n",
    "Similarly, combine everything in each station, and come up with a time\n",
    "series of `[(date1, count1),(date2,count2),...]` type of time series\n",
    "for each STATION, by adding up all the turnstiles in a station."
   ]
  },
  {
   "cell_type": "code",
   "execution_count": 30,
   "metadata": {
    "collapsed": false
   },
   "outputs": [
    {
     "data": {
      "text/html": [
       "<div>\n",
       "<table border=\"1\" class=\"dataframe\">\n",
       "  <thead>\n",
       "    <tr style=\"text-align: right;\">\n",
       "      <th></th>\n",
       "      <th>C/A</th>\n",
       "      <th>UNIT</th>\n",
       "      <th>STATION</th>\n",
       "      <th>DATE</th>\n",
       "      <th>ENTRIES_DIFF</th>\n",
       "      <th>EXITS_DIFF</th>\n",
       "      <th>TOTAL_DIFF</th>\n",
       "    </tr>\n",
       "  </thead>\n",
       "  <tbody>\n",
       "    <tr>\n",
       "      <th>0</th>\n",
       "      <td>A002</td>\n",
       "      <td>R051</td>\n",
       "      <td>59 ST</td>\n",
       "      <td>03/26/2016</td>\n",
       "      <td>1664.0</td>\n",
       "      <td>231.0</td>\n",
       "      <td>1895.0</td>\n",
       "    </tr>\n",
       "    <tr>\n",
       "      <th>1</th>\n",
       "      <td>A002</td>\n",
       "      <td>R051</td>\n",
       "      <td>59 ST</td>\n",
       "      <td>03/27/2016</td>\n",
       "      <td>1740.0</td>\n",
       "      <td>276.0</td>\n",
       "      <td>2016.0</td>\n",
       "    </tr>\n",
       "    <tr>\n",
       "      <th>2</th>\n",
       "      <td>A002</td>\n",
       "      <td>R051</td>\n",
       "      <td>59 ST</td>\n",
       "      <td>03/28/2016</td>\n",
       "      <td>12991.0</td>\n",
       "      <td>9259.0</td>\n",
       "      <td>22250.0</td>\n",
       "    </tr>\n",
       "    <tr>\n",
       "      <th>3</th>\n",
       "      <td>A002</td>\n",
       "      <td>R051</td>\n",
       "      <td>59 ST</td>\n",
       "      <td>03/29/2016</td>\n",
       "      <td>16493.0</td>\n",
       "      <td>10725.0</td>\n",
       "      <td>27218.0</td>\n",
       "    </tr>\n",
       "    <tr>\n",
       "      <th>4</th>\n",
       "      <td>A002</td>\n",
       "      <td>R051</td>\n",
       "      <td>59 ST</td>\n",
       "      <td>03/30/2016</td>\n",
       "      <td>16662.0</td>\n",
       "      <td>10930.0</td>\n",
       "      <td>27592.0</td>\n",
       "    </tr>\n",
       "  </tbody>\n",
       "</table>\n",
       "</div>"
      ],
      "text/plain": [
       "    C/A  UNIT STATION        DATE  ENTRIES_DIFF  EXITS_DIFF  TOTAL_DIFF\n",
       "0  A002  R051   59 ST  03/26/2016        1664.0       231.0      1895.0\n",
       "1  A002  R051   59 ST  03/27/2016        1740.0       276.0      2016.0\n",
       "2  A002  R051   59 ST  03/28/2016       12991.0      9259.0     22250.0\n",
       "3  A002  R051   59 ST  03/29/2016       16493.0     10725.0     27218.0\n",
       "4  A002  R051   59 ST  03/30/2016       16662.0     10930.0     27592.0"
      ]
     },
     "execution_count": 30,
     "metadata": {},
     "output_type": "execute_result"
    }
   ],
   "source": [
    "df_daily = df_daily.reset_index()\n",
    "df_daily.head()"
   ]
  },
  {
   "cell_type": "code",
   "execution_count": 31,
   "metadata": {
    "collapsed": false
   },
   "outputs": [
    {
     "data": {
      "text/html": [
       "<div>\n",
       "<table border=\"1\" class=\"dataframe\">\n",
       "  <thead>\n",
       "    <tr style=\"text-align: right;\">\n",
       "      <th></th>\n",
       "      <th></th>\n",
       "      <th>ENTRIES_DIFF</th>\n",
       "      <th>EXITS_DIFF</th>\n",
       "      <th>TOTAL_DIFF</th>\n",
       "    </tr>\n",
       "    <tr>\n",
       "      <th>STATION</th>\n",
       "      <th>DATE</th>\n",
       "      <th></th>\n",
       "      <th></th>\n",
       "      <th></th>\n",
       "    </tr>\n",
       "  </thead>\n",
       "  <tbody>\n",
       "    <tr>\n",
       "      <th rowspan=\"5\" valign=\"top\">1 AV</th>\n",
       "      <th>03/26/2016</th>\n",
       "      <td>14379.0</td>\n",
       "      <td>12567.0</td>\n",
       "      <td>26946.0</td>\n",
       "    </tr>\n",
       "    <tr>\n",
       "      <th>03/27/2016</th>\n",
       "      <td>15238.0</td>\n",
       "      <td>13530.0</td>\n",
       "      <td>28768.0</td>\n",
       "    </tr>\n",
       "    <tr>\n",
       "      <th>03/28/2016</th>\n",
       "      <td>21823.0</td>\n",
       "      <td>18583.0</td>\n",
       "      <td>40406.0</td>\n",
       "    </tr>\n",
       "    <tr>\n",
       "      <th>03/29/2016</th>\n",
       "      <td>23909.0</td>\n",
       "      <td>19799.0</td>\n",
       "      <td>43708.0</td>\n",
       "    </tr>\n",
       "    <tr>\n",
       "      <th>03/30/2016</th>\n",
       "      <td>24490.0</td>\n",
       "      <td>20575.0</td>\n",
       "      <td>45065.0</td>\n",
       "    </tr>\n",
       "  </tbody>\n",
       "</table>\n",
       "</div>"
      ],
      "text/plain": [
       "                    ENTRIES_DIFF  EXITS_DIFF  TOTAL_DIFF\n",
       "STATION DATE                                            \n",
       "1 AV    03/26/2016       14379.0     12567.0     26946.0\n",
       "        03/27/2016       15238.0     13530.0     28768.0\n",
       "        03/28/2016       21823.0     18583.0     40406.0\n",
       "        03/29/2016       23909.0     19799.0     43708.0\n",
       "        03/30/2016       24490.0     20575.0     45065.0"
      ]
     },
     "execution_count": 31,
     "metadata": {},
     "output_type": "execute_result"
    }
   ],
   "source": [
    "df_daily = df_daily.groupby(['STATION','DATE']).sum()\n",
    "df_daily.head()"
   ]
  },
  {
   "cell_type": "markdown",
   "metadata": {},
   "source": [
    "#### Challenge 7\n",
    "\n",
    "Plot the time series for a station."
   ]
  },
  {
   "cell_type": "code",
   "execution_count": 36,
   "metadata": {
    "collapsed": false
   },
   "outputs": [
    {
     "data": {
      "text/html": [
       "<div>\n",
       "<table border=\"1\" class=\"dataframe\">\n",
       "  <thead>\n",
       "    <tr style=\"text-align: right;\">\n",
       "      <th></th>\n",
       "      <th>STATION</th>\n",
       "      <th>DATE</th>\n",
       "      <th>ENTRIES_DIFF</th>\n",
       "      <th>EXITS_DIFF</th>\n",
       "      <th>TOTAL_DIFF</th>\n",
       "    </tr>\n",
       "  </thead>\n",
       "  <tbody>\n",
       "    <tr>\n",
       "      <th>0</th>\n",
       "      <td>1 AV</td>\n",
       "      <td>03/26/2016</td>\n",
       "      <td>14379.0</td>\n",
       "      <td>12567.0</td>\n",
       "      <td>26946.0</td>\n",
       "    </tr>\n",
       "    <tr>\n",
       "      <th>1</th>\n",
       "      <td>1 AV</td>\n",
       "      <td>03/27/2016</td>\n",
       "      <td>15238.0</td>\n",
       "      <td>13530.0</td>\n",
       "      <td>28768.0</td>\n",
       "    </tr>\n",
       "    <tr>\n",
       "      <th>2</th>\n",
       "      <td>1 AV</td>\n",
       "      <td>03/28/2016</td>\n",
       "      <td>21823.0</td>\n",
       "      <td>18583.0</td>\n",
       "      <td>40406.0</td>\n",
       "    </tr>\n",
       "    <tr>\n",
       "      <th>3</th>\n",
       "      <td>1 AV</td>\n",
       "      <td>03/29/2016</td>\n",
       "      <td>23909.0</td>\n",
       "      <td>19799.0</td>\n",
       "      <td>43708.0</td>\n",
       "    </tr>\n",
       "    <tr>\n",
       "      <th>4</th>\n",
       "      <td>1 AV</td>\n",
       "      <td>03/30/2016</td>\n",
       "      <td>24490.0</td>\n",
       "      <td>20575.0</td>\n",
       "      <td>45065.0</td>\n",
       "    </tr>\n",
       "  </tbody>\n",
       "</table>\n",
       "</div>"
      ],
      "text/plain": [
       "  STATION        DATE  ENTRIES_DIFF  EXITS_DIFF  TOTAL_DIFF\n",
       "0    1 AV  03/26/2016       14379.0     12567.0     26946.0\n",
       "1    1 AV  03/27/2016       15238.0     13530.0     28768.0\n",
       "2    1 AV  03/28/2016       21823.0     18583.0     40406.0\n",
       "3    1 AV  03/29/2016       23909.0     19799.0     43708.0\n",
       "4    1 AV  03/30/2016       24490.0     20575.0     45065.0"
      ]
     },
     "execution_count": 36,
     "metadata": {},
     "output_type": "execute_result"
    }
   ],
   "source": [
    "df_daily = df_daily.reset_index()\n",
    "df_daily.head()"
   ]
  },
  {
   "cell_type": "code",
   "execution_count": 37,
   "metadata": {
    "collapsed": false
   },
   "outputs": [
    {
     "data": {
      "text/plain": [
       "[Timestamp('2016-03-26 00:00:00'),\n",
       " Timestamp('2016-03-27 00:00:00'),\n",
       " Timestamp('2016-03-28 00:00:00'),\n",
       " Timestamp('2016-03-29 00:00:00'),\n",
       " Timestamp('2016-03-30 00:00:00'),\n",
       " Timestamp('2016-03-31 00:00:00'),\n",
       " Timestamp('2016-04-01 00:00:00')]"
      ]
     },
     "execution_count": 37,
     "metadata": {},
     "output_type": "execute_result"
    }
   ],
   "source": [
    "dates = df_turnstile['DATE'].tolist()\n",
    "dates"
   ]
  },
  {
   "cell_type": "code",
   "execution_count": 38,
   "metadata": {
    "collapsed": false
   },
   "outputs": [
    {
     "data": {
      "text/plain": [
       "[5.0, 0.0, 1597.0, 2019.0, 1992.0, 772.0, 1491.0]"
      ]
     },
     "execution_count": 38,
     "metadata": {},
     "output_type": "execute_result"
    }
   ],
   "source": [
    "counts = df_turnstile['TOTAL_DIFF'].tolist()\n",
    "counts"
   ]
  },
  {
   "cell_type": "code",
   "execution_count": 39,
   "metadata": {
    "collapsed": false
   },
   "outputs": [
    {
     "data": {
      "text/plain": [
       "[<matplotlib.lines.Line2D at 0x10fc44f10>]"
      ]
     },
     "execution_count": 39,
     "metadata": {},
     "output_type": "execute_result"
    },
    {
     "data": {
      "image/png": "[encoded data removed]",
      "text/plain": [
       "<matplotlib.figure.Figure at 0x10edc4e10>"
      ]
     },
     "metadata": {},
     "output_type": "display_data"
    }
   ],
   "source": [
    "plt.figure(figsize=(10,3))\n",
    "plt.plot(dates,counts)"
   ]
  },
  {
   "cell_type": "markdown",
   "metadata": {},
   "source": [
    "#### Challenge 8\n",
    "\n",
    "Make one list of counts for **one** week for one station. Monday's count, Tuesday's count, etc. so it's a list of 7 counts. \n",
    "\n",
    "Make the same list for another week, and another week, and another\n",
    "week.\n",
    "\n",
    "`plt.plot(week_count_list)` for every `week_count_list` you created this way. You should get a rainbow plot of weekly commute numbers on top of each other."
   ]
  },
  {
   "cell_type": "code",
   "execution_count": null,
   "metadata": {
    "collapsed": true
   },
   "outputs": [],
   "source": []
  }
 ],
 "metadata": {
  "kernelspec": {
   "display_name": "Python 2",
   "language": "python",
   "name": "python2"
  },
  "language_info": {
   "codemirror_mode": {
    "name": "ipython",
    "version": 2
   },
   "file_extension": ".py",
   "mimetype": "text/x-python",
   "name": "python",
   "nbconvert_exporter": "python",
   "pygments_lexer": "ipython2",
   "version": "2.7.11"
  }
 },
 "nbformat": 4,
 "nbformat_minor": 0
}
