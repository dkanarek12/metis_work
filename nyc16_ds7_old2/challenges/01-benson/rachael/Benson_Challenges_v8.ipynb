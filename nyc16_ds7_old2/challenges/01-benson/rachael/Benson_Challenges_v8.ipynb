{
 "cells": [
  {
   "cell_type": "code",
   "execution_count": 243,
   "metadata": {
    "collapsed": true
   },
   "outputs": [],
   "source": [
    "import pandas as pd\n",
    "import numpy as np\n",
    "import csv\n",
    "import os\n",
    "import re\n",
    "from collections import defaultdict\n",
    "import dateutil.parser\n",
    "from datetime import datetime\n",
    "%matplotlib inline\n",
    "import matplotlib.pyplot as plt\n",
    "import calendar"
   ]
  },
  {
   "cell_type": "markdown",
   "metadata": {},
   "source": [
    "# CHALLENGE 1"
   ]
  },
  {
   "cell_type": "code",
   "execution_count": 245,
   "metadata": {
    "collapsed": false
   },
   "outputs": [],
   "source": [
    "mtaDict = defaultdict(list)\n",
    "\n",
    "with open(\"/home/rachaelrho/ds/metis/bensonChallenges/mtaFiles/turnstile_160402.csv\") as csvfile:\n",
    "    reader = csv.reader(csvfile)\n",
    "    reader.next()\n",
    "    for row in reader:\n",
    "        CA = row[0]\n",
    "        UNIT = row[1]\n",
    "        SCP = row[2]\n",
    "        STATION = row[3]\n",
    "        LINENAME = row[4]\n",
    "        DIVISION = row[5]\n",
    "        DATE = row[6]\n",
    "        TIME = row[7]\n",
    "        DESC = row[8]\n",
    "        ENTRIES = row[9]\n",
    "        EXITS = row[10]\n",
    "        mtaDict[(CA, UNIT, SCP, STATION)].append([LINENAME, DIVISION, DATE, TIME, DESC, ENTRIES, EXITS])"
   ]
  },
  {
   "cell_type": "markdown",
   "metadata": {},
   "source": [
    "# CHALLENGE 2"
   ]
  },
  {
   "cell_type": "code",
   "execution_count": 246,
   "metadata": {
    "collapsed": false
   },
   "outputs": [],
   "source": [
    "mtaDict1 = defaultdict(list)\n",
    "\n",
    "for key in mtaDict.iterkeys():\n",
    "    newList = []\n",
    "    for i in range(1,len(mtaDict[key]),1):\n",
    "        date = mtaDict[key][i][2]\n",
    "        time = mtaDict[key][i][3]\n",
    "        newDateTime = datetime.strptime(date + \" \" + time, '%m/%d/%Y %H:%M:%S')\n",
    "        entry = int(mtaDict[key][i][5])\n",
    "        newLine = newDateTime, entry\n",
    "        newList.append(newLine)\n",
    "    mtaDict1[(key)] = newList"
   ]
  },
  {
   "cell_type": "markdown",
   "metadata": {},
   "source": [
    "# CHALLENGE 3"
   ]
  },
  {
   "cell_type": "code",
   "execution_count": 247,
   "metadata": {
    "collapsed": false
   },
   "outputs": [],
   "source": [
    "mtaDict1_count = {turnstile: [[rows[i][0],\n",
    "                                     rows[i+1][1] - rows[i][1],\n",
    "                                     rows[i+1][0] - rows[i][0]]\n",
    "                                    for i in range(len(rows) - 1)]\n",
    "                        for turnstile, rows in mtaDict1.items()}    #make a new dictionary; keys will be the turnstiles, each will have a list of lists, each of which will give date, change in entries from last time, and elasped time"
   ]
  },
  {
   "cell_type": "code",
   "execution_count": 248,
   "metadata": {
    "collapsed": false
   },
   "outputs": [],
   "source": [
    "datetime_counts = {turnstile: [(time, count)\n",
    "                               for (time, count, _) in rows\n",
    "                               if 0 <= count <= 5000]\n",
    "                   for turnstile, rows in mtaDict1_count.items()}    "
   ]
  },
  {
   "cell_type": "markdown",
   "metadata": {},
   "source": [
    "# CHALLENGE 4"
   ]
  },
  {
   "cell_type": "code",
   "execution_count": 249,
   "metadata": {
    "collapsed": false
   },
   "outputs": [
    {
     "data": {
      "text/plain": [
       "[<matplotlib.lines.Line2D at 0x7f773545cb10>]"
      ]
     },
     "execution_count": 249,
     "metadata": {},
     "output_type": "execute_result"
    },
    {
     "data": {
      "image/png": "[encoded data removed]",
      "text/plain": [
       "<matplotlib.figure.Figure at 0x7f774acb7f10>"
      ]
     },
     "metadata": {},
     "output_type": "display_data"
    }
   ],
   "source": [
    "turnstile = ('A002','R051','02-00-00','59 ST')\n",
    "\n",
    "dates = [i[0] for i in datetime_counts[('A002','R051','02-00-00','59 ST')]]\n",
    "counts = [i[1] for i in datetime_counts[('A002','R051','02-00-00','59 ST')]]\n",
    "\n",
    "plt.figure(figsize=(10,3))\n",
    "plt.plot(dates,counts)\n"
   ]
  },
  {
   "cell_type": "markdown",
   "metadata": {},
   "source": [
    "# Using pandas for challenges 5 through 10"
   ]
  },
  {
   "cell_type": "code",
   "execution_count": 250,
   "metadata": {
    "collapsed": false,
    "scrolled": true
   },
   "outputs": [],
   "source": [
    "filepaths = [\"/home/rachaelrho/ds/metis/bensonChallenges/mtaFiles/turnstile_160402.csv\",\n",
    "         \"/home/rachaelrho/ds/metis/bensonChallenges/mtaFiles/turnstile_160326.csv\",\n",
    "         \"/home/rachaelrho/ds/metis/bensonChallenges/mtaFiles/turnstile_160319.csv\"]\n",
    "\n",
    "mtaData = pd.concat((pd.read_csv(file)) for file in filepaths)"
   ]
  },
  {
   "cell_type": "code",
   "execution_count": 254,
   "metadata": {
    "collapsed": false
   },
   "outputs": [],
   "source": [
    "mtaData = mtaData.rename(columns={'EXITS                                                               ':'EXITS'})"
   ]
  },
  {
   "cell_type": "code",
   "execution_count": 255,
   "metadata": {
    "collapsed": true
   },
   "outputs": [],
   "source": [
    "mtaData['DATE'] = pd.to_datetime(mtaData['DATE'])"
   ]
  },
  {
   "cell_type": "code",
   "execution_count": 256,
   "metadata": {
    "collapsed": false
   },
   "outputs": [],
   "source": [
    "stationGroupBy = mtaData.groupby(['C/A','UNIT','SCP','STATION'])\n",
    "\n",
    "for i in ('ENTRIES', 'EXITS'):\n",
    "    mtaData[i + '_diff'] = stationGroupBy[i].transform(pd.Series.diff)\n"
   ]
  },
  {
   "cell_type": "code",
   "execution_count": 257,
   "metadata": {
    "collapsed": false
   },
   "outputs": [],
   "source": [
    "mtaData = mtaData.dropna(subset = ['ENTRIES'])\n",
    "mtaData = mtaData[mtaData.ENTRIES_diff > 0]"
   ]
  },
  {
   "cell_type": "markdown",
   "metadata": {},
   "source": [
    "# CHALLENGE 5"
   ]
  },
  {
   "cell_type": "code",
   "execution_count": 258,
   "metadata": {
    "collapsed": false
   },
   "outputs": [
    {
     "data": {
      "text/html": [
       "<div>\n",
       "<table border=\"1\" class=\"dataframe\">\n",
       "  <thead>\n",
       "    <tr style=\"text-align: right;\">\n",
       "      <th></th>\n",
       "      <th>C/A</th>\n",
       "      <th>UNIT</th>\n",
       "      <th>STATION</th>\n",
       "      <th>DATE</th>\n",
       "      <th>ENTRIES_diff</th>\n",
       "      <th>EXITS_diff</th>\n",
       "    </tr>\n",
       "  </thead>\n",
       "  <tbody>\n",
       "    <tr>\n",
       "      <th>0</th>\n",
       "      <td>A002</td>\n",
       "      <td>R051</td>\n",
       "      <td>59 ST</td>\n",
       "      <td>2016-03-12</td>\n",
       "      <td>10763</td>\n",
       "      <td>6324</td>\n",
       "    </tr>\n",
       "    <tr>\n",
       "      <th>1</th>\n",
       "      <td>A002</td>\n",
       "      <td>R051</td>\n",
       "      <td>59 ST</td>\n",
       "      <td>2016-03-13</td>\n",
       "      <td>7351</td>\n",
       "      <td>4625</td>\n",
       "    </tr>\n",
       "    <tr>\n",
       "      <th>2</th>\n",
       "      <td>A002</td>\n",
       "      <td>R051</td>\n",
       "      <td>59 ST</td>\n",
       "      <td>2016-03-14</td>\n",
       "      <td>15199</td>\n",
       "      <td>9920</td>\n",
       "    </tr>\n",
       "  </tbody>\n",
       "</table>\n",
       "</div>"
      ],
      "text/plain": [
       "    C/A  UNIT STATION       DATE  ENTRIES_diff  EXITS_diff\n",
       "0  A002  R051   59 ST 2016-03-12         10763        6324\n",
       "1  A002  R051   59 ST 2016-03-13          7351        4625\n",
       "2  A002  R051   59 ST 2016-03-14         15199        9920"
      ]
     },
     "execution_count": 258,
     "metadata": {},
     "output_type": "execute_result"
    }
   ],
   "source": [
    "dateGroupBy = mtaData.groupby(['C/A','UNIT','STATION','DATE'], as_index=False)\n",
    "mtaData1 = dateGroupBy[['ENTRIES_diff', 'EXITS_diff']].sum()\n",
    "mtaData1.head(3)"
   ]
  },
  {
   "cell_type": "markdown",
   "metadata": {},
   "source": [
    "# CHALLENGE 6"
   ]
  },
  {
   "cell_type": "code",
   "execution_count": 259,
   "metadata": {
    "collapsed": false
   },
   "outputs": [],
   "source": [
    "stationData = mtaData.groupby(['STATION','DATE'], as_index = False)[['ENTRIES_diff', 'EXITS_diff']].sum()\n",
    "\n",
    "stations = stationData.STATION.unique()\n",
    "#num_lists = len(stations)\n",
    "timeSeriesLists = []\n",
    "\n",
    "for station in stations:\n",
    "    #for i in range(num_lists):\n",
    "    data = stationData[stationData.STATION == station]\n",
    "    timeSeries = np.array(data[['DATE','ENTRIES_diff']])\n",
    "    timeSeriesLists.append(timeSeries)\n"
   ]
  },
  {
   "cell_type": "markdown",
   "metadata": {},
   "source": [
    "# CHALLENGE 7"
   ]
  },
  {
   "cell_type": "code",
   "execution_count": 260,
   "metadata": {
    "collapsed": false
   },
   "outputs": [
    {
     "data": {
      "text/plain": [
       "[<matplotlib.lines.Line2D at 0x7f7730c3d090>]"
      ]
     },
     "execution_count": 260,
     "metadata": {},
     "output_type": "execute_result"
    },
    {
     "data": {
      "image/png": "[encoded data removed]",
      "text/plain": [
       "<matplotlib.figure.Figure at 0x7f774b9514d0>"
      ]
     },
     "metadata": {},
     "output_type": "display_data"
    }
   ],
   "source": [
    "station = stationData[stationData.STATION == '103 ST']\n",
    "z = np.array(station[['DATE','ENTRIES_diff']])\n",
    "timeSeries = zip(*z)\n",
    "xLabel = timeSeries[0]\n",
    "plt.xticks(timeSeries[0],xLabel, rotation = 'vertical')\n",
    "plt.xlabel('Time')\n",
    "plt.ylabel('Total Entries')\n",
    "plt.title(\"Total Entries vs. Time for 103 St. Station\")\n",
    "plt.plot(timeSeries[0],timeSeries[1])\n"
   ]
  },
  {
   "cell_type": "markdown",
   "metadata": {},
   "source": [
    "# CHALLENGE 8"
   ]
  },
  {
   "cell_type": "code",
   "execution_count": 261,
   "metadata": {
    "collapsed": false
   },
   "outputs": [
    {
     "name": "stderr",
     "output_type": "stream",
     "text": [
      "/home/rachaelrho/anaconda/lib/python2.7/site-packages/IPython/kernel/__main__.py:2: SettingWithCopyWarning: \n",
      "A value is trying to be set on a copy of a slice from a DataFrame.\n",
      "Try using .loc[row_indexer,col_indexer] = value instead\n",
      "\n",
      "See the the caveats in the documentation: http://pandas.pydata.org/pandas-docs/stable/indexing.html#indexing-view-versus-copy\n",
      "  from IPython.kernel.zmq import kernelapp as app\n"
     ]
    },
    {
     "data": {
      "text/plain": [
       "<matplotlib.text.Text at 0x7f774bc2b290>"
      ]
     },
     "execution_count": 261,
     "metadata": {},
     "output_type": "execute_result"
    },
    {
     "data": {
      "image/png": "[encoded data removed]",
      "text/plain": [
       "<matplotlib.figure.Figure at 0x7f7748695c10>"
      ]
     },
     "metadata": {},
     "output_type": "display_data"
    }
   ],
   "source": [
    "station = stationData[stationData.STATION == '103 ST']\n",
    "station['DAY'] = station['DATE'].dt.dayofweek ##.apply(lambda x: calendar.day_name[x])\n",
    "\n",
    "##plot\n",
    "\n",
    "plt.clf()\n",
    "\n",
    "week_count_list1 = station.loc[station['DATE'] <= '2016-03-18 00:00:00']\n",
    "week_count_list1 = week_count_list1.sort('DAY', ascending = False)\n",
    "week_count_list2 = station.loc[(station['DATE'] >= '2016-03-19 00:00:00') & (station['DATE'] <= '2016-03-25 00:00:00')]\n",
    "week_count_list2 = week_count_list2.sort('DAY', ascending = False)\n",
    "week_count_list3 = station.loc[(station['DATE'] >= '2016-03-26 00:00:00') & (station['DATE'] <= '2016-04-01 00:00:00')]\n",
    "week_count_list3 = week_count_list3.sort('DAY', ascending = False)\n",
    "\n",
    "plt.plot(week_count_list1['DAY'],week_count_list1['ENTRIES_diff'])\n",
    "plt.plot(week_count_list2['DAY'],week_count_list2['ENTRIES_diff'])\n",
    "plt.plot(week_count_list3['DAY'],week_count_list3['ENTRIES_diff'])\n",
    "\n",
    "xLabel = ['Sunday', 'Monday', 'Tuesday', 'Wednesday', 'Thursday', 'Friday', 'Saturday']\n",
    "plt.xticks(week_count_list1['DAY'],xLabel, rotation = 'vertical')\n",
    "plt.xlabel('Day')\n",
    "plt.ylabel('Total Entries')\n",
    "plt.title(\"Total Entries vs. Day for 103 St. Station\")"
   ]
  },
  {
   "cell_type": "markdown",
   "metadata": {},
   "source": [
    "# CHALLENGE 9"
   ]
  },
  {
   "cell_type": "code",
   "execution_count": 262,
   "metadata": {
    "collapsed": false
   },
   "outputs": [
    {
     "data": {
      "text/html": [
       "<div>\n",
       "<table border=\"1\" class=\"dataframe\">\n",
       "  <thead>\n",
       "    <tr style=\"text-align: right;\">\n",
       "      <th></th>\n",
       "      <th>STATION</th>\n",
       "      <th>ENTRIES_diff</th>\n",
       "    </tr>\n",
       "  </thead>\n",
       "  <tbody>\n",
       "    <tr>\n",
       "      <th>23</th>\n",
       "      <td>167 ST</td>\n",
       "      <td>1771791282</td>\n",
       "    </tr>\n",
       "    <tr>\n",
       "      <th>63</th>\n",
       "      <td>36 ST</td>\n",
       "      <td>302374510</td>\n",
       "    </tr>\n",
       "    <tr>\n",
       "      <th>69</th>\n",
       "      <td>45 ST</td>\n",
       "      <td>285243882</td>\n",
       "    </tr>\n",
       "    <tr>\n",
       "      <th>61</th>\n",
       "      <td>34 ST-PENN STA</td>\n",
       "      <td>237858383</td>\n",
       "    </tr>\n",
       "    <tr>\n",
       "      <th>247</th>\n",
       "      <td>JAMAICA 179 ST</td>\n",
       "      <td>235290772</td>\n",
       "    </tr>\n",
       "    <tr>\n",
       "      <th>104</th>\n",
       "      <td>8 ST-NYU</td>\n",
       "      <td>134539741</td>\n",
       "    </tr>\n",
       "    <tr>\n",
       "      <th>189</th>\n",
       "      <td>COURT SQ</td>\n",
       "      <td>117698790</td>\n",
       "    </tr>\n",
       "    <tr>\n",
       "      <th>122</th>\n",
       "      <td>ATL AV-BARCLAY</td>\n",
       "      <td>66589320</td>\n",
       "    </tr>\n",
       "    <tr>\n",
       "      <th>286</th>\n",
       "      <td>NASSAU ST</td>\n",
       "      <td>50612422</td>\n",
       "    </tr>\n",
       "    <tr>\n",
       "      <th>52</th>\n",
       "      <td>28 ST</td>\n",
       "      <td>12163901</td>\n",
       "    </tr>\n",
       "    <tr>\n",
       "      <th>346</th>\n",
       "      <td>THIRTY ST</td>\n",
       "      <td>12042795</td>\n",
       "    </tr>\n",
       "    <tr>\n",
       "      <th>9</th>\n",
       "      <td>125 ST</td>\n",
       "      <td>9076936</td>\n",
       "    </tr>\n",
       "    <tr>\n",
       "      <th>255</th>\n",
       "      <td>JUNCTION BLVD</td>\n",
       "      <td>5679120</td>\n",
       "    </tr>\n",
       "    <tr>\n",
       "      <th>347</th>\n",
       "      <td>THIRTY THIRD ST</td>\n",
       "      <td>3802966</td>\n",
       "    </tr>\n",
       "    <tr>\n",
       "      <th>186</th>\n",
       "      <td>CONEY IS-STILLW</td>\n",
       "      <td>2761066</td>\n",
       "    </tr>\n",
       "    <tr>\n",
       "      <th>229</th>\n",
       "      <td>GRD CNTRL-42 ST</td>\n",
       "      <td>2659731</td>\n",
       "    </tr>\n",
       "    <tr>\n",
       "      <th>196</th>\n",
       "      <td>DELANCEY/ESSEX</td>\n",
       "      <td>2630346</td>\n",
       "    </tr>\n",
       "    <tr>\n",
       "      <th>351</th>\n",
       "      <td>TWENTY THIRD ST</td>\n",
       "      <td>2466499</td>\n",
       "    </tr>\n",
       "    <tr>\n",
       "      <th>46</th>\n",
       "      <td>23 ST</td>\n",
       "      <td>2285360</td>\n",
       "    </tr>\n",
       "    <tr>\n",
       "      <th>59</th>\n",
       "      <td>34 ST-HERALD SQ</td>\n",
       "      <td>2278247</td>\n",
       "    </tr>\n",
       "    <tr>\n",
       "      <th>248</th>\n",
       "      <td>JAMAICA CENTER</td>\n",
       "      <td>2178667</td>\n",
       "    </tr>\n",
       "    <tr>\n",
       "      <th>120</th>\n",
       "      <td>ASTORIA BLVD</td>\n",
       "      <td>2113935</td>\n",
       "    </tr>\n",
       "    <tr>\n",
       "      <th>68</th>\n",
       "      <td>42 ST-PORT AUTH</td>\n",
       "      <td>2011981</td>\n",
       "    </tr>\n",
       "    <tr>\n",
       "      <th>14</th>\n",
       "      <td>14 ST-UNION SQ</td>\n",
       "      <td>1993006</td>\n",
       "    </tr>\n",
       "    <tr>\n",
       "      <th>216</th>\n",
       "      <td>FOREST HILLS 71</td>\n",
       "      <td>1970339</td>\n",
       "    </tr>\n",
       "    <tr>\n",
       "      <th>109</th>\n",
       "      <td>86 ST</td>\n",
       "      <td>1968166</td>\n",
       "    </tr>\n",
       "    <tr>\n",
       "      <th>348</th>\n",
       "      <td>TIMES SQ-42 ST</td>\n",
       "      <td>1840025</td>\n",
       "    </tr>\n",
       "    <tr>\n",
       "      <th>159</th>\n",
       "      <td>BROAD ST</td>\n",
       "      <td>1741923</td>\n",
       "    </tr>\n",
       "    <tr>\n",
       "      <th>113</th>\n",
       "      <td>96 ST</td>\n",
       "      <td>1631955</td>\n",
       "    </tr>\n",
       "    <tr>\n",
       "      <th>30</th>\n",
       "      <td>176 ST</td>\n",
       "      <td>1619048</td>\n",
       "    </tr>\n",
       "    <tr>\n",
       "      <th>...</th>\n",
       "      <td>...</td>\n",
       "      <td>...</td>\n",
       "    </tr>\n",
       "    <tr>\n",
       "      <th>125</th>\n",
       "      <td>AVENUE I</td>\n",
       "      <td>43923</td>\n",
       "    </tr>\n",
       "    <tr>\n",
       "      <th>372</th>\n",
       "      <td>ZEREGA AV</td>\n",
       "      <td>43732</td>\n",
       "    </tr>\n",
       "    <tr>\n",
       "      <th>296</th>\n",
       "      <td>NEWARK HM HE</td>\n",
       "      <td>41814</td>\n",
       "    </tr>\n",
       "    <tr>\n",
       "      <th>82</th>\n",
       "      <td>55 ST</td>\n",
       "      <td>40936</td>\n",
       "    </tr>\n",
       "    <tr>\n",
       "      <th>168</th>\n",
       "      <td>BUSHWICK AV</td>\n",
       "      <td>40149</td>\n",
       "    </tr>\n",
       "    <tr>\n",
       "      <th>359</th>\n",
       "      <td>W 8 ST-AQUARIUM</td>\n",
       "      <td>39781</td>\n",
       "    </tr>\n",
       "    <tr>\n",
       "      <th>280</th>\n",
       "      <td>MORRIS PARK</td>\n",
       "      <td>39031</td>\n",
       "    </tr>\n",
       "    <tr>\n",
       "      <th>142</th>\n",
       "      <td>BEACH 67 ST</td>\n",
       "      <td>38841</td>\n",
       "    </tr>\n",
       "    <tr>\n",
       "      <th>118</th>\n",
       "      <td>AQUEDUCT RACETR</td>\n",
       "      <td>37914</td>\n",
       "    </tr>\n",
       "    <tr>\n",
       "      <th>276</th>\n",
       "      <td>MIDDLETOWN RD</td>\n",
       "      <td>36829</td>\n",
       "    </tr>\n",
       "    <tr>\n",
       "      <th>138</th>\n",
       "      <td>BEACH 25 ST</td>\n",
       "      <td>36601</td>\n",
       "    </tr>\n",
       "    <tr>\n",
       "      <th>43</th>\n",
       "      <td>215 ST</td>\n",
       "      <td>36275</td>\n",
       "    </tr>\n",
       "    <tr>\n",
       "      <th>365</th>\n",
       "      <td>WHITLOCK AV</td>\n",
       "      <td>32697</td>\n",
       "    </tr>\n",
       "    <tr>\n",
       "      <th>41</th>\n",
       "      <td>21 ST</td>\n",
       "      <td>32635</td>\n",
       "    </tr>\n",
       "    <tr>\n",
       "      <th>288</th>\n",
       "      <td>NEPTUNE AV</td>\n",
       "      <td>32421</td>\n",
       "    </tr>\n",
       "    <tr>\n",
       "      <th>153</th>\n",
       "      <td>BOTANIC GARDEN</td>\n",
       "      <td>31960</td>\n",
       "    </tr>\n",
       "    <tr>\n",
       "      <th>194</th>\n",
       "      <td>CYPRESS HILLS</td>\n",
       "      <td>29024</td>\n",
       "    </tr>\n",
       "    <tr>\n",
       "      <th>123</th>\n",
       "      <td>ATLANTIC AV</td>\n",
       "      <td>27805</td>\n",
       "    </tr>\n",
       "    <tr>\n",
       "      <th>105</th>\n",
       "      <td>80 ST</td>\n",
       "      <td>25774</td>\n",
       "    </tr>\n",
       "    <tr>\n",
       "      <th>117</th>\n",
       "      <td>AQUEDUCT N.COND</td>\n",
       "      <td>21232</td>\n",
       "    </tr>\n",
       "    <tr>\n",
       "      <th>199</th>\n",
       "      <td>E 143/ST MARY'S</td>\n",
       "      <td>19877</td>\n",
       "    </tr>\n",
       "    <tr>\n",
       "      <th>139</th>\n",
       "      <td>BEACH 36 ST</td>\n",
       "      <td>18919</td>\n",
       "    </tr>\n",
       "    <tr>\n",
       "      <th>143</th>\n",
       "      <td>BEACH 90 ST</td>\n",
       "      <td>15137</td>\n",
       "    </tr>\n",
       "    <tr>\n",
       "      <th>349</th>\n",
       "      <td>TOMPKINSVILLE</td>\n",
       "      <td>13951</td>\n",
       "    </tr>\n",
       "    <tr>\n",
       "      <th>140</th>\n",
       "      <td>BEACH 44 ST</td>\n",
       "      <td>12641</td>\n",
       "    </tr>\n",
       "    <tr>\n",
       "      <th>328</th>\n",
       "      <td>ROCKAWAY PARK B</td>\n",
       "      <td>11740</td>\n",
       "    </tr>\n",
       "    <tr>\n",
       "      <th>311</th>\n",
       "      <td>PATH WTC 2</td>\n",
       "      <td>10974</td>\n",
       "    </tr>\n",
       "    <tr>\n",
       "      <th>144</th>\n",
       "      <td>BEACH 98 ST</td>\n",
       "      <td>9384</td>\n",
       "    </tr>\n",
       "    <tr>\n",
       "      <th>158</th>\n",
       "      <td>BROAD CHANNEL</td>\n",
       "      <td>5649</td>\n",
       "    </tr>\n",
       "    <tr>\n",
       "      <th>137</th>\n",
       "      <td>BEACH 105 ST</td>\n",
       "      <td>4492</td>\n",
       "    </tr>\n",
       "  </tbody>\n",
       "</table>\n",
       "<p>373 rows × 2 columns</p>\n",
       "</div>"
      ],
      "text/plain": [
       "             STATION  ENTRIES_diff\n",
       "23            167 ST    1771791282\n",
       "63             36 ST     302374510\n",
       "69             45 ST     285243882\n",
       "61    34 ST-PENN STA     237858383\n",
       "247   JAMAICA 179 ST     235290772\n",
       "104         8 ST-NYU     134539741\n",
       "189         COURT SQ     117698790\n",
       "122   ATL AV-BARCLAY      66589320\n",
       "286        NASSAU ST      50612422\n",
       "52             28 ST      12163901\n",
       "346        THIRTY ST      12042795\n",
       "9             125 ST       9076936\n",
       "255    JUNCTION BLVD       5679120\n",
       "347  THIRTY THIRD ST       3802966\n",
       "186  CONEY IS-STILLW       2761066\n",
       "229  GRD CNTRL-42 ST       2659731\n",
       "196   DELANCEY/ESSEX       2630346\n",
       "351  TWENTY THIRD ST       2466499\n",
       "46             23 ST       2285360\n",
       "59   34 ST-HERALD SQ       2278247\n",
       "248   JAMAICA CENTER       2178667\n",
       "120     ASTORIA BLVD       2113935\n",
       "68   42 ST-PORT AUTH       2011981\n",
       "14    14 ST-UNION SQ       1993006\n",
       "216  FOREST HILLS 71       1970339\n",
       "109            86 ST       1968166\n",
       "348   TIMES SQ-42 ST       1840025\n",
       "159         BROAD ST       1741923\n",
       "113            96 ST       1631955\n",
       "30            176 ST       1619048\n",
       "..               ...           ...\n",
       "125         AVENUE I         43923\n",
       "372        ZEREGA AV         43732\n",
       "296     NEWARK HM HE         41814\n",
       "82             55 ST         40936\n",
       "168      BUSHWICK AV         40149\n",
       "359  W 8 ST-AQUARIUM         39781\n",
       "280      MORRIS PARK         39031\n",
       "142      BEACH 67 ST         38841\n",
       "118  AQUEDUCT RACETR         37914\n",
       "276    MIDDLETOWN RD         36829\n",
       "138      BEACH 25 ST         36601\n",
       "43            215 ST         36275\n",
       "365      WHITLOCK AV         32697\n",
       "41             21 ST         32635\n",
       "288       NEPTUNE AV         32421\n",
       "153   BOTANIC GARDEN         31960\n",
       "194    CYPRESS HILLS         29024\n",
       "123      ATLANTIC AV         27805\n",
       "105            80 ST         25774\n",
       "117  AQUEDUCT N.COND         21232\n",
       "199  E 143/ST MARY'S         19877\n",
       "139      BEACH 36 ST         18919\n",
       "143      BEACH 90 ST         15137\n",
       "349    TOMPKINSVILLE         13951\n",
       "140      BEACH 44 ST         12641\n",
       "328  ROCKAWAY PARK B         11740\n",
       "311       PATH WTC 2         10974\n",
       "144      BEACH 98 ST          9384\n",
       "158    BROAD CHANNEL          5649\n",
       "137     BEACH 105 ST          4492\n",
       "\n",
       "[373 rows x 2 columns]"
      ]
     },
     "execution_count": 262,
     "metadata": {},
     "output_type": "execute_result"
    }
   ],
   "source": [
    "stationDataTotal = stationData.groupby(['STATION'], as_index = False)[['ENTRIES_diff']].sum()\n",
    "stationDataTotal = stationDataTotal.sort('ENTRIES_diff', ascending = False)\n",
    "stationDataTotal"
   ]
  },
  {
   "cell_type": "markdown",
   "metadata": {},
   "source": [
    "# CHALLENGE 10"
   ]
  },
  {
   "cell_type": "code",
   "execution_count": 263,
   "metadata": {
    "collapsed": false
   },
   "outputs": [
    {
     "data": {
      "text/plain": [
       "<matplotlib.text.Text at 0x7f7730bc88d0>"
      ]
     },
     "execution_count": 263,
     "metadata": {},
     "output_type": "execute_result"
    },
    {
     "data": {
      "image/png": "[encoded data removed]",
      "text/plain": [
       "<matplotlib.figure.Figure at 0x7f774adbeed0>"
      ]
     },
     "metadata": {},
     "output_type": "display_data"
    }
   ],
   "source": [
    "total_ridership_counts = np.array(stationDataTotal.ENTRIES_diff)\n",
    "\n",
    "plt.hist(total_ridership_counts)\n",
    "plt.title('Total Ridership Histogram (across all Stations)')\n",
    "plt.xlabel('total ridership')\n",
    "plt.ylabel('frequency')"
   ]
  }
 ],
 "metadata": {
  "kernelspec": {
   "display_name": "Python 2",
   "language": "python",
   "name": "python2"
  },
  "language_info": {
   "codemirror_mode": {
    "name": "ipython",
    "version": 2
   },
   "file_extension": ".py",
   "mimetype": "text/x-python",
   "name": "python",
   "nbconvert_exporter": "python",
   "pygments_lexer": "ipython2",
   "version": "2.7.10"
  }
 },
 "nbformat": 4,
 "nbformat_minor": 0
}
