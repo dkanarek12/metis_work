{
 "cells": [
  {
   "cell_type": "markdown",
   "metadata": {},
   "source": [
    "# What effect will the release of a movie that is based on a book have on future book sales?"
   ]
  },
  {
   "cell_type": "markdown",
   "metadata": {},
   "source": [
    "Since book sales data is not openly available I summed the ranking of where the book fell on the NY Times Bestseller List for each week that it appeared on this list to use as a metric to measure sales.\n",
    "\n",
    "The figure below shows the number of weeks that the book \"The Lincoln Lawyer\" was on the NY Times Bestseller List and the corresponding spot on the list after the release of the movie by the same name. The metric for this movie is 122. "
   ]
  },
  {
   "cell_type": "markdown",
   "metadata": {},
   "source": [
    "<img src=\"files/the_lincoln_lawyer_weekly_bestseller_ranking.png\">"
   ]
  },
  {
   "cell_type": "markdown",
   "metadata": {},
   "source": [
    "The best predictors of this metric seem to be IMDB rating and gross earnings of the movie."
   ]
  },
  {
   "cell_type": "code",
   "execution_count": null,
   "metadata": {
    "collapsed": true
   },
   "outputs": [],
   "source": []
  }
 ],
 "metadata": {
  "kernelspec": {
   "display_name": "Python 2",
   "language": "python",
   "name": "python2"
  },
  "language_info": {
   "codemirror_mode": {
    "name": "ipython",
    "version": 2
   },
   "file_extension": ".py",
   "mimetype": "text/x-python",
   "name": "python",
   "nbconvert_exporter": "python",
   "pygments_lexer": "ipython2",
   "version": "2.7.11"
  }
 },
 "nbformat": 4,
 "nbformat_minor": 0
}
