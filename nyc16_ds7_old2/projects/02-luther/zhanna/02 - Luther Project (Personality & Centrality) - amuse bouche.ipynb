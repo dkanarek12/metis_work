{
 "cells": [
  {
   "cell_type": "markdown",
   "metadata": {},
   "source": [
    "#### Minimum Viable Consulting\n",
    "\n",
    "## Analysis of Personality Influence on Network Centrality\n",
    "\n",
    "\n",
    "\n",
    "I used a multiple linear regression model to describe a Facebook user's importance within his network of friends as a function of his personality traits and his network size."
   ]
  },
  {
   "cell_type": "markdown",
   "metadata": {},
   "source": [
    "A user's personality was measured with respect to the <strong>\"Big 5 Personality Traits</strong>. The table below summarizes each spectrum:"
   ]
  },
  {
   "cell_type": "markdown",
   "metadata": {},
   "source": [
    "\n",
    "\n",
    "\n",
    "<img src=\"Big5.jpg\" alt=\"Drawing\" style=\"width: 500px;\"/>\n",
    "\n"
   ]
  },
  {
   "cell_type": "markdown",
   "metadata": {},
   "source": [
    "A user's importance within his network of friends was proxied by the the <strong>betweeness centrality metric</strong>. As with many metrics invovled in Network Theory, this metric depends on the idea of a \"shortest path\" or \"geodesic.\" In real terms, a shortest path can be understood as the \"path of least resistance\" or \"most direct path\" if one had communicate information (or something else) to another person in the network. If I were Shane and it was Allen's birthday, I wouldn't give the present to Jill to give to Emma to give to Liz to give to Allen, I would give it directly to Liz and she'd pass it directly to Allen. Moreover, there would be no way to give the present to Allen without passing it along to Liz (maybe Allen lives in a different state). Betweenness Centrality scores people as the number of shortest paths from all vertices to all others that pass through that node."
   ]
  },
  {
   "cell_type": "markdown",
   "metadata": {},
   "source": [
    "<img src=\"Betweenness.jpg\" alt=\"Drawing\" style=\"width: 500px;\"/>"
   ]
  },
  {
   "cell_type": "markdown",
   "metadata": {
    "collapsed": true
   },
   "source": [
    "The OLS results summary table suggests that network size is highly influential both alone, squared, and in connection with a user's positive expression of openness. In addition, there also seems to be an influence of neuroticism in connection with conscientiousness."
   ]
  },
  {
   "cell_type": "markdown",
   "metadata": {},
   "source": [
    "<img src=\"SummaryTable.jpg\" alt=\"Drawing\" style=\"width: 500px;\"/>"
   ]
  }
 ],
 "metadata": {
  "kernelspec": {
   "display_name": "Python 2",
   "language": "python",
   "name": "python2"
  },
  "language_info": {
   "codemirror_mode": {
    "name": "ipython",
    "version": 2
   },
   "file_extension": ".py",
   "mimetype": "text/x-python",
   "name": "python",
   "nbconvert_exporter": "python",
   "pygments_lexer": "ipython2",
   "version": "2.7.11"
  }
 },
 "nbformat": 4,
 "nbformat_minor": 0
}
