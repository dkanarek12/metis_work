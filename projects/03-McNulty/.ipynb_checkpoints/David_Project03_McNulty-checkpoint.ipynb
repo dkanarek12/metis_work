{
 "cells": [
  {
   "cell_type": "code",
   "execution_count": 2,
   "metadata": {
    "collapsed": false
   },
   "outputs": [
    {
     "name": "stderr",
     "output_type": "stream",
     "text": [
      "/home/dkanarek/anaconda2/lib/python2.7/site-packages/ipykernel/__main__.py:18: FutureWarning: using '+' to provide set union with Indexes is deprecated, use '|' or .union()\n"
     ]
    },
    {
     "data": {
      "text/html": [
       "<div>\n",
       "<table border=\"1\" class=\"dataframe\">\n",
       "  <thead>\n",
       "    <tr style=\"text-align: right;\">\n",
       "      <th></th>\n",
       "      <th>US1</th>\n",
       "      <th>US2</th>\n",
       "      <th>US3</th>\n",
       "      <th>US4</th>\n",
       "      <th>Class</th>\n",
       "      <th>Class1</th>\n",
       "    </tr>\n",
       "  </thead>\n",
       "  <tbody>\n",
       "    <tr>\n",
       "      <th>0</th>\n",
       "      <td>1.687</td>\n",
       "      <td>0.445</td>\n",
       "      <td>2.332</td>\n",
       "      <td>0.429</td>\n",
       "      <td>Slight-Right-Turn</td>\n",
       "      <td>1</td>\n",
       "    </tr>\n",
       "    <tr>\n",
       "      <th>1</th>\n",
       "      <td>1.687</td>\n",
       "      <td>0.449</td>\n",
       "      <td>2.332</td>\n",
       "      <td>0.429</td>\n",
       "      <td>Slight-Right-Turn</td>\n",
       "      <td>1</td>\n",
       "    </tr>\n",
       "    <tr>\n",
       "      <th>2</th>\n",
       "      <td>1.687</td>\n",
       "      <td>0.449</td>\n",
       "      <td>2.334</td>\n",
       "      <td>0.429</td>\n",
       "      <td>Slight-Right-Turn</td>\n",
       "      <td>1</td>\n",
       "    </tr>\n",
       "    <tr>\n",
       "      <th>3</th>\n",
       "      <td>1.687</td>\n",
       "      <td>0.449</td>\n",
       "      <td>2.334</td>\n",
       "      <td>0.429</td>\n",
       "      <td>Slight-Right-Turn</td>\n",
       "      <td>1</td>\n",
       "    </tr>\n",
       "    <tr>\n",
       "      <th>4</th>\n",
       "      <td>1.687</td>\n",
       "      <td>0.449</td>\n",
       "      <td>2.334</td>\n",
       "      <td>0.429</td>\n",
       "      <td>Slight-Right-Turn</td>\n",
       "      <td>1</td>\n",
       "    </tr>\n",
       "  </tbody>\n",
       "</table>\n",
       "</div>"
      ],
      "text/plain": [
       "     US1    US2    US3    US4              Class  Class1\n",
       "0  1.687  0.445  2.332  0.429  Slight-Right-Turn       1\n",
       "1  1.687  0.449  2.332  0.429  Slight-Right-Turn       1\n",
       "2  1.687  0.449  2.334  0.429  Slight-Right-Turn       1\n",
       "3  1.687  0.449  2.334  0.429  Slight-Right-Turn       1\n",
       "4  1.687  0.449  2.334  0.429  Slight-Right-Turn       1"
      ]
     },
     "execution_count": 2,
     "metadata": {},
     "output_type": "execute_result"
    }
   ],
   "source": [
    "import pandas as pd\n",
    "import numpy as np\n",
    "from collections import defaultdict\n",
    "\n",
    "columns = []\n",
    "for i in range(1,25):\n",
    "    columns.append('US'+str(i))\n",
    "columns.append('Class')\n",
    "\n",
    "d = {'Slight-Right-Turn': 1, 'Sharp-Right-Turn': 2, 'Move-Forward':0, 'Slight-Left-Turn':3}\n",
    "\n",
    "all_sensors  = pd.read_csv('sensor_readings_24.data', header = None, names = columns)\n",
    "#all_sensors.head()\n",
    "sensors_4 = pd.read_csv('sensor_readings_4.data', header = None, names = columns[:4]+columns[-1:])\n",
    "sensors_4['Class1'] =sensors_4['Class'].map(d)\n",
    "\n",
    "col=all_sensors.columns\n",
    "left_front_sensors=all_sensors[col[:3]+col[15:]]\n",
    "sensors_4.head()"
   ]
  },
  {
   "cell_type": "code",
   "execution_count": 4,
   "metadata": {
    "collapsed": false
   },
   "outputs": [
    {
     "name": "stdout",
     "output_type": "stream",
     "text": [
      "1.0\n"
     ]
    }
   ],
   "source": [
    "from sklearn.neighbors import KNeighborsClassifier\n",
    "from sklearn.metrics import accuracy_score\n",
    "from sklearn.metrics import f1_score\n",
    "from sklearn.cross_validation import train_test_split \n",
    "from sklearn.ensemble import RandomForestClassifier\n",
    "from sklearn.tree import DecisionTreeClassifier\n",
    "from sklearn.cross_validation import KFold\n",
    "from sklearn.svm import SVC\n",
    "from sklearn.metrics import precision_recall_fscore_support\n",
    "from sklearn.naive_bayes import GaussianNB\n",
    "from sklearn.metrics import confusion_matrix\n",
    "\n",
    "def Classifier_Acc(features,label,num_data = 3655,classifier = 'RandomForest'):\n",
    "    '''returns the accuracy of the predicted results of the model. percent_data is the perentage \n",
    "        of the data used to create the model'''\n",
    "    classifier_dict = {'RandomForest':RandomForestClassifier(),'DecisionTree':DecisionTreeClassifier(),\n",
    "                       'KNeighbors':KNeighborsClassifier(n_neighbors=1),'SVC':SVC(C = 3),'NaiveBayes':GaussianNB(),\n",
    "                    }\n",
    "    #num_data = int(np.array(features).shape[0]*percent_data)\n",
    "    features_train = features[:num_data]\n",
    "    label_train = label[:num_data]\n",
    "    X_train, X_test, y_train, y_test = train_test_split(features_train, label_train,\n",
    "                                                    test_size=0.33, random_state=42)\n",
    "    model = classifier_dict[classifier]\n",
    "    results = model.fit(X_train, y_train)\n",
    "\n",
    "    return accuracy_score(results.predict(features[3655:]),label[3655:])\n",
    "\n",
    "r= Classifier_Acc(sensors_4[sensors_4.columns[:-2]],sensors_4['Class'],num_data = 5300)\n",
    "print r"
   ]
  },
  {
   "cell_type": "code",
   "execution_count": 7,
   "metadata": {
    "collapsed": false
   },
   "outputs": [
    {
     "name": "stderr",
     "output_type": "stream",
     "text": [
      "/home/dkanarek/anaconda2/lib/python2.7/site-packages/ipykernel/__main__.py:12: FutureWarning: using '+' to provide set union with Indexes is deprecated, use '|' or .union()\n"
     ]
    },
    {
     "data": {
      "text/html": [
       "<div>\n",
       "<table border=\"1\" class=\"dataframe\">\n",
       "  <thead>\n",
       "    <tr style=\"text-align: right;\">\n",
       "      <th></th>\n",
       "      <th>DecisionTree</th>\n",
       "      <th>KNeighbors</th>\n",
       "      <th>RandomForest</th>\n",
       "      <th>SVC</th>\n",
       "      <th>Time_hours</th>\n",
       "    </tr>\n",
       "  </thead>\n",
       "  <tbody>\n",
       "    <tr>\n",
       "      <th>0</th>\n",
       "      <td>0.932815</td>\n",
       "      <td>0.503054</td>\n",
       "      <td>0.689617</td>\n",
       "      <td>0.498057</td>\n",
       "      <td>0.25</td>\n",
       "    </tr>\n",
       "    <tr>\n",
       "      <th>1</th>\n",
       "      <td>0.929484</td>\n",
       "      <td>0.634092</td>\n",
       "      <td>0.930594</td>\n",
       "      <td>0.710161</td>\n",
       "      <td>0.50</td>\n",
       "    </tr>\n",
       "    <tr>\n",
       "      <th>2</th>\n",
       "      <td>0.936702</td>\n",
       "      <td>0.691283</td>\n",
       "      <td>0.936147</td>\n",
       "      <td>0.696835</td>\n",
       "      <td>0.75</td>\n",
       "    </tr>\n",
       "    <tr>\n",
       "      <th>3</th>\n",
       "      <td>0.937257</td>\n",
       "      <td>0.769572</td>\n",
       "      <td>0.928373</td>\n",
       "      <td>0.740144</td>\n",
       "      <td>1.00</td>\n",
       "    </tr>\n",
       "    <tr>\n",
       "      <th>4</th>\n",
       "      <td>0.936702</td>\n",
       "      <td>0.782343</td>\n",
       "      <td>0.936702</td>\n",
       "      <td>0.783454</td>\n",
       "      <td>1.25</td>\n",
       "    </tr>\n",
       "  </tbody>\n",
       "</table>\n",
       "</div>"
      ],
      "text/plain": [
       "   DecisionTree  KNeighbors  RandomForest       SVC  Time_hours\n",
       "0      0.932815    0.503054      0.689617  0.498057        0.25\n",
       "1      0.929484    0.634092      0.930594  0.710161        0.50\n",
       "2      0.936702    0.691283      0.936147  0.696835        0.75\n",
       "3      0.937257    0.769572      0.928373  0.740144        1.00\n",
       "4      0.936702    0.782343      0.936702  0.783454        1.25"
      ]
     },
     "execution_count": 7,
     "metadata": {},
     "output_type": "execute_result"
    }
   ],
   "source": [
    "results_dict = {}\n",
    "classifier_list = ['KNeighbors','SVC','RandomForest','DecisionTree','NaiveBayes']\n",
    "for i in classifier_list:\n",
    "    accuracies = []\n",
    "    for j in range(100,3700,100):\n",
    "        accuracies.append(Classifier_Acc(sensors_4[sensors_4.columns[:-2]],sensors_4['Class'],num_data = j,classifier = i))\n",
    "    results_dict[i]=accuracies[:]\n",
    "\n",
    "results_df = pd.DataFrame(results_dict)\n",
    "results_df['Time_hours']=np.arange(.25,37*.25,.25)\n"
   ]
  },
  {
   "cell_type": "code",
   "execution_count": 15,
   "metadata": {
    "collapsed": false
   },
   "outputs": [],
   "source": [
    "cols = results_df.columns.tolist()\n",
    "cols = cols[-1:]+cols[:-1]\n",
    "\n",
    "results_df = results_df[cols]"
   ]
  },
  {
   "cell_type": "code",
   "execution_count": 16,
   "metadata": {
    "collapsed": false
   },
   "outputs": [],
   "source": [
    "results_df.to_csv('accuracies.tsv',sep = '\\t',index = False)"
   ]
  },
  {
   "cell_type": "code",
   "execution_count": 59,
   "metadata": {
    "collapsed": false
   },
   "outputs": [
    {
     "name": "stderr",
     "output_type": "stream",
     "text": [
      "/home/dkanarek/anaconda2/lib/python2.7/site-packages/ipykernel/__main__.py:2: FutureWarning: using '+' to provide set union with Indexes is deprecated, use '|' or .union()\n",
      "  from ipykernel import kernelapp as app\n"
     ]
    },
    {
     "data": {
      "text/html": [
       "<div>\n",
       "<table border=\"1\" class=\"dataframe\">\n",
       "  <thead>\n",
       "    <tr style=\"text-align: right;\">\n",
       "      <th></th>\n",
       "      <th>US1</th>\n",
       "      <th>US2</th>\n",
       "      <th>Class</th>\n",
       "    </tr>\n",
       "  </thead>\n",
       "  <tbody>\n",
       "    <tr>\n",
       "      <th>0</th>\n",
       "      <td>1.687</td>\n",
       "      <td>0.445</td>\n",
       "      <td>Slight-Right-Turn</td>\n",
       "    </tr>\n",
       "    <tr>\n",
       "      <th>1</th>\n",
       "      <td>1.687</td>\n",
       "      <td>0.449</td>\n",
       "      <td>Slight-Right-Turn</td>\n",
       "    </tr>\n",
       "    <tr>\n",
       "      <th>2</th>\n",
       "      <td>1.687</td>\n",
       "      <td>0.449</td>\n",
       "      <td>Slight-Right-Turn</td>\n",
       "    </tr>\n",
       "    <tr>\n",
       "      <th>3</th>\n",
       "      <td>1.687</td>\n",
       "      <td>0.449</td>\n",
       "      <td>Slight-Right-Turn</td>\n",
       "    </tr>\n",
       "    <tr>\n",
       "      <th>4</th>\n",
       "      <td>1.687</td>\n",
       "      <td>0.449</td>\n",
       "      <td>Slight-Right-Turn</td>\n",
       "    </tr>\n",
       "  </tbody>\n",
       "</table>\n",
       "</div>"
      ],
      "text/plain": [
       "     US1    US2              Class\n",
       "0  1.687  0.445  Slight-Right-Turn\n",
       "1  1.687  0.449  Slight-Right-Turn\n",
       "2  1.687  0.449  Slight-Right-Turn\n",
       "3  1.687  0.449  Slight-Right-Turn\n",
       "4  1.687  0.449  Slight-Right-Turn"
      ]
     },
     "execution_count": 59,
     "metadata": {},
     "output_type": "execute_result"
    }
   ],
   "source": [
    "c=sensors_4.columns\n",
    "c = c[-2:-1]+c[:2]\n",
    "scatter_df = sensors_4[c]\n",
    "cols = scatter_df.columns.tolist()\n",
    "cols = cols[-1:]+cols[:-1]\n",
    "scatter_df = scatter_df[cols]\n",
    "cols = scatter_df.columns.tolist()\n",
    "cols = cols[-1:]+cols[:-1]\n",
    "scatter_df = scatter_df[cols]\n",
    "scatter_df.head()"
   ]
  },
  {
   "cell_type": "code",
   "execution_count": 60,
   "metadata": {
    "collapsed": true
   },
   "outputs": [],
   "source": [
    "scatter_df.to_csv('scatter.tsv',sep = '\\t',index = False)"
   ]
  },
  {
   "cell_type": "code",
   "execution_count": 44,
   "metadata": {
    "collapsed": false
   },
   "outputs": [
    {
     "data": {
      "text/html": [
       "<div>\n",
       "<table border=\"1\" class=\"dataframe\">\n",
       "  <thead>\n",
       "    <tr style=\"text-align: right;\">\n",
       "      <th></th>\n",
       "      <th>Classifier</th>\n",
       "      <th>All</th>\n",
       "      <th>Zones</th>\n",
       "      <th>Left_Front_Only</th>\n",
       "    </tr>\n",
       "  </thead>\n",
       "  <tbody>\n",
       "    <tr>\n",
       "      <th>0</th>\n",
       "      <td>KNeighbors</td>\n",
       "      <td>0.938923</td>\n",
       "      <td>0.977235</td>\n",
       "      <td>0.792893</td>\n",
       "    </tr>\n",
       "    <tr>\n",
       "      <th>1</th>\n",
       "      <td>SVC</td>\n",
       "      <td>0.929484</td>\n",
       "      <td>0.943365</td>\n",
       "      <td>0.855081</td>\n",
       "    </tr>\n",
       "    <tr>\n",
       "      <th>2</th>\n",
       "      <td>RandomForest</td>\n",
       "      <td>0.998334</td>\n",
       "      <td>0.993892</td>\n",
       "      <td>0.979456</td>\n",
       "    </tr>\n",
       "    <tr>\n",
       "      <th>3</th>\n",
       "      <td>DecisionTree</td>\n",
       "      <td>0.998334</td>\n",
       "      <td>0.998334</td>\n",
       "      <td>0.992782</td>\n",
       "    </tr>\n",
       "  </tbody>\n",
       "</table>\n",
       "</div>"
      ],
      "text/plain": [
       "     Classifier       All     Zones  Left_Front_Only\n",
       "0    KNeighbors  0.938923  0.977235         0.792893\n",
       "1           SVC  0.929484  0.943365         0.855081\n",
       "2  RandomForest  0.998334  0.993892         0.979456\n",
       "3  DecisionTree  0.998334  0.998334         0.992782"
      ]
     },
     "execution_count": 44,
     "metadata": {},
     "output_type": "execute_result"
    }
   ],
   "source": [
    "classifier_list = ['KNeighbors','SVC','RandomForest','DecisionTree']\n",
    "f = [sensors_4[sensors_4.columns[:-2]],sensors_4[sensors_4.columns[:-4]],all_sensors[all_sensors.columns[:-1]]]\n",
    "l = [sensors_4['Class'],sensors_4['Class'],all_sensors['Class']]\n",
    "cols = ['All','Zones','Left_Front_Only']\n",
    "bars_df = pd.DataFrame({'Classifier':classifier_list})\n",
    "count = 0\n",
    "for j in range(len(f)):\n",
    "    accuracies = []\n",
    "    for i in classifier_list:\n",
    "        accuracies.append(Classifier_Acc(f[j],l[j],num_data = 3000,classifier = i))\n",
    "    bars_df[cols[count]] = accuracies[:]\n",
    "    count +=1\n",
    "bars_df.head()"
   ]
  },
  {
   "cell_type": "code",
   "execution_count": 46,
   "metadata": {
    "collapsed": true
   },
   "outputs": [],
   "source": [
    "bars_df.to_csv('bars.csv',index = False)"
   ]
  },
  {
   "cell_type": "code",
   "execution_count": 4,
   "metadata": {
    "collapsed": false
   },
   "outputs": [],
   "source": [
    "from sklearn.neighbors import KNeighborsClassifier as knn\n",
    "from sklearn.metrics import accuracy_score\n",
    "from sklearn.cross_validation import train_test_split as tts\n",
    "\n",
    "X_train, X_test, y_train, y_test = tts(all_sensors[all_sensors.columns[:-1]], all_sensors['Class'],\n",
    "                                                    test_size=0.33, random_state=42)\n",
    "\n",
    "accuracies = []\n",
    "r = range(1,21)\n",
    "for i in r:\n",
    "    neigh = knn(n_neighbors=i)\n",
    "    neigh.fit(X_train, y_train) \n",
    "    a = accuracy_score(neigh.predict(X_test),y_test)\n",
    "    accuracies.append(a)"
   ]
  },
  {
   "cell_type": "code",
   "execution_count": 5,
   "metadata": {
    "collapsed": false
   },
   "outputs": [
    {
     "data": {
      "text/plain": [
       "[<matplotlib.lines.Line2D at 0x7f31ba80a150>]"
      ]
     },
     "execution_count": 5,
     "metadata": {},
     "output_type": "execute_result"
    },
    {
     "data": {
      "image/png": "[encoded data removed]",
      "text/plain": [
       "<matplotlib.figure.Figure at 0x7f31c158fa10>"
      ]
     },
     "metadata": {},
     "output_type": "display_data"
    }
   ],
   "source": [
    "import matplotlib.pyplot as plt\n",
    "%matplotlib inline\n",
    "\n",
    "plt.plot(r,accuracies)"
   ]
  },
  {
   "cell_type": "code",
   "execution_count": 44,
   "metadata": {
    "collapsed": false
   },
   "outputs": [
    {
     "name": "stdout",
     "output_type": "stream",
     "text": [
      "1.0\n"
     ]
    }
   ],
   "source": [
    "from sklearn.ensemble import RandomForestClassifier\n",
    "\n",
    "\n",
    "X_train, X_test, y_train, y_test = tts(sensors_4[sensors_4.columns[:-2]], sensors_4['Class'],\n",
    "                                                    test_size=0.33, random_state=42)\n",
    "rfr = RandomForestClassifier()\n",
    "results = rfr.fit(X_train, y_train)\n",
    "\n",
    "print accuracy_score(results.predict(X_test),y_test)\n",
    "p = results.predict(X_test)\n",
    "results_df = pd.DataFrame({'X_pred':p, 'Y_test':y_test})"
   ]
  },
  {
   "cell_type": "code",
   "execution_count": 36,
   "metadata": {
    "collapsed": false
   },
   "outputs": [
    {
     "name": "stdout",
     "output_type": "stream",
     "text": [
      "1.0\n"
     ]
    }
   ],
   "source": [
    "from sklearn.tree import DecisionTreeClassifier\n",
    "\n",
    "dt = DecisionTreeClassifier(criterion = 'entropy')\n",
    "results = dt.fit(X_train, y_train)\n",
    "\n",
    "print accuracy_score(results.predict(X_test),y_test)\n",
    "p = results.predict(X_test)\n",
    "results_df = pd.DataFrame({'X_pred':p, 'Y_test':y_test})"
   ]
  },
  {
   "cell_type": "code",
   "execution_count": 37,
   "metadata": {
    "collapsed": false
   },
   "outputs": [],
   "source": [
    "from sklearn.tree import export_graphviz as eg\n",
    "eg(dt,out_file='tree.dot') "
   ]
  },
  {
   "cell_type": "code",
   "execution_count": 51,
   "metadata": {
    "collapsed": false
   },
   "outputs": [
    {
     "data": {
      "text/plain": [
       "(0, 2)"
      ]
     },
     "execution_count": 51,
     "metadata": {},
     "output_type": "execute_result"
    },
    {
     "data": {
      "image/png": "[encoded data removed]",
      "text/plain": [
       "<matplotlib.figure.Figure at 0x7f31b7ea9a10>"
      ]
     },
     "metadata": {},
     "output_type": "display_data"
    }
   ],
   "source": [
    "U1_slight = sensors_4['US1'].where(sensors_4['Class']=='Slight-Right-Turn').dropna()\n",
    "U2_slight = sensors_4['US2'].where(sensors_4['Class']=='Slight-Right-Turn').dropna()\n",
    "\n",
    "U1_sharp = sensors_4['US1'].where(sensors_4['Class']=='Sharp-Right-Turn').dropna()\n",
    "U2_sharp = sensors_4['US2'].where(sensors_4['Class']=='Sharp-Right-Turn').dropna()\n",
    "\n",
    "U1_straight = sensors_4['US1'].where(sensors_4['Class']=='Move-Forward').dropna()\n",
    "U2_straight = sensors_4['US2'].where(sensors_4['Class']=='Move-Forward').dropna()\n",
    "\n",
    "U1_Left = sensors_4['US1'].where(sensors_4['Class']=='Slight-Left-Turn').dropna()\n",
    "U2_Left = sensors_4['US2'].where(sensors_4['Class']=='Slight-Left-Turn').dropna()\n",
    "\n",
    "plt.scatter(U1_slight,U2_slight,color = 'r', s = .2)\n",
    "plt.scatter(U1_sharp,U2_sharp,s = .1)\n",
    "plt.scatter(U1_straight,U2_straight,color = 'g', s = .2)\n",
    "plt.scatter(U1_Left,U2_Left,color = 'y', s = .2)\n",
    "\n",
    "ind = [[.9005,.9005],[.9005,2],[.9005,2]]\n",
    "dep = [[0,2],[.4945,.4945],[.901,.901]]\n",
    "\n",
    "for i in range(len(ind)):\n",
    "    plt.plot(ind[i],dep[i],linewidth=1,color = 'b')\n",
    "    \n",
    "plt.xlim(0,2)\n",
    "plt.ylim(0,2)"
   ]
  },
  {
   "cell_type": "code",
   "execution_count": 31,
   "metadata": {
    "collapsed": false,
    "scrolled": true
   },
   "outputs": [
    {
     "name": "stdout",
     "output_type": "stream",
     "text": [
      "0.898945030539\n"
     ]
    }
   ],
   "source": [
    "X_train, X_test, y_train, y_test = tts(all_sensors[all_sensors.columns[:-1]], all_sensors['Class'],\n",
    "                                                    test_size=0.33, random_state=42)\n",
    "\n",
    "dt = DecisionTreeClassifier(max_depth = 3)\n",
    "results = dt.fit(X_train, y_train)\n",
    "\n",
    "print accuracy_score(results.predict(X_test),y_test)\n",
    "\n",
    "eg(dt,out_file='tree2.dot') "
   ]
  },
  {
   "cell_type": "code",
   "execution_count": 35,
   "metadata": {
    "collapsed": false
   },
   "outputs": [
    {
     "name": "stdout",
     "output_type": "stream",
     "text": [
      "1.0\n"
     ]
    }
   ],
   "source": [
    "rf = RandomForestClassifier()\n",
    "results = rf.fit(X_train, y_train)\n",
    "\n",
    "print accuracy_score(results.predict(X_test),y_test)"
   ]
  },
  {
   "cell_type": "code",
   "execution_count": null,
   "metadata": {
    "collapsed": true
   },
   "outputs": [],
   "source": []
  }
 ],
 "metadata": {
  "kernelspec": {
   "display_name": "Python 2",
   "language": "python",
   "name": "python2"
  },
  "language_info": {
   "codemirror_mode": {
    "name": "ipython",
    "version": 2
   },
   "file_extension": ".py",
   "mimetype": "text/x-python",
   "name": "python",
   "nbconvert_exporter": "python",
   "pygments_lexer": "ipython2",
   "version": "2.7.11"
  }
 },
 "nbformat": 4,
 "nbformat_minor": 0
}
